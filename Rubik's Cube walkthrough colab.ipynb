{
 "cells": [
  {
   "attachments": {},
   "cell_type": "markdown",
   "id": "c11a4cbb",
   "metadata": {},
   "source": [
    "# Introduction to training on the Rubik's Cube environment\n",
    "<a href=\"https://githubtocolab.com/adsodemelk/umoja23/blob/main/Rubik's%20Cube%20walkthrough.ipynb\" target=\"_parent\"><img src=\"https://colab.research.google.com/assets/colab-badge.svg\" alt=\"Open in Colab\"/></a>"
   ]
  },
  {
   "cell_type": "markdown",
   "id": "a68bc156",
   "metadata": {},
   "source": [
    "This notebook will walk through some examples of how to run training with the model as set up currently, as well as how to make modifications and explore your own solutions."
   ]
  },
  {
   "attachments": {},
   "cell_type": "markdown",
   "id": "1af2dab7",
   "metadata": {},
   "source": [
    "## Download the data and install the module\n",
    "If  you are using Google collab we need to download the dependencies for the colab to run"
   ]
  },
  {
   "cell_type": "code",
   "execution_count": 4,
   "id": "c75afb10",
   "metadata": {},
   "outputs": [
    {
     "name": "stdout",
     "output_type": "stream",
     "text": [
      "Your credentials are invalid. Please run\n",
      "$ gcloud auth login\n",
      "\u001b[31mERROR: Could not open requirements file: [Errno 2] No such file or directory: 'umoja23/requirements/requirements.txt'\u001b[0m\u001b[31m\n",
      "\u001b[0m"
     ]
    }
   ],
   "source": [
    "import os\n",
    "import sys\n",
    "\n",
    "!gsutil cp -r gs://umoja23/ .\n",
    "\n",
    "sys.path.append(os.path.abspath(\"./umoja23\"))\n",
    "\n",
    "!pip install -r umoja23/requirements/requirements.txt\n"
   ]
  },
  {
   "cell_type": "markdown",
   "id": "f848219e",
   "metadata": {},
   "source": [
    "## Imports"
   ]
  },
  {
   "cell_type": "code",
   "execution_count": 2,
   "id": "fd5e7f6c",
   "metadata": {},
   "outputs": [],
   "source": [
    "\n",
    "# Environment\n",
    "from umoja23.rubiks_cube.env import RubiksCube, create_flattened_env\n",
    "import gym\n",
    "import matplotlib.pyplot as plt\n",
    "\n",
    "# Training\n",
    "\n",
    "from umoja23.training.example import main_training\n",
    "from umoja23.training.configs import CUSTOM_MODEL_CONFIG\n",
    "\n",
    "# Evaluation\n",
    "\n",
    "from ray.rllib.algorithms import AlgorithmConfig\n",
    "from ray.rllib.algorithms.ppo import PPO\n",
    "from umoja23.training.configs import get_config, MEDIUM_ENV_CONFIG\n",
    "from umoja23.training.registry import register, _ray\n",
    "from umoja23.evaluation.generate_rollout import main_rollout\n",
    "from umoja23.evaluation.validate_rollout import main_validation\n",
    "\n",
    "%matplotlib inline"
   ]
  },
  {
   "cell_type": "markdown",
   "id": "acf7f6ee",
   "metadata": {},
   "source": [
    "## Introduction to the environment"
   ]
  },
  {
   "cell_type": "markdown",
   "id": "d2b16bd8",
   "metadata": {},
   "source": [
    "The Rubik's Cube is likely a very familiar puzzle to everyone! In case you would like to read more about its history or some of the maths and mechanics behind it, the Wikipedia page is a good starting point: https://en.wikipedia.org/wiki/Rubik%27s_Cube\n",
    "\n",
    "We present here an implementation in python (numpy) that allows you to explore how reinforcement learning can be applied to the problem.\n",
    "\n",
    "First let's instantiate and walk through some of the basic mechanics of the environment. Feel free to consult rubiks_cube/env.py to see details of the implementation."
   ]
  },
  {
   "cell_type": "code",
   "execution_count": 2,
   "id": "742654bb",
   "metadata": {},
   "outputs": [],
   "source": [
    "env = RubiksCube(step_limit=10, reward_function_type=\"sparse\", num_scrambles_on_reset=8)\n",
    "\n",
    "assert isinstance(env, gym.Env)"
   ]
  },
  {
   "cell_type": "markdown",
   "id": "7d21532b",
   "metadata": {},
   "source": [
    "The observation space consists of\n",
    "\n",
    "1: the cube, with ids indicating the colour each sticker. There are 6 faces, each containing 3x3 stickers;\n",
    "\n",
    "2: the step_count, which starts at 0 and increments by 1 on every turn taken, until the environment step_limit is hit (at which point the episode must end).\n",
    "\n",
    "The action space consists of a face to turn, and an amount. Faces can be 6 possible values, and amounts can be 3, corresponding to (in order) clockwise, anti-clockwise, and a half turn.\n",
    "\n",
    "Convention:\n",
    "\n",
    "0 = up face\n",
    "\n",
    "1 = front face\n",
    "\n",
    "2 = right face\n",
    "\n",
    "3 = back face\n",
    "\n",
    "4 = left face\n",
    "\n",
    "5 = down face\n",
    "\n",
    "All read in reading order when looking directly at face\n",
    "\n",
    "To look directly at the faces:\n",
    "\n",
    "UP: LEFT face on the left and BACK face pointing up\n",
    "\n",
    "FRONT: LEFT face on the left and UP face pointing up\n",
    "\n",
    "RIGHT: FRONT face on the left and UP face pointing up\n",
    "\n",
    "BACK: RIGHT face on the left and UP face pointing up\n",
    "\n",
    "LEFT: BACK face on the left and UP face pointing up\n",
    "\n",
    "DOWN: LEFT face on the left and FRONT face pointing up\n",
    "\n",
    "Turn amounts (eg clockwise) are when looking directly at the face."
   ]
  },
  {
   "cell_type": "code",
   "execution_count": 3,
   "id": "3e869aa7",
   "metadata": {},
   "outputs": [
    {
     "name": "stdout",
     "output_type": "stream",
     "text": [
      "Observation space: Dict(cube:Box(0, 5, (6, 3, 3), int8), step_count:Box(0, 10, (1,), int32))\n",
      "Action space: Tuple(Discrete(6), Discrete(3))\n"
     ]
    }
   ],
   "source": [
    "print(f\"Observation space: {env.observation_space}\")\n",
    "print(f\"Action space: {env.action_space}\")"
   ]
  },
  {
   "cell_type": "code",
   "execution_count": 4,
   "id": "4dc30a6a",
   "metadata": {},
   "outputs": [
    {
     "data": {
      "image/png": "[encoded data removed]",
      "text/plain": [
       "<Figure size 600x600 with 6 Axes>"
      ]
     },
     "metadata": {},
     "output_type": "display_data"
    }
   ],
   "source": [
    "# Render the environment\n",
    "\n",
    "obs = env.reset()\n",
    "env.render()"
   ]
  },
  {
   "cell_type": "markdown",
   "id": "36a9cede",
   "metadata": {},
   "source": [
    "As mentioned, an action consists of specifying a face and an amount to turn it by. We can visualise the impact of an action by using the rendering above."
   ]
  },
  {
   "cell_type": "code",
   "execution_count": 5,
   "id": "e9513d6d",
   "metadata": {},
   "outputs": [
    {
     "data": {
      "image/png": "[encoded data removed]",
      "text/plain": [
       "<Figure size 600x600 with 6 Axes>"
      ]
     },
     "metadata": {},
     "output_type": "display_data"
    }
   ],
   "source": [
    "# Don't scramble the cube so it's easier to understand what's happening\n",
    "env = RubiksCube(step_limit=10, reward_function_type=\"sparse\", num_scrambles_on_reset=0)\n",
    "obs = env.reset()\n",
    "env.render()"
   ]
  },
  {
   "cell_type": "code",
   "execution_count": 6,
   "id": "03791ad4",
   "metadata": {},
   "outputs": [
    {
     "data": {
      "image/png": "[encoded data removed]",
      "text/plain": [
       "<Figure size 600x600 with 6 Axes>"
      ]
     },
     "metadata": {},
     "output_type": "display_data"
    }
   ],
   "source": [
    "# Turn the UP face clockwise (by 90 degrees)\n",
    "action = (0, 0)\n",
    "obs, reward, done, info = env.step(action)\n",
    "env.render()"
   ]
  },
  {
   "cell_type": "markdown",
   "id": "2e923adb",
   "metadata": {},
   "source": [
    "By default, the reward function is +1 if the cube is solved, otherwise 0. This is specified by passing reward_function_type to the environment constructor. You can implement your own custom reward function if you think that doing so would better incentivise the agent to learn how to solve the cube! However, be aware that the final evaluation will be purely on how often the cube is solved."
   ]
  },
  {
   "cell_type": "code",
   "execution_count": 7,
   "id": "33585280",
   "metadata": {},
   "outputs": [
    {
     "name": "stdout",
     "output_type": "stream",
     "text": [
      "Reward before solving: 0.0\n",
      "Reward after solving: 1.0\n"
     ]
    }
   ],
   "source": [
    "print(f\"Reward before solving: {reward}\")\n",
    "\n",
    "# Invert the above action\n",
    "action = (0, 1)\n",
    "obs, reward, done, info = env.step(action)\n",
    "print(f\"Reward after solving: {reward}\")"
   ]
  },
  {
   "cell_type": "markdown",
   "id": "cbc561ce",
   "metadata": {},
   "source": [
    "The episode can finish for one of two reasons:\n",
    "\n",
    "1: The cube is solved\n",
    "\n",
    "2: The step limit is hit. In this case, all rewards throughout the episode will be 0"
   ]
  },
  {
   "cell_type": "code",
   "execution_count": 8,
   "id": "19ff7617",
   "metadata": {},
   "outputs": [
    {
     "name": "stdout",
     "output_type": "stream",
     "text": [
      "Above environment has finished? True\n",
      "New environment has finished? False. Reward obtained=0.0\n",
      "New environment has finished? False. Reward obtained=0.0\n",
      "New environment has finished? False. Reward obtained=0.0\n",
      "New environment has finished? False. Reward obtained=0.0\n",
      "New environment has finished? False. Reward obtained=0.0\n",
      "New environment has finished? False. Reward obtained=0.0\n",
      "New environment has finished? False. Reward obtained=0.0\n",
      "New environment has finished? False. Reward obtained=0.0\n",
      "New environment has finished? False. Reward obtained=0.0\n",
      "New environment has finished? True. Reward obtained=0.0\n"
     ]
    }
   ],
   "source": [
    "print(f\"Above environment has finished? {done}\")\n",
    "\n",
    "env = RubiksCube(step_limit=10, reward_function_type=\"sparse\", num_scrambles_on_reset=100)\n",
    "obs = env.reset()\n",
    "done = False\n",
    "while not done:\n",
    "    # Select a random action\n",
    "    action = env.action_space.sample()\n",
    "    obs, reward, done, info = env.step(action)\n",
    "    print(f\"New environment has finished? {done}. Reward obtained={reward}\")"
   ]
  },
  {
   "cell_type": "markdown",
   "id": "b91a7d94",
   "metadata": {},
   "source": [
    "For some models it might be more helpful to \"flatten\" the action space, meaning to have a single integer between 0 and 17 rather than a tuple of integers. For this purpose you can use the already implemented wrapper. To get this behaviour in models below, you will typically want to set FLATTEN_ACTIONS to True in training/configs.py"
   ]
  },
  {
   "cell_type": "code",
   "execution_count": 9,
   "id": "77359d83",
   "metadata": {},
   "outputs": [
    {
     "name": "stdout",
     "output_type": "stream",
     "text": [
      "Discrete(18)\n"
     ]
    }
   ],
   "source": [
    "env = create_flattened_env(dict(step_limit=10, reward_function_type=\"sparse\", num_scrambles_on_reset=100))\n",
    "\n",
    "print(env.action_space)"
   ]
  },
  {
   "cell_type": "markdown",
   "id": "848a8883",
   "metadata": {},
   "source": [
    "Finally, you can combine multiple frames together to create an animation of your Rubik's Cube!"
   ]
  },
  {
   "cell_type": "code",
   "execution_count": 10,
   "id": "695148aa",
   "metadata": {},
   "outputs": [],
   "source": [
    "env = RubiksCube(step_limit=10, reward_function_type=\"sparse\", num_scrambles_on_reset=100)\n",
    "obs = env.reset()\n",
    "cubes = [obs[\"cube\"].copy()]\n",
    "done = False\n",
    "while not done:\n",
    "    action = env.action_space.sample()\n",
    "    obs, reward, done, info = env.step(action)\n",
    "    cubes.append(obs[\"cube\"].copy())\n",
    "\n",
    "anim = env.animation(cubes)\n",
    "anim.save(\"cube.gif\")"
   ]
  },
  {
   "cell_type": "markdown",
   "id": "4d0e96cc",
   "metadata": {},
   "source": [
    "## Training"
   ]
  },
  {
   "cell_type": "markdown",
   "id": "3f5e6a34",
   "metadata": {},
   "source": [
    "The algorithm implemented here is Proximal Policy Optimization (PPO), which is an on-policy reinforcement learning algorithm developed by OpenAI. For more information please consult their page: https://openai.com/research/openai-baselines-ppo. Note that one could equally use other algorithms such as DQN and you encouraged to experiment with this, though it may involve changing other parts of the code such as evaluation/generate_rollout.py.\n",
    "\n",
    "Fundamentally, a PPO agent should implement a policy network and a value network. The policy network maps observations to a parametrisation of the policy that is used to select the next action, whereas the value network maps observations to a single number which is supposed to estimate the expected discounted future reward, and is used to stabilise the training. The model implemented here by default shares most of the parameters between these two networks, though you are encouraged to experiment with different model architectures.\n",
    "\n",
    "To understand the architecture of the model, examine the model class in training/PPO_models.py. By default it will use FactorisedPPOModel, which takes as input the cube and step count from the observation, and produces an encoding of the observation, which will be a fixed size vector of size given by the final entry of dense_layer_dims in the model_config (defined in training.configs.CUSTOM_MODEL_CONFIG). This encoding is projected to a single number for predicting the value. As for the policy, we take advantage of the factorised/conditional structure of the action space to produce first logits for the decision of which face to turn - the model's face_selection_model. Finally, we compute a conditional distribution by concatenating a sampled value of the selected face (encoded as a one-hot) to the encoding and projecting to give logits for the decision of how much to turn the face - the model's cube_movement_amount_selection_model. This model must be used in combination with the FactorisedActionDistribution.\n",
    "\n",
    "Note that if one instead flattens the action space this conditional structure will no longer be present and so one should use a different model like FlatPPOModel, and will not need to specify a custom action distribution (since by default PPO is expecting the model to output logits for a flat action space)."
   ]
  },
  {
   "cell_type": "markdown",
   "id": "1cfe7e3d",
   "metadata": {},
   "source": [
    "### Training your first model"
   ]
  },
  {
   "cell_type": "markdown",
   "id": "2e888c0a",
   "metadata": {},
   "source": [
    "The main training script will write a checkpoint (learned model weights and associated metadata) that you will later be able to use to evaluate training on unseen instances.\n",
    "\n",
    "This script can also be run from the command line; the following command will execute the same code as the python in the cell below:\n",
    "\n",
    "python training/example.py --step_limit 10 --reward_function_type sparse --num_scrambles_on_reset 2 --agent_name PPO --num_iterations 2"
   ]
  },
  {
   "cell_type": "code",
   "execution_count": 11,
   "id": "1a95eed7",
   "metadata": {},
   "outputs": [
    {
     "name": "stderr",
     "output_type": "stream",
     "text": [
      "2023-02-28 14:55:33,228\tINFO worker.py:1529 -- Started a local Ray instance. View the dashboard at \u001b[1m\u001b[32m127.0.0.1:8265 \u001b[39m\u001b[22m\n"
     ]
    },
    {
     "data": {
      "text/html": [],
      "text/plain": [
       "<IPython.core.display.HTML object>"
      ]
     },
     "metadata": {},
     "output_type": "display_data"
    },
    {
     "name": "stderr",
     "output_type": "stream",
     "text": [
      "2023-02-28 14:55:34,404\tINFO algorithm_config.py:2503 -- Your framework setting is 'tf', meaning you are using static-graph mode. Set framework='tf2' to enable eager execution with tf2.x. You may also then want to set eager_tracing=True in order to reach similar execution speed as with static-graph mode.\n",
      "2023-02-28 14:55:34,405\tINFO algorithm_config.py:2503 -- Your framework setting is 'tf', meaning you are using static-graph mode. Set framework='tf2' to enable eager execution with tf2.x. You may also then want to set eager_tracing=True in order to reach similar execution speed as with static-graph mode.\n",
      "2023-02-28 14:55:34,517\tWARNING worker.py:837 -- `ray.get_gpu_ids()` will always return the empty list when called from the driver. This is because Ray does not manage GPU allocations to the driver process.\n",
      ":task_name:bundle_reservation_check_func\n",
      ":actor_name:PPO\n",
      "2023-02-28 14:55:34,577\tWARNING algorithm_config.py:488 -- Cannot create PPOConfig from given `config_dict`! Property __stdout_file__ not supported.\n",
      "2023-02-28 14:55:34,578\tINFO algorithm_config.py:2503 -- Your framework setting is 'tf', meaning you are using static-graph mode. Set framework='tf2' to enable eager execution with tf2.x. You may also then want to set eager_tracing=True in order to reach similar execution speed as with static-graph mode.\n",
      "2023-02-28 14:55:34,581\tINFO algorithm.py:501 -- Current log_level is WARN. For more information, set 'log_level': 'INFO' / 'DEBUG' or use the -v and -vv flags.\n",
      ":actor_name:RolloutWorker\n",
      "2023-02-28 14:55:34,645\tWARNING env.py:147 -- Your env doesn't have a .spec.max_episode_steps attribute. This is fine if you have set 'horizon' in your config dictionary, or `soft_horizon`. However, if you haven't, 'horizon' will default to infinity, and your environment will not be reset.\n"
     ]
    },
    {
     "name": "stdout",
     "output_type": "stream",
     "text": [
      ":task_name:bundle_reservation_check_func\n",
      ":actor_name:PPO\n",
      ":actor_name:RolloutWorker\n",
      "WARNING:tensorflow:From /Users/tristankalloniatis/umojahack2023/venv/lib/python3.9/site-packages/keras/initializers/initializers_v1.py:297: calling RandomUniform.__init__ (from tensorflow.python.ops.init_ops) with dtype is deprecated and will be removed in a future version.\n",
      "Instructions for updating:\n",
      "Call initializer instance with the dtype argument instead of passing it to the constructor\n",
      "Model: \"encoding_model\"\n",
      "__________________________________________________________________________________________________\n",
      " Layer (type)                   Output Shape         Param #     Connected to                     \n",
      "==================================================================================================\n",
      " cube_input (InputLayer)        [(None, 6, 3, 3)]    0           []                               \n",
      "                                                                                                  \n",
      " step_count_input (InputLayer)  [(None, 1)]          0           []                               \n",
      "                                                                                                  \n",
      " embedding (Embedding)          (None, 6, 3, 3, 4)   24          ['cube_input[0][0]']             \n",
      "                                                                                                  \n",
      " tf_op_layer_default_policy_wk1  [(None, 1)]         0           ['step_count_input[0][0]']       \n",
      " /truediv (TensorFlowOpLayer)                                                                     \n",
      "                                                                                                  \n",
      " flatten (Flatten)              (None, 216)          0           ['embedding[0][0]']              \n",
      "                                                                                                  \n",
      " dense (Dense)                  (None, 4)            8           ['tf_op_layer_default_policy_wk1/\n",
      "                                                                 truediv[0][0]']                  \n",
      "                                                                                                  \n",
      " concatenate (Concatenate)      (None, 220)          0           ['flatten[0][0]',                \n",
      "                                                                  'dense[0][0]']                  \n",
      "                                                                                                  \n",
      " dense_1 (Dense)                (None, 32)           7072        ['concatenate[0][0]']            \n",
      "                                                                                                  \n",
      " dense_2 (Dense)                (None, 64)           2112        ['dense_1[0][0]']                \n",
      "                                                                                                  \n",
      " dense_3 (Dense)                (None, 1)            65          ['dense_2[0][0]']                \n",
      "                                                                                                  \n",
      "==================================================================================================\n",
      "Total params: 9,281\n",
      "Trainable params: 9,281\n",
      "Non-trainable params: 0\n",
      "__________________________________________________________________________________________________\n",
      "Model: \"face_selection_model\"\n",
      "_________________________________________________________________\n",
      " Layer (type)                Output Shape              Param #   \n",
      "=================================================================\n",
      " input_1 (InputLayer)        [(None, 64)]              0         \n",
      "                                                                 \n",
      " dense_4 (Dense)             (None, 6)                 390       \n",
      "                                                                 \n",
      "=================================================================\n",
      "Total params: 390\n",
      "Trainable params: 390\n",
      "Non-trainable params: 0\n",
      "_________________________________________________________________\n",
      "Model: \"cube_movement_amount_selection_model\"\n",
      "__________________________________________________________________________________________________\n",
      " Layer (type)                   Output Shape         Param #     Connected to                     \n",
      "==================================================================================================\n",
      " selected_face_input (InputLaye  [(None,)]           0           []                               \n",
      " r)                                                                                               \n",
      "                                                                                                  \n",
      " input_1 (InputLayer)           [(None, 64)]         0           []                               \n",
      "                                                                                                  \n",
      " tf_op_layer_default_policy_wk1  [(None, 6)]         0           ['selected_face_input[0][0]']    \n",
      " /one_hot (TensorFlowOpLayer)                                                                     \n",
      "                                                                                                  \n",
      " tf_op_layer_default_policy_wk1  [(None, 70)]        0           ['input_1[0][0]',                \n",
      " /concat (TensorFlowOpLayer)                                      'tf_op_layer_default_policy_wk1/\n",
      "                                                                 one_hot[0][0]']                  \n",
      "                                                                                                  \n",
      " dense_5 (Dense)                (None, 3)            213         ['tf_op_layer_default_policy_wk1/\n",
      "                                                                 concat[0][0]']                   \n",
      "                                                                                                  \n",
      "==================================================================================================\n",
      "Total params: 213\n",
      "Trainable params: 213\n",
      "Non-trainable params: 0\n",
      "__________________________________________________________________________________________________\n"
     ]
    },
    {
     "name": "stderr",
     "output_type": "stream",
     "text": [
      "2023-02-28 14:55:34,902\tWARNING catalog.py:563 -- Custom ModelV2 should accept all custom options as **kwargs, instead of expecting them in config['custom_model_config']!\n"
     ]
    },
    {
     "name": "stdout",
     "output_type": "stream",
     "text": [
      "Total parameters in model: 9884\n",
      ":actor_name:RolloutWorker\n",
      "Model: \"encoding_model\"\n",
      "__________________________________________________________________________________________________\n",
      " Layer (type)                   Output Shape         Param #     Connected to                     \n",
      "==================================================================================================\n",
      " cube_input (InputLayer)        [(None, 6, 3, 3)]    0           []                               \n",
      "                                                                                                  \n",
      " step_count_input (InputLayer)  [(None, 1)]          0           []                               \n",
      "                                                                                                  \n",
      " embedding (Embedding)          (None, 6, 3, 3, 4)   24          ['cube_input[0][0]']             \n",
      "                                                                                                  \n",
      " tf_op_layer_default_policy_wk2  [(None, 1)]         0           ['step_count_input[0][0]']       \n",
      " /truediv (TensorFlowOpLayer)                                                                     \n",
      "                                                                                                  \n",
      " flatten (Flatten)              (None, 216)          0           ['embedding[0][0]']              \n",
      "                                                                                                  \n",
      " dense (Dense)                  (None, 4)            8           ['tf_op_layer_default_policy_wk2/\n",
      "                                                                 truediv[0][0]']                  \n",
      "                                                                                                  \n",
      " concatenate (Concatenate)      (None, 220)          0           ['flatten[0][0]',                \n",
      "                                                                  'dense[0][0]']                  \n",
      "                                                                                                  \n",
      " dense_1 (Dense)                (None, 32)           7072        ['concatenate[0][0]']            \n",
      "                                                                                                  \n",
      " dense_2 (Dense)                (None, 64)           2112        ['dense_1[0][0]']                \n",
      "                                                                                                  \n",
      " dense_3 (Dense)                (None, 1)            65          ['dense_2[0][0]']                \n",
      "                                                                                                  \n",
      "==================================================================================================\n",
      "Total params: 9,281\n",
      "Trainable params: 9,281\n",
      "Non-trainable params: 0\n",
      "__________________________________________________________________________________________________\n",
      "Model: \"face_selection_model\"\n",
      "_________________________________________________________________\n",
      " Layer (type)                Output Shape              Param #   \n",
      "=================================================================\n",
      " input_1 (InputLayer)        [(None, 64)]              0         \n",
      "                                                                 \n",
      " dense_4 (Dense)             (None, 6)                 390       \n",
      "                                                                 \n",
      "=================================================================\n",
      "Total params: 390\n",
      "Trainable params: 390\n",
      "Non-trainable params: 0\n",
      "_________________________________________________________________\n",
      "Model: \"cube_movement_amount_selection_model\"\n",
      "__________________________________________________________________________________________________\n",
      " Layer (type)                   Output Shape         Param #     Connected to                     \n",
      "==================================================================================================\n",
      " selected_face_input (InputLaye  [(None,)]           0           []                               \n",
      " r)                                                                                               \n",
      "                                                                                                  \n",
      " input_1 (InputLayer)           [(None, 64)]         0           []                               \n",
      "                                                                                                  \n",
      " tf_op_layer_default_policy_wk2  [(None, 6)]         0           ['selected_face_input[0][0]']    \n",
      " /one_hot (TensorFlowOpLayer)                                                                     \n",
      "                                                                                                  \n",
      " tf_op_layer_default_policy_wk2  [(None, 70)]        0           ['input_1[0][0]',                \n",
      " /concat (TensorFlowOpLayer)                                      'tf_op_layer_default_policy_wk2/\n",
      "                                                                 one_hot[0][0]']                  \n",
      "                                                                                                  \n",
      " dense_5 (Dense)                (None, 3)            213         ['tf_op_layer_default_policy_wk2/\n",
      "                                                                 concat[0][0]']                   \n",
      "                                                                                                  \n",
      "==================================================================================================\n",
      "Total params: 213\n",
      "Trainable params: 213\n",
      "Non-trainable params: 0\n",
      "__________________________________________________________________________________________________\n"
     ]
    },
    {
     "name": "stderr",
     "output_type": "stream",
     "text": [
      ":actor_name:RolloutWorker\n",
      "2023-02-28 14:55:36,342\tWARNING catalog.py:563 -- Custom ModelV2 should accept all custom options as **kwargs, instead of expecting them in config['custom_model_config']!\n"
     ]
    },
    {
     "name": "stdout",
     "output_type": "stream",
     "text": [
      "Total parameters in model: 9884\n",
      "Model: \"encoding_model\"\n",
      "__________________________________________________________________________________________________\n",
      " Layer (type)                   Output Shape         Param #     Connected to                     \n",
      "==================================================================================================\n",
      " cube_input (InputLayer)        [(None, 6, 3, 3)]    0           []                               \n",
      "                                                                                                  \n",
      " step_count_input (InputLayer)  [(None, 1)]          0           []                               \n",
      "                                                                                                  \n",
      " embedding (Embedding)          (None, 6, 3, 3, 4)   24          ['cube_input[0][0]']             \n",
      "                                                                                                  \n",
      " tf_op_layer_default_policy/tru  [(None, 1)]         0           ['step_count_input[0][0]']       \n",
      " ediv (TensorFlowOpLayer)                                                                         \n",
      "                                                                                                  \n",
      " flatten (Flatten)              (None, 216)          0           ['embedding[0][0]']              \n",
      "                                                                                                  \n",
      " dense (Dense)                  (None, 4)            8           ['tf_op_layer_default_policy/true\n",
      "                                                                 div[0][0]']                      \n",
      "                                                                                                  \n",
      " concatenate (Concatenate)      (None, 220)          0           ['flatten[0][0]',                \n",
      "                                                                  'dense[0][0]']                  \n",
      "                                                                                                  \n",
      " dense_1 (Dense)                (None, 32)           7072        ['concatenate[0][0]']            \n",
      "                                                                                                  \n",
      " dense_2 (Dense)                (None, 64)           2112        ['dense_1[0][0]']                \n",
      "                                                                                                  \n",
      " dense_3 (Dense)                (None, 1)            65          ['dense_2[0][0]']                \n",
      "                                                                                                  \n",
      "==================================================================================================\n",
      "Total params: 9,281\n",
      "Trainable params: 9,281\n",
      "Non-trainable params: 0\n",
      "__________________________________________________________________________________________________\n",
      "Model: \"face_selection_model\"\n",
      "_________________________________________________________________\n",
      " Layer (type)                Output Shape              Param #   \n",
      "=================================================================\n",
      " input_1 (InputLayer)        [(None, 64)]              0         \n",
      "                                                                 \n",
      " dense_4 (Dense)             (None, 6)                 390       \n",
      "                                                                 \n",
      "=================================================================\n",
      "Total params: 390\n",
      "Trainable params: 390\n",
      "Non-trainable params: 0\n",
      "_________________________________________________________________\n",
      "Model: \"cube_movement_amount_selection_model\"\n",
      "__________________________________________________________________________________________________\n",
      " Layer (type)                   Output Shape         Param #     Connected to                     \n",
      "==================================================================================================\n",
      " selected_face_input (InputLaye  [(None,)]           0           []                               \n",
      " r)                                                                                               \n",
      "                                                                                                  \n",
      " input_1 (InputLayer)           [(None, 64)]         0           []                               \n",
      "                                                                                                  \n",
      " tf_op_layer_default_policy/one  [(None, 6)]         0           ['selected_face_input[0][0]']    \n",
      " _hot (TensorFlowOpLayer)                                                                         \n",
      "                                                                                                  \n",
      " tf_op_layer_default_policy/con  [(None, 70)]        0           ['input_1[0][0]',                \n",
      " cat (TensorFlowOpLayer)                                          'tf_op_layer_default_policy/one_\n",
      "                                                                 hot[0][0]']                      \n",
      "                                                                                                  \n",
      " dense_5 (Dense)                (None, 3)            213         ['tf_op_layer_default_policy/conc\n",
      "                                                                 at[0][0]']                       \n",
      "                                                                                                  \n",
      "==================================================================================================\n",
      "Total params: 213\n",
      "Trainable params: 213\n",
      "Non-trainable params: 0\n",
      "__________________________________________________________________________________________________\n"
     ]
    },
    {
     "name": "stderr",
     "output_type": "stream",
     "text": [
      "2023-02-28 14:55:37,927\tWARNING catalog.py:563 -- Custom ModelV2 should accept all custom options as **kwargs, instead of expecting them in config['custom_model_config']!\n"
     ]
    },
    {
     "name": "stdout",
     "output_type": "stream",
     "text": [
      "Total parameters in model: 9884\n"
     ]
    },
    {
     "name": "stderr",
     "output_type": "stream",
     "text": [
      "2023-02-28 14:55:39,213\tWARNING util.py:66 -- Install gputil for GPU system monitoring.\n",
      ":actor_name:PPO\n"
     ]
    },
    {
     "name": "stdout",
     "output_type": "stream",
     "text": [
      ":actor_name:PPO\n",
      "<IPython.core.display.HTML object>\n",
      "<IPython.core.display.HTML object>\n",
      "<IPython.core.display.HTML object>\n",
      "<IPython.core.display.HTML object>\n"
     ]
    },
    {
     "name": "stderr",
     "output_type": "stream",
     "text": [
      "2023-02-28 14:55:54,896\tINFO tune.py:762 -- Total run time: 20.66 seconds (20.37 seconds for the tuning loop).\n"
     ]
    },
    {
     "name": "stdout",
     "output_type": "stream",
     "text": [
      "<IPython.core.display.HTML object>\n",
      "Results are saved to path /Users/tristankalloniatis/ray_results/PPO/PPO_rubiks_cube_env_f42af_00000_0_2023-02-28_14-55-34\n"
     ]
    }
   ],
   "source": [
    "main_training(\n",
    "    step_limit=10,\n",
    "    reward_function_type=\"sparse\",\n",
    "    num_scrambles_on_reset=2,\n",
    "    model_config=CUSTOM_MODEL_CONFIG,\n",
    "    agent_name=\"PPO\",\n",
    "    num_iterations=2,\n",
    "    restore_path=None,\n",
    ")"
   ]
  },
  {
   "cell_type": "markdown",
   "id": "0bd7ac9c",
   "metadata": {},
   "source": [
    "As you can see there is quite a lot of output! The main highlights are the path to the checkpoint (here the directory is ~/ray_results/PPO/PPO_rubiks_cube_env_f42af_00000_0_2023-02-28_14-55-34), a summary of the model used (which you can override by modifying training/PPO_models.py) and the per iteration results. The latter is a series of metrics summarising what happened during the episode."
   ]
  },
  {
   "cell_type": "markdown",
   "id": "8fc98045",
   "metadata": {},
   "source": [
    "You might find it easier to view these in tensorboard:"
   ]
  },
  {
   "cell_type": "code",
   "execution_count": 12,
   "id": "616d62f8",
   "metadata": {},
   "outputs": [],
   "source": [
    "%load_ext tensorboard"
   ]
  },
  {
   "cell_type": "code",
   "execution_count": 13,
   "id": "f2e637ec",
   "metadata": {},
   "outputs": [
    {
     "name": "stdout",
     "output_type": "stream",
     "text": [
      "Launching TensorBoard...\n",
      "Please visit http://localhost:6006 in a web browser.\n"
     ]
    }
   ],
   "source": [
    "# Can provide a more specific path here, such as ~/ray_results/PPO/PPO_rubiks_cube_env_f42af_00000_0_2023-02-28_14-55-34\n",
    "\n",
    "%tensorboard --logdir ~/ray_results"
   ]
  },
  {
   "cell_type": "markdown",
   "id": "7ed16b41",
   "metadata": {},
   "source": [
    "To see some basic documentation of how to use the main training script, run in terminal:\n",
    "\n",
    "python training/example.py --help"
   ]
  },
  {
   "cell_type": "markdown",
   "id": "86a08922",
   "metadata": {},
   "source": [
    "### Training your second model"
   ]
  },
  {
   "cell_type": "markdown",
   "id": "e542fe73",
   "metadata": {},
   "source": [
    "The library allows you to restore from a checkpoint and continue training, without having to redo the first stages of training. This could be useful in various situations, for example if the training crashed, or if you want to start training on easier environments before progressing to more difficult examples as the agent gets better (curriculum learning). Note that this will only work if the model can stay the same throughout.\n",
    "\n",
    "Let's restore the checkpoint generated above and continue training on a harder environment. We will increase the number of scrambles done to the cube on reset. Note that we must increase the number of training iterations as otherwise there is nothing to do. The results of this training will be written to a new directory.\n",
    "\n",
    "This is equivalent to the following command:\n",
    "\n",
    "python training/example.py --step_limit 10 --reward_function_type sparse --num_scrambles_on_reset 5 --agent_name PPO --num_iterations 4 --restore_path ~/ray_results/PPO/PPO_rubiks_cube_env_f42af_00000_0_2023-02-28_14-55-34/checkpoint_000002"
   ]
  },
  {
   "cell_type": "code",
   "execution_count": 14,
   "id": "8ed9b41b",
   "metadata": {},
   "outputs": [
    {
     "name": "stderr",
     "output_type": "stream",
     "text": [
      "2023-02-28 14:58:18,924\tINFO worker.py:1529 -- Started a local Ray instance. View the dashboard at \u001b[1m\u001b[32m127.0.0.1:8265 \u001b[39m\u001b[22m\n"
     ]
    },
    {
     "name": "stdout",
     "output_type": "stream",
     "text": [
      "<IPython.core.display.HTML object>\n",
      ":task_name:bundle_reservation_check_func\n",
      ":actor_name:PPO\n"
     ]
    },
    {
     "name": "stderr",
     "output_type": "stream",
     "text": [
      ":task_name:bundle_reservation_check_func\n",
      ":actor_name:PPO\n",
      ":actor_name:RolloutWorker\n"
     ]
    },
    {
     "name": "stdout",
     "output_type": "stream",
     "text": [
      ":actor_name:RolloutWorker\n",
      "Model: \"encoding_model\"\n",
      "__________________________________________________________________________________________________\n",
      " Layer (type)                   Output Shape         Param #     Connected to                     \n",
      "==================================================================================================\n",
      " cube_input (InputLayer)        [(None, 6, 3, 3)]    0           []                               \n",
      "                                                                                                  \n",
      " step_count_input (InputLayer)  [(None, 1)]          0           []                               \n",
      "                                                                                                  \n",
      " embedding (Embedding)          (None, 6, 3, 3, 4)   24          ['cube_input[0][0]']             \n",
      "                                                                                                  \n",
      " tf_op_layer_default_policy_wk1  [(None, 1)]         0           ['step_count_input[0][0]']       \n",
      " /truediv (TensorFlowOpLayer)                                                                     \n",
      "                                                                                                  \n",
      " flatten (Flatten)              (None, 216)          0           ['embedding[0][0]']              \n",
      "                                                                                                  \n",
      " dense (Dense)                  (None, 4)            8           ['tf_op_layer_default_policy_wk1/\n",
      "                                                                 truediv[0][0]']                  \n",
      "                                                                                                  \n",
      " concatenate (Concatenate)      (None, 220)          0           ['flatten[0][0]',                \n",
      "                                                                  'dense[0][0]']                  \n",
      "                                                                                                  \n",
      " dense_1 (Dense)                (None, 32)           7072        ['concatenate[0][0]']            \n",
      "                                                                                                  \n",
      " dense_2 (Dense)                (None, 64)           2112        ['dense_1[0][0]']                \n",
      "                                                                                                  \n",
      " dense_3 (Dense)                (None, 1)            65          ['dense_2[0][0]']                \n",
      "                                                                                                  \n",
      "==================================================================================================\n",
      "Total params: 9,281\n",
      "Trainable params: 9,281\n",
      "Non-trainable params: 0\n",
      "__________________________________________________________________________________________________\n",
      "Model: \"face_selection_model\"\n",
      "_________________________________________________________________\n",
      " Layer (type)                Output Shape              Param #   \n",
      "=================================================================\n",
      " input_1 (InputLayer)        [(None, 64)]              0         \n",
      "                                                                 \n",
      " dense_4 (Dense)             (None, 6)                 390       \n",
      "                                                                 \n",
      "=================================================================\n",
      "Total params: 390\n",
      "Trainable params: 390\n",
      "Non-trainable params: 0\n",
      "_________________________________________________________________\n",
      "Model: \"cube_movement_amount_selection_model\"\n",
      "__________________________________________________________________________________________________\n",
      " Layer (type)                   Output Shape         Param #     Connected to                     \n",
      "==================================================================================================\n",
      " selected_face_input (InputLaye  [(None,)]           0           []                               \n",
      " r)                                                                                               \n",
      "                                                                                                  \n",
      " input_1 (InputLayer)           [(None, 64)]         0           []                               \n",
      "                                                                                                  \n",
      " tf_op_layer_default_policy_wk1  [(None, 6)]         0           ['selected_face_input[0][0]']    \n",
      " /one_hot (TensorFlowOpLayer)                                                                     \n",
      "                                                                                                  \n",
      " tf_op_layer_default_policy_wk1  [(None, 70)]        0           ['input_1[0][0]',                \n",
      " /concat (TensorFlowOpLayer)                                      'tf_op_layer_default_policy_wk1/\n",
      "                                                                 one_hot[0][0]']                  \n",
      "                                                                                                  \n",
      " dense_5 (Dense)                (None, 3)            213         ['tf_op_layer_default_policy_wk1/\n",
      "                                                                 concat[0][0]']                   \n",
      "                                                                                                  \n",
      "==================================================================================================\n",
      "Total params: 213\n",
      "Trainable params: 213\n",
      "Non-trainable params: 0\n",
      "__________________________________________________________________________________________________\n"
     ]
    },
    {
     "name": "stderr",
     "output_type": "stream",
     "text": [
      "2023-02-28 14:58:20,435\tWARNING catalog.py:563 -- Custom ModelV2 should accept all custom options as **kwargs, instead of expecting them in config['custom_model_config']!\n"
     ]
    },
    {
     "name": "stdout",
     "output_type": "stream",
     "text": [
      "Total parameters in model: 9884\n",
      ":actor_name:RolloutWorker\n",
      "Model: \"encoding_model\"\n",
      "__________________________________________________________________________________________________\n",
      " Layer (type)                   Output Shape         Param #     Connected to                     \n",
      "==================================================================================================\n",
      " cube_input (InputLayer)        [(None, 6, 3, 3)]    0           []                               \n",
      "                                                                                                  \n",
      " step_count_input (InputLayer)  [(None, 1)]          0           []                               \n",
      "                                                                                                  \n",
      " embedding (Embedding)          (None, 6, 3, 3, 4)   24          ['cube_input[0][0]']             \n",
      "                                                                                                  \n",
      " tf_op_layer_default_policy_wk2  [(None, 1)]         0           ['step_count_input[0][0]']       \n",
      " /truediv (TensorFlowOpLayer)                                                                     \n",
      "                                                                                                  \n",
      " flatten (Flatten)              (None, 216)          0           ['embedding[0][0]']              \n",
      "                                                                                                  \n",
      " dense (Dense)                  (None, 4)            8           ['tf_op_layer_default_policy_wk2/\n",
      "                                                                 truediv[0][0]']                  \n",
      "                                                                                                  \n",
      " concatenate (Concatenate)      (None, 220)          0           ['flatten[0][0]',                \n",
      "                                                                  'dense[0][0]']                  \n",
      "                                                                                                  \n",
      " dense_1 (Dense)                (None, 32)           7072        ['concatenate[0][0]']            \n",
      "                                                                                                  \n",
      " dense_2 (Dense)                (None, 64)           2112        ['dense_1[0][0]']                \n",
      "                                                                                                  \n",
      " dense_3 (Dense)                (None, 1)            65          ['dense_2[0][0]']                \n",
      "                                                                                                  \n",
      "==================================================================================================\n",
      "Total params: 9,281\n",
      "Trainable params: 9,281\n",
      "Non-trainable params: 0\n",
      "__________________________________________________________________________________________________\n",
      "Model: \"face_selection_model\"\n",
      "_________________________________________________________________\n",
      " Layer (type)                Output Shape              Param #   \n",
      "=================================================================\n",
      " input_1 (InputLayer)        [(None, 64)]              0         \n",
      "                                                                 \n",
      " dense_4 (Dense)             (None, 6)                 390       \n",
      "                                                                 \n",
      "=================================================================\n",
      "Total params: 390\n",
      "Trainable params: 390\n",
      "Non-trainable params: 0\n",
      "_________________________________________________________________\n",
      "Model: \"cube_movement_amount_selection_model\"\n",
      "__________________________________________________________________________________________________\n",
      " Layer (type)                   Output Shape         Param #     Connected to                     \n",
      "==================================================================================================\n",
      " selected_face_input (InputLaye  [(None,)]           0           []                               \n",
      " r)                                                                                               \n",
      "                                                                                                  \n",
      " input_1 (InputLayer)           [(None, 64)]         0           []                               \n",
      "                                                                                                  \n",
      " tf_op_layer_default_policy_wk2  [(None, 6)]         0           ['selected_face_input[0][0]']    \n"
     ]
    },
    {
     "name": "stderr",
     "output_type": "stream",
     "text": [
      ":actor_name:RolloutWorker\n"
     ]
    },
    {
     "name": "stdout",
     "output_type": "stream",
     "text": [
      " /one_hot (TensorFlowOpLayer)                                                                     \n",
      "                                                                                                  \n",
      " tf_op_layer_default_policy_wk2  [(None, 70)]        0           ['input_1[0][0]',                \n",
      " /concat (TensorFlowOpLayer)                                      'tf_op_layer_default_policy_wk2/\n",
      "                                                                 one_hot[0][0]']                  \n",
      "                                                                                                  \n",
      " dense_5 (Dense)                (None, 3)            213         ['tf_op_layer_default_policy_wk2/\n",
      "                                                                 concat[0][0]']                   \n",
      "                                                                                                  \n",
      "==================================================================================================\n",
      "Total params: 213\n",
      "Trainable params: 213\n",
      "Non-trainable params: 0\n",
      "__________________________________________________________________________________________________\n"
     ]
    },
    {
     "name": "stderr",
     "output_type": "stream",
     "text": [
      "2023-02-28 14:58:21,940\tWARNING catalog.py:563 -- Custom ModelV2 should accept all custom options as **kwargs, instead of expecting them in config['custom_model_config']!\n"
     ]
    },
    {
     "name": "stdout",
     "output_type": "stream",
     "text": [
      "Total parameters in model: 9884\n",
      "Model: \"encoding_model\"\n",
      "__________________________________________________________________________________________________\n",
      " Layer (type)                   Output Shape         Param #     Connected to                     \n",
      "==================================================================================================\n",
      " cube_input (InputLayer)        [(None, 6, 3, 3)]    0           []                               \n",
      "                                                                                                  \n",
      " step_count_input (InputLayer)  [(None, 1)]          0           []                               \n",
      "                                                                                                  \n",
      " embedding (Embedding)          (None, 6, 3, 3, 4)   24          ['cube_input[0][0]']             \n",
      "                                                                                                  \n",
      " tf_op_layer_default_policy/tru  [(None, 1)]         0           ['step_count_input[0][0]']       \n",
      " ediv (TensorFlowOpLayer)                                                                         \n",
      "                                                                                                  \n",
      " flatten (Flatten)              (None, 216)          0           ['embedding[0][0]']              \n",
      "                                                                                                  \n",
      " dense (Dense)                  (None, 4)            8           ['tf_op_layer_default_policy/true\n",
      "                                                                 div[0][0]']                      \n",
      "                                                                                                  \n",
      " concatenate (Concatenate)      (None, 220)          0           ['flatten[0][0]',                \n",
      "                                                                  'dense[0][0]']                  \n",
      "                                                                                                  \n",
      " dense_1 (Dense)                (None, 32)           7072        ['concatenate[0][0]']            \n",
      "                                                                                                  \n",
      " dense_2 (Dense)                (None, 64)           2112        ['dense_1[0][0]']                \n",
      "                                                                                                  \n",
      " dense_3 (Dense)                (None, 1)            65          ['dense_2[0][0]']                \n",
      "                                                                                                  \n",
      "==================================================================================================\n",
      "Total params: 9,281\n",
      "Trainable params: 9,281\n",
      "Non-trainable params: 0\n",
      "__________________________________________________________________________________________________\n",
      "Model: \"face_selection_model\"\n",
      "_________________________________________________________________\n",
      " Layer (type)                Output Shape              Param #   \n",
      "=================================================================\n",
      " input_1 (InputLayer)        [(None, 64)]              0         \n",
      "                                                                 \n",
      " dense_4 (Dense)             (None, 6)                 390       \n",
      "                                                                 \n",
      "=================================================================\n",
      "Total params: 390\n",
      "Trainable params: 390\n",
      "Non-trainable params: 0\n",
      "_________________________________________________________________\n",
      "Model: \"cube_movement_amount_selection_model\"\n",
      "__________________________________________________________________________________________________\n",
      " Layer (type)                   Output Shape         Param #     Connected to                     \n",
      "==================================================================================================\n",
      " selected_face_input (InputLaye  [(None,)]           0           []                               \n",
      " r)                                                                                               \n",
      "                                                                                                  \n",
      " input_1 (InputLayer)           [(None, 64)]         0           []                               \n",
      "                                                                                                  \n",
      " tf_op_layer_default_policy/one  [(None, 6)]         0           ['selected_face_input[0][0]']    \n",
      " _hot (TensorFlowOpLayer)                                                                         \n",
      "                                                                                                  \n",
      " tf_op_layer_default_policy/con  [(None, 70)]        0           ['input_1[0][0]',                \n",
      " cat (TensorFlowOpLayer)                                          'tf_op_layer_default_policy/one_\n",
      "                                                                 hot[0][0]']                      \n",
      "                                                                                                  \n",
      " dense_5 (Dense)                (None, 3)            213         ['tf_op_layer_default_policy/conc\n",
      "                                                                 at[0][0]']                       \n",
      "                                                                                                  \n",
      "==================================================================================================\n",
      "Total params: 213\n",
      "Trainable params: 213\n",
      "Non-trainable params: 0\n",
      "__________________________________________________________________________________________________\n"
     ]
    },
    {
     "name": "stderr",
     "output_type": "stream",
     "text": [
      "2023-02-28 14:58:23,370\tWARNING catalog.py:563 -- Custom ModelV2 should accept all custom options as **kwargs, instead of expecting them in config['custom_model_config']!\n"
     ]
    },
    {
     "name": "stdout",
     "output_type": "stream",
     "text": [
      "Total parameters in model: 9884\n"
     ]
    },
    {
     "name": "stderr",
     "output_type": "stream",
     "text": [
      "2023-02-28 14:58:24,691\tWARNING util.py:66 -- Install gputil for GPU system monitoring.\n",
      ":actor_name:PPO\n"
     ]
    },
    {
     "name": "stdout",
     "output_type": "stream",
     "text": [
      ":actor_name:PPO\n"
     ]
    },
    {
     "name": "stderr",
     "output_type": "stream",
     "text": [
      "2023-02-28 14:58:24,925\tINFO trainable.py:790 -- Restored on 127.0.0.1 from checkpoint: /var/folders/1s/m4kd9vs10d372fhydp6spjy00000gn/T/checkpoint_tmp_f1a257d966d74528a12ea4f4f75816d2\n",
      "2023-02-28 14:58:24,925\tINFO trainable.py:799 -- Current state after restoring: {'_iteration': 2, '_timesteps_total': None, '_time_total': 15.177699089050293, '_episodes_total': 802}\n",
      "2023-02-28 14:58:24,933\tWARNING util.py:244 -- The `start_trial` operation took 4.843 s, which may be a performance bottleneck.\n"
     ]
    },
    {
     "name": "stdout",
     "output_type": "stream",
     "text": [
      "<IPython.core.display.HTML object>\n"
     ]
    },
    {
     "name": "stderr",
     "output_type": "stream",
     "text": [
      "2023-02-28 14:58:33,027\tWARNING util.py:244 -- The `process_trial_restore` operation took 8.087 s, which may be a performance bottleneck.\n"
     ]
    },
    {
     "name": "stdout",
     "output_type": "stream",
     "text": [
      "<IPython.core.display.HTML object>\n",
      "<IPython.core.display.HTML object>\n",
      "<IPython.core.display.HTML object>\n",
      "<IPython.core.display.HTML object>\n"
     ]
    },
    {
     "name": "stderr",
     "output_type": "stream",
     "text": [
      "2023-02-28 14:58:41,045\tINFO tune.py:762 -- Total run time: 21.11 seconds (20.95 seconds for the tuning loop).\n"
     ]
    },
    {
     "name": "stdout",
     "output_type": "stream",
     "text": [
      "<IPython.core.display.HTML object>\n",
      "Results are saved to path /Users/tristankalloniatis/ray_results/PPO/PPO_rubiks_cube_env_56de1_00000_0_2023-02-28_14-58-20\n"
     ]
    }
   ],
   "source": [
    "main_training(\n",
    "    step_limit=10,\n",
    "    reward_function_type=\"sparse\",\n",
    "    num_scrambles_on_reset=5,\n",
    "    model_config=CUSTOM_MODEL_CONFIG,\n",
    "    agent_name=\"PPO\",\n",
    "    num_iterations=4,\n",
    "    # Replace the below with a path to a checkpoint you have trained\n",
    "    restore_path=\"~/ray_results/PPO/PPO_rubiks_cube_env_f42af_00000_0_2023-02-28_14-55-34/checkpoint_000002/\",\n",
    ")"
   ]
  },
  {
   "cell_type": "markdown",
   "id": "3494a509",
   "metadata": {},
   "source": [
    "Note that only 2 additional iterations of training were performed."
   ]
  },
  {
   "cell_type": "markdown",
   "id": "c4184d73",
   "metadata": {},
   "source": [
    "There is a lot more customisablity available for rllib, feel free to consult documentation at https://docs.ray.io/en/latest/rllib/index.html"
   ]
  },
  {
   "cell_type": "markdown",
   "id": "5b4688ac",
   "metadata": {},
   "source": [
    "## Evaluation"
   ]
  },
  {
   "cell_type": "markdown",
   "id": "4a8c1153",
   "metadata": {},
   "source": [
    "The final stage to is to produce a set of rollouts - that is sequences of actions and new observations that one obtains by repeatedly inferring from a model and taking the corresponding action in the environment. Included below is a simple set of commands that are likely to be useful if you would like to investigate the decisions that your model is making in particular situations."
   ]
  },
  {
   "cell_type": "code",
   "execution_count": 15,
   "id": "6adf83ed",
   "metadata": {},
   "outputs": [
    {
     "name": "stderr",
     "output_type": "stream",
     "text": [
      "2023-03-01 11:29:50,452\tINFO worker.py:1529 -- Started a local Ray instance. View the dashboard at \u001b[1m\u001b[32m127.0.0.1:8265 \u001b[39m\u001b[22m\n"
     ]
    },
    {
     "name": "stdout",
     "output_type": "stream",
     "text": [
      ":actor_name:RolloutWorker\n",
      "Model: \"encoding_model\"\n",
      "__________________________________________________________________________________________________\n",
      " Layer (type)                   Output Shape         Param #     Connected to                     \n",
      "==================================================================================================\n",
      " cube_input (InputLayer)        [(None, 6, 3, 3)]    0           []                               \n",
      "                                                                                                  \n",
      " step_count_input (InputLayer)  [(None, 1)]          0           []                               \n",
      "                                                                                                  \n",
      " embedding (Embedding)          (None, 6, 3, 3, 4)   24          ['cube_input[0][0]']             \n",
      "                                                                                                  \n",
      " tf_op_layer_default_policy_wk1  [(None, 1)]         0           ['step_count_input[0][0]']       \n",
      " /truediv (TensorFlowOpLayer)                                                                     \n",
      "                                                                                                  \n",
      " flatten (Flatten)              (None, 216)          0           ['embedding[0][0]']              \n",
      "                                                                                                  \n",
      " dense (Dense)                  (None, 4)            8           ['tf_op_layer_default_policy_wk1/\n",
      "                                                                 truediv[0][0]']                  \n",
      "                                                                                                  \n",
      " concatenate (Concatenate)      (None, 220)          0           ['flatten[0][0]',                \n",
      "                                                                  'dense[0][0]']                  \n",
      "                                                                                                  \n",
      " dense_1 (Dense)                (None, 32)           7072        ['concatenate[0][0]']            \n",
      "                                                                                                  \n",
      " dense_2 (Dense)                (None, 64)           2112        ['dense_1[0][0]']                \n",
      "                                                                                                  \n",
      " dense_3 (Dense)                (None, 1)            65          ['dense_2[0][0]']                \n",
      "                                                                                                  \n",
      "==================================================================================================\n"
     ]
    },
    {
     "name": "stderr",
     "output_type": "stream",
     "text": [
      ":actor_name:RolloutWorker\n"
     ]
    },
    {
     "name": "stdout",
     "output_type": "stream",
     "text": [
      "Total params: 9,281\n",
      "Trainable params: 9,281\n",
      "Non-trainable params: 0\n",
      "__________________________________________________________________________________________________\n",
      "Model: \"face_selection_model\"\n",
      "_________________________________________________________________\n",
      " Layer (type)                Output Shape              Param #   \n",
      "=================================================================\n",
      " input_1 (InputLayer)        [(None, 64)]              0         \n",
      "                                                                 \n",
      " dense_4 (Dense)             (None, 6)                 390       \n",
      "                                                                 \n",
      "=================================================================\n",
      "Total params: 390\n",
      "Trainable params: 390\n",
      "Non-trainable params: 0\n",
      "_________________________________________________________________\n",
      "Model: \"cube_movement_amount_selection_model\"\n",
      "__________________________________________________________________________________________________\n",
      " Layer (type)                   Output Shape         Param #     Connected to                     \n",
      "==================================================================================================\n",
      " selected_face_input (InputLaye  [(None,)]           0           []                               \n",
      " r)                                                                                               \n",
      "                                                                                                  \n",
      " input_1 (InputLayer)           [(None, 64)]         0           []                               \n",
      "                                                                                                  \n",
      " tf_op_layer_default_policy_wk1  [(None, 6)]         0           ['selected_face_input[0][0]']    \n",
      " /one_hot (TensorFlowOpLayer)                                                                     \n",
      "                                                                                                  \n",
      " tf_op_layer_default_policy_wk1  [(None, 70)]        0           ['input_1[0][0]',                \n",
      " /concat (TensorFlowOpLayer)                                      'tf_op_layer_default_policy_wk1/\n",
      "                                                                 one_hot[0][0]']                  \n",
      "                                                                                                  \n",
      " dense_5 (Dense)                (None, 3)            213         ['tf_op_layer_default_policy_wk1/\n",
      "                                                                 concat[0][0]']                   \n",
      "                                                                                                  \n",
      "==================================================================================================\n",
      "Total params: 213\n",
      "Trainable params: 213\n",
      "Non-trainable params: 0\n",
      "__________________________________________________________________________________________________\n"
     ]
    },
    {
     "name": "stderr",
     "output_type": "stream",
     "text": [
      "2023-03-01 11:29:51,895\tWARNING catalog.py:563 -- Custom ModelV2 should accept all custom options as **kwargs, instead of expecting them in config['custom_model_config']!\n"
     ]
    },
    {
     "name": "stdout",
     "output_type": "stream",
     "text": [
      "Total parameters in model: 9884\n",
      ":actor_name:RolloutWorker\n",
      "Model: \"encoding_model\"\n",
      "__________________________________________________________________________________________________\n",
      " Layer (type)                   Output Shape         Param #     Connected to                     \n",
      "==================================================================================================\n",
      " cube_input (InputLayer)        [(None, 6, 3, 3)]    0           []                               \n",
      "                                                                                                  \n",
      " step_count_input (InputLayer)  [(None, 1)]          0           []                               \n",
      "                                                                                                  \n",
      " embedding (Embedding)          (None, 6, 3, 3, 4)   24          ['cube_input[0][0]']             \n",
      "                                                                                                  \n",
      " tf_op_layer_default_policy_wk2  [(None, 1)]         0           ['step_count_input[0][0]']       \n",
      " /truediv (TensorFlowOpLayer)                                                                     \n",
      "                                                                                                  \n",
      " flatten (Flatten)              (None, 216)          0           ['embedding[0][0]']              \n",
      "                                                                                                  \n",
      " dense (Dense)                  (None, 4)            8           ['tf_op_layer_default_policy_wk2/\n",
      "                                                                 truediv[0][0]']                  \n",
      "                                                                                                  \n",
      " concatenate (Concatenate)      (None, 220)          0           ['flatten[0][0]',                \n",
      "                                                                  'dense[0][0]']                  \n",
      "                                                                                                  \n",
      " dense_1 (Dense)                (None, 32)           7072        ['concatenate[0][0]']            \n",
      "                                                                                                  \n",
      " dense_2 (Dense)                (None, 64)           2112        ['dense_1[0][0]']                \n",
      "                                                                                                  \n",
      " dense_3 (Dense)                (None, 1)            65          ['dense_2[0][0]']                \n",
      "                                                                                                  \n",
      "==================================================================================================\n",
      "Total params: 9,281\n",
      "Trainable params: 9,281\n",
      "Non-trainable params: 0\n",
      "__________________________________________________________________________________________________\n",
      "Model: \"face_selection_model\"\n",
      "_________________________________________________________________\n",
      " Layer (type)                Output Shape              Param #   \n",
      "=================================================================\n",
      " input_1 (InputLayer)        [(None, 64)]              0         \n",
      "                                                                 \n",
      " dense_4 (Dense)             (None, 6)                 390       \n",
      "                                                                 \n",
      "=================================================================\n",
      "Total params: 390\n",
      "Trainable params: 390\n",
      "Non-trainable params: 0\n",
      "_________________________________________________________________\n",
      "Model: \"cube_movement_amount_selection_model\"\n",
      "__________________________________________________________________________________________________\n",
      " Layer (type)                   Output Shape         Param #     Connected to                     \n",
      "==================================================================================================\n",
      " selected_face_input (InputLaye  [(None,)]           0           []                               \n",
      " r)                                                                                               \n",
      "                                                                                                  \n",
      " input_1 (InputLayer)           [(None, 64)]         0           []                               \n",
      "                                                                                                  \n",
      " tf_op_layer_default_policy_wk2  [(None, 6)]         0           ['selected_face_input[0][0]']    \n",
      " /one_hot (TensorFlowOpLayer)                                                                     \n",
      "                                                                                                  \n",
      " tf_op_layer_default_policy_wk2  [(None, 70)]        0           ['input_1[0][0]',                \n",
      " /concat (TensorFlowOpLayer)                                      'tf_op_layer_default_policy_wk2/\n",
      "                                                                 one_hot[0][0]']                  \n",
      "                                                                                                  \n",
      " dense_5 (Dense)                (None, 3)            213         ['tf_op_layer_default_policy_wk2/\n",
      "                                                                 concat[0][0]']                   \n",
      "                                                                                                  \n",
      "==================================================================================================\n",
      "Total params: 213\n",
      "Trainable params: 213\n",
      "Non-trainable params: 0\n",
      "__________________________________________________________________________________________________\n"
     ]
    },
    {
     "name": "stderr",
     "output_type": "stream",
     "text": [
      ":actor_name:RolloutWorker\n",
      "2023-03-01 11:29:53,327\tWARNING catalog.py:563 -- Custom ModelV2 should accept all custom options as **kwargs, instead of expecting them in config['custom_model_config']!\n"
     ]
    },
    {
     "name": "stdout",
     "output_type": "stream",
     "text": [
      "Total parameters in model: 9884\n",
      "Model: \"encoding_model\"\n",
      "__________________________________________________________________________________________________\n",
      " Layer (type)                   Output Shape         Param #     Connected to                     \n",
      "==================================================================================================\n",
      " cube_input (InputLayer)        [(None, 6, 3, 3)]    0           []                               \n",
      "                                                                                                  \n",
      " step_count_input (InputLayer)  [(None, 1)]          0           []                               \n",
      "                                                                                                  \n",
      " embedding (Embedding)          (None, 6, 3, 3, 4)   24          ['cube_input[0][0]']             \n",
      "                                                                                                  \n",
      " tf_op_layer_default_policy/tru  [(None, 1)]         0           ['step_count_input[0][0]']       \n",
      " ediv (TensorFlowOpLayer)                                                                         \n",
      "                                                                                                  \n",
      " flatten (Flatten)              (None, 216)          0           ['embedding[0][0]']              \n",
      "                                                                                                  \n",
      " dense (Dense)                  (None, 4)            8           ['tf_op_layer_default_policy/true\n",
      "                                                                 div[0][0]']                      \n",
      "                                                                                                  \n",
      " concatenate (Concatenate)      (None, 220)          0           ['flatten[0][0]',                \n",
      "                                                                  'dense[0][0]']                  \n",
      "                                                                                                  \n",
      " dense_1 (Dense)                (None, 32)           7072        ['concatenate[0][0]']            \n",
      "                                                                                                  \n",
      " dense_2 (Dense)                (None, 64)           2112        ['dense_1[0][0]']                \n",
      "                                                                                                  \n",
      " dense_3 (Dense)                (None, 1)            65          ['dense_2[0][0]']                \n",
      "                                                                                                  \n",
      "==================================================================================================\n",
      "Total params: 9,281\n",
      "Trainable params: 9,281\n",
      "Non-trainable params: 0\n",
      "__________________________________________________________________________________________________\n",
      "Model: \"face_selection_model\"\n",
      "_________________________________________________________________\n",
      " Layer (type)                Output Shape              Param #   \n",
      "=================================================================\n",
      " input_1 (InputLayer)        [(None, 64)]              0         \n",
      "                                                                 \n",
      " dense_4 (Dense)             (None, 6)                 390       \n",
      "                                                                 \n",
      "=================================================================\n",
      "Total params: 390\n",
      "Trainable params: 390\n",
      "Non-trainable params: 0\n",
      "_________________________________________________________________\n",
      "Model: \"cube_movement_amount_selection_model\"\n",
      "__________________________________________________________________________________________________\n",
      " Layer (type)                   Output Shape         Param #     Connected to                     \n",
      "==================================================================================================\n",
      " selected_face_input (InputLaye  [(None,)]           0           []                               \n",
      " r)                                                                                               \n",
      "                                                                                                  \n",
      " input_1 (InputLayer)           [(None, 64)]         0           []                               \n",
      "                                                                                                  \n",
      " tf_op_layer_default_policy/one  [(None, 6)]         0           ['selected_face_input[0][0]']    \n",
      " _hot (TensorFlowOpLayer)                                                                         \n",
      "                                                                                                  \n",
      " tf_op_layer_default_policy/con  [(None, 70)]        0           ['input_1[0][0]',                \n",
      " cat (TensorFlowOpLayer)                                          'tf_op_layer_default_policy/one_\n",
      "                                                                 hot[0][0]']                      \n",
      "                                                                                                  \n",
      " dense_5 (Dense)                (None, 3)            213         ['tf_op_layer_default_policy/conc\n",
      "                                                                 at[0][0]']                       \n",
      "                                                                                                  \n",
      "==================================================================================================\n",
      "Total params: 213\n",
      "Trainable params: 213\n",
      "Non-trainable params: 0\n",
      "__________________________________________________________________________________________________\n"
     ]
    },
    {
     "name": "stderr",
     "output_type": "stream",
     "text": [
      "2023-03-01 11:29:54,704\tWARNING catalog.py:563 -- Custom ModelV2 should accept all custom options as **kwargs, instead of expecting them in config['custom_model_config']!\n"
     ]
    },
    {
     "name": "stdout",
     "output_type": "stream",
     "text": [
      "Total parameters in model: 9884\n"
     ]
    },
    {
     "name": "stderr",
     "output_type": "stream",
     "text": [
      "2023-03-01 11:29:55,964\tWARNING util.py:66 -- Install gputil for GPU system monitoring.\n",
      "2023-03-01 11:29:56,182\tINFO trainable.py:790 -- Restored on 127.0.0.1 from checkpoint: /Users/tristankalloniatis/ray_results/PPO/PPO_rubiks_cube_env_56de1_00000_0_2023-02-28_14-58-20/checkpoint_000004\n",
      "2023-03-01 11:29:56,183\tINFO trainable.py:799 -- Current state after restoring: {'_iteration': 4, '_timesteps_total': None, '_time_total': 30.701157093048096, '_episodes_total': 1602}\n"
     ]
    }
   ],
   "source": [
    "config = get_config(\n",
    "    env_config=MEDIUM_ENV_CONFIG,\n",
    "    model_config=CUSTOM_MODEL_CONFIG,\n",
    "    agent_name=\"PPO\",\n",
    ")\n",
    "register(agent_name=\"PPO\")\n",
    "with _ray():\n",
    "    agent = PPO(AlgorithmConfig.from_dict(config))\n",
    "    agent.restore(\"/Users/tristankalloniatis/ray_results/PPO/PPO_rubiks_cube_env_56de1_00000_0_2023-02-28_14-58-20/checkpoint_000004/\")\n",
    "    env = RubiksCube(**MEDIUM_ENV_CONFIG)\n",
    "    obs = env.reset()\n",
    "    # Exploration means to sample from the parametrised distribution. Setting it to false picks the modal action\n",
    "    action = agent.compute_single_action(observation=obs, explore=False)"
   ]
  },
  {
   "cell_type": "code",
   "execution_count": 16,
   "id": "208602ec",
   "metadata": {},
   "outputs": [
    {
     "data": {
      "image/png": "[encoded data removed]",
      "text/plain": [
       "<Figure size 600x600 with 6 Axes>"
      ]
     },
     "metadata": {},
     "output_type": "display_data"
    }
   ],
   "source": [
    "env.render()"
   ]
  },
  {
   "cell_type": "code",
   "execution_count": 18,
   "id": "01ae7d93",
   "metadata": {},
   "outputs": [
    {
     "name": "stdout",
     "output_type": "stream",
     "text": [
      "Agent is choosing action (2, 1)\n"
     ]
    }
   ],
   "source": [
    "print(f\"Agent is choosing action {action}\")\n",
    "obs, reward, done, info = env.step(action)"
   ]
  },
  {
   "cell_type": "code",
   "execution_count": 19,
   "id": "def7c234",
   "metadata": {},
   "outputs": [
    {
     "data": {
      "image/png": "[encoded data removed]",
      "text/plain": [
       "<Figure size 600x600 with 6 Axes>"
      ]
     },
     "metadata": {},
     "output_type": "display_data"
    }
   ],
   "source": [
    "env.render()"
   ]
  },
  {
   "cell_type": "markdown",
   "id": "b5cd0420",
   "metadata": {},
   "source": [
    "For a more systematic way of doing this, there is a script which will run this automatically on a collection of increasingly difficult environment configurations and write the result to a file. To use this script, run:\n",
    "\n",
    "python evaluation/generate_rollout.py\n",
    "\n",
    "while specifying command line arguments checkpoint_path (indicating the path to restore from if using a trained model), the results_path (where to write the results of the inference to), the agent_name (can leave blank if using PPO), and the argument --public_seeds to run on the seeds available to you - when submitting, omitting this argument will generate results in the form that the platform will mark on a separate set of inputs to avoid overfitting)."
   ]
  },
  {
   "cell_type": "markdown",
   "id": "ca6a18a4",
   "metadata": {},
   "source": [
    "Finally, you can run the script python evaluation/validate_rollout.py to make sure that the results are given in a format the platform can understand. For more information on how to use this script, run python evaluation/validate_rollout.py --help\n",
    "\n",
    "You can also achieve the same result in this notebook, as per the code below:"
   ]
  },
  {
   "cell_type": "code",
   "execution_count": 20,
   "id": "2d000b27",
   "metadata": {},
   "outputs": [
    {
     "name": "stderr",
     "output_type": "stream",
     "text": [
      "2023-03-01 11:30:35,304\tINFO worker.py:1529 -- Started a local Ray instance. View the dashboard at \u001b[1m\u001b[32m127.0.0.1:8265 \u001b[39m\u001b[22m\n"
     ]
    },
    {
     "name": "stdout",
     "output_type": "stream",
     "text": [
      "Generating rollouts for easy env config...\n",
      ":actor_name:RolloutWorker\n",
      "Model: \"encoding_model\"\n",
      "__________________________________________________________________________________________________\n",
      " Layer (type)                   Output Shape         Param #     Connected to                     \n",
      "==================================================================================================\n",
      " cube_input (InputLayer)        [(None, 6, 3, 3)]    0           []                               \n",
      "                                                                                                  \n",
      " step_count_input (InputLayer)  [(None, 1)]          0           []                               \n",
      "                                                                                                  \n",
      " embedding (Embedding)          (None, 6, 3, 3, 4)   24          ['cube_input[0][0]']             \n",
      "                                                                                                  \n",
      " tf_op_layer_default_policy_wk1  [(None, 1)]         0           ['step_count_input[0][0]']       \n",
      " /truediv (TensorFlowOpLayer)                                                                     \n",
      "                                                                                                  \n",
      " flatten (Flatten)              (None, 216)          0           ['embedding[0][0]']              \n",
      "                                                                                                  \n",
      " dense (Dense)                  (None, 4)            8           ['tf_op_layer_default_policy_wk1/\n",
      "                                                                 truediv[0][0]']                  \n",
      "                                                                                                  \n",
      " concatenate (Concatenate)      (None, 220)          0           ['flatten[0][0]',                \n",
      "                                                                  'dense[0][0]']                  \n",
      "                                                                                                  \n",
      " dense_1 (Dense)                (None, 32)           7072        ['concatenate[0][0]']            \n",
      "                                                                                                  \n",
      " dense_2 (Dense)                (None, 64)           2112        ['dense_1[0][0]']                \n",
      "                                                                                                  \n",
      " dense_3 (Dense)                (None, 1)            65          ['dense_2[0][0]']                \n",
      "                                                                                                  \n",
      "==================================================================================================\n",
      "Total params: 9,281\n",
      "Trainable params: 9,281\n",
      "Non-trainable params: 0\n",
      "__________________________________________________________________________________________________\n",
      "Model: \"face_selection_model\"\n",
      "_________________________________________________________________\n",
      " Layer (type)                Output Shape              Param #   \n",
      "=================================================================\n",
      " input_1 (InputLayer)        [(None, 64)]              0         \n",
      "                                                                 \n",
      " dense_4 (Dense)             (None, 6)                 390       \n",
      "                                                                 \n",
      "=================================================================\n",
      "Total params: 390\n",
      "Trainable params: 390\n",
      "Non-trainable params: 0\n",
      "_________________________________________________________________\n",
      "Model: \"cube_movement_amount_selection_model\"\n",
      "__________________________________________________________________________________________________\n",
      " Layer (type)                   Output Shape         Param #     Connected to                     \n",
      "==================================================================================================\n",
      " selected_face_input (InputLaye  [(None,)]           0           []                               \n",
      " r)                                                                                               \n",
      "                                                                                                  \n",
      " input_1 (InputLayer)           [(None, 64)]         0           []                               \n",
      "                                                                                                  \n"
     ]
    },
    {
     "name": "stderr",
     "output_type": "stream",
     "text": [
      ":actor_name:RolloutWorker\n"
     ]
    },
    {
     "name": "stdout",
     "output_type": "stream",
     "text": [
      " tf_op_layer_default_policy_wk1  [(None, 6)]         0           ['selected_face_input[0][0]']    \n",
      " /one_hot (TensorFlowOpLayer)                                                                     \n",
      "                                                                                                  \n",
      " tf_op_layer_default_policy_wk1  [(None, 70)]        0           ['input_1[0][0]',                \n",
      " /concat (TensorFlowOpLayer)                                      'tf_op_layer_default_policy_wk1/\n",
      "                                                                 one_hot[0][0]']                  \n",
      "                                                                                                  \n",
      " dense_5 (Dense)                (None, 3)            213         ['tf_op_layer_default_policy_wk1/\n",
      "                                                                 concat[0][0]']                   \n",
      "                                                                                                  \n",
      "==================================================================================================\n",
      "Total params: 213\n",
      "Trainable params: 213\n",
      "Non-trainable params: 0\n",
      "__________________________________________________________________________________________________\n"
     ]
    },
    {
     "name": "stderr",
     "output_type": "stream",
     "text": [
      "2023-03-01 11:30:36,735\tWARNING catalog.py:563 -- Custom ModelV2 should accept all custom options as **kwargs, instead of expecting them in config['custom_model_config']!\n"
     ]
    },
    {
     "name": "stdout",
     "output_type": "stream",
     "text": [
      "Total parameters in model: 9884\n",
      ":actor_name:RolloutWorker\n",
      "Model: \"encoding_model\"\n",
      "__________________________________________________________________________________________________\n",
      " Layer (type)                   Output Shape         Param #     Connected to                     \n",
      "==================================================================================================\n",
      " cube_input (InputLayer)        [(None, 6, 3, 3)]    0           []                               \n",
      "                                                                                                  \n",
      " step_count_input (InputLayer)  [(None, 1)]          0           []                               \n",
      "                                                                                                  \n",
      " embedding (Embedding)          (None, 6, 3, 3, 4)   24          ['cube_input[0][0]']             \n",
      "                                                                                                  \n",
      " tf_op_layer_default_policy_wk2  [(None, 1)]         0           ['step_count_input[0][0]']       \n",
      " /truediv (TensorFlowOpLayer)                                                                     \n",
      "                                                                                                  \n",
      " flatten (Flatten)              (None, 216)          0           ['embedding[0][0]']              \n",
      "                                                                                                  \n",
      " dense (Dense)                  (None, 4)            8           ['tf_op_layer_default_policy_wk2/\n",
      "                                                                 truediv[0][0]']                  \n",
      "                                                                                                  \n",
      " concatenate (Concatenate)      (None, 220)          0           ['flatten[0][0]',                \n",
      "                                                                  'dense[0][0]']                  \n",
      "                                                                                                  \n",
      " dense_1 (Dense)                (None, 32)           7072        ['concatenate[0][0]']            \n",
      "                                                                                                  \n",
      " dense_2 (Dense)                (None, 64)           2112        ['dense_1[0][0]']                \n",
      "                                                                                                  \n",
      " dense_3 (Dense)                (None, 1)            65          ['dense_2[0][0]']                \n",
      "                                                                                                  \n",
      "==================================================================================================\n",
      "Total params: 9,281\n",
      "Trainable params: 9,281\n",
      "Non-trainable params: 0\n",
      "__________________________________________________________________________________________________\n",
      "Model: \"face_selection_model\"\n",
      "_________________________________________________________________\n",
      " Layer (type)                Output Shape              Param #   \n",
      "=================================================================\n",
      " input_1 (InputLayer)        [(None, 64)]              0         \n",
      "                                                                 \n",
      " dense_4 (Dense)             (None, 6)                 390       \n",
      "                                                                 \n",
      "=================================================================\n",
      "Total params: 390\n",
      "Trainable params: 390\n",
      "Non-trainable params: 0\n",
      "_________________________________________________________________\n",
      "Model: \"cube_movement_amount_selection_model\"\n",
      "__________________________________________________________________________________________________\n",
      " Layer (type)                   Output Shape         Param #     Connected to                     \n",
      "==================================================================================================\n",
      " selected_face_input (InputLaye  [(None,)]           0           []                               \n"
     ]
    },
    {
     "name": "stderr",
     "output_type": "stream",
     "text": [
      ":actor_name:RolloutWorker\n"
     ]
    },
    {
     "name": "stdout",
     "output_type": "stream",
     "text": [
      " r)                                                                                               \n",
      "                                                                                                  \n",
      " input_1 (InputLayer)           [(None, 64)]         0           []                               \n",
      "                                                                                                  \n",
      " tf_op_layer_default_policy_wk2  [(None, 6)]         0           ['selected_face_input[0][0]']    \n",
      " /one_hot (TensorFlowOpLayer)                                                                     \n",
      "                                                                                                  \n",
      " tf_op_layer_default_policy_wk2  [(None, 70)]        0           ['input_1[0][0]',                \n",
      " /concat (TensorFlowOpLayer)                                      'tf_op_layer_default_policy_wk2/\n",
      "                                                                 one_hot[0][0]']                  \n",
      "                                                                                                  \n",
      " dense_5 (Dense)                (None, 3)            213         ['tf_op_layer_default_policy_wk2/\n",
      "                                                                 concat[0][0]']                   \n",
      "                                                                                                  \n",
      "==================================================================================================\n",
      "Total params: 213\n",
      "Trainable params: 213\n",
      "Non-trainable params: 0\n",
      "__________________________________________________________________________________________________\n"
     ]
    },
    {
     "name": "stderr",
     "output_type": "stream",
     "text": [
      "2023-03-01 11:30:38,256\tWARNING catalog.py:563 -- Custom ModelV2 should accept all custom options as **kwargs, instead of expecting them in config['custom_model_config']!\n"
     ]
    },
    {
     "name": "stdout",
     "output_type": "stream",
     "text": [
      "Total parameters in model: 9884\n",
      "Model: \"encoding_model\"\n",
      "__________________________________________________________________________________________________\n",
      " Layer (type)                   Output Shape         Param #     Connected to                     \n",
      "==================================================================================================\n",
      " cube_input (InputLayer)        [(None, 6, 3, 3)]    0           []                               \n",
      "                                                                                                  \n",
      " step_count_input (InputLayer)  [(None, 1)]          0           []                               \n",
      "                                                                                                  \n",
      " embedding (Embedding)          (None, 6, 3, 3, 4)   24          ['cube_input[0][0]']             \n",
      "                                                                                                  \n",
      " tf_op_layer_default_policy/tru  [(None, 1)]         0           ['step_count_input[0][0]']       \n",
      " ediv (TensorFlowOpLayer)                                                                         \n",
      "                                                                                                  \n",
      " flatten (Flatten)              (None, 216)          0           ['embedding[0][0]']              \n",
      "                                                                                                  \n",
      " dense (Dense)                  (None, 4)            8           ['tf_op_layer_default_policy/true\n",
      "                                                                 div[0][0]']                      \n",
      "                                                                                                  \n",
      " concatenate (Concatenate)      (None, 220)          0           ['flatten[0][0]',                \n",
      "                                                                  'dense[0][0]']                  \n",
      "                                                                                                  \n",
      " dense_1 (Dense)                (None, 32)           7072        ['concatenate[0][0]']            \n",
      "                                                                                                  \n",
      " dense_2 (Dense)                (None, 64)           2112        ['dense_1[0][0]']                \n",
      "                                                                                                  \n",
      " dense_3 (Dense)                (None, 1)            65          ['dense_2[0][0]']                \n",
      "                                                                                                  \n",
      "==================================================================================================\n",
      "Total params: 9,281\n",
      "Trainable params: 9,281\n",
      "Non-trainable params: 0\n",
      "__________________________________________________________________________________________________\n",
      "Model: \"face_selection_model\"\n",
      "_________________________________________________________________\n",
      " Layer (type)                Output Shape              Param #   \n",
      "=================================================================\n",
      " input_1 (InputLayer)        [(None, 64)]              0         \n",
      "                                                                 \n",
      " dense_4 (Dense)             (None, 6)                 390       \n",
      "                                                                 \n",
      "=================================================================\n",
      "Total params: 390\n",
      "Trainable params: 390\n",
      "Non-trainable params: 0\n",
      "_________________________________________________________________\n",
      "Model: \"cube_movement_amount_selection_model\"\n",
      "__________________________________________________________________________________________________\n",
      " Layer (type)                   Output Shape         Param #     Connected to                     \n",
      "==================================================================================================\n",
      " selected_face_input (InputLaye  [(None,)]           0           []                               \n",
      " r)                                                                                               \n",
      "                                                                                                  \n",
      " input_1 (InputLayer)           [(None, 64)]         0           []                               \n",
      "                                                                                                  \n",
      " tf_op_layer_default_policy/one  [(None, 6)]         0           ['selected_face_input[0][0]']    \n",
      " _hot (TensorFlowOpLayer)                                                                         \n",
      "                                                                                                  \n",
      " tf_op_layer_default_policy/con  [(None, 70)]        0           ['input_1[0][0]',                \n",
      " cat (TensorFlowOpLayer)                                          'tf_op_layer_default_policy/one_\n",
      "                                                                 hot[0][0]']                      \n",
      "                                                                                                  \n",
      " dense_5 (Dense)                (None, 3)            213         ['tf_op_layer_default_policy/conc\n",
      "                                                                 at[0][0]']                       \n",
      "                                                                                                  \n",
      "==================================================================================================\n",
      "Total params: 213\n",
      "Trainable params: 213\n",
      "Non-trainable params: 0\n",
      "__________________________________________________________________________________________________\n"
     ]
    },
    {
     "name": "stderr",
     "output_type": "stream",
     "text": [
      "2023-03-01 11:30:40,023\tWARNING catalog.py:563 -- Custom ModelV2 should accept all custom options as **kwargs, instead of expecting them in config['custom_model_config']!\n"
     ]
    },
    {
     "name": "stdout",
     "output_type": "stream",
     "text": [
      "Total parameters in model: 9884\n"
     ]
    },
    {
     "name": "stderr",
     "output_type": "stream",
     "text": [
      "2023-03-01 11:30:41,306\tWARNING util.py:66 -- Install gputil for GPU system monitoring.\n",
      "2023-03-01 11:30:41,524\tINFO trainable.py:790 -- Restored on 127.0.0.1 from checkpoint: /Users/tristankalloniatis/ray_results/PPO/PPO_rubiks_cube_env_56de1_00000_0_2023-02-28_14-58-20/checkpoint_000004\n",
      "2023-03-01 11:30:41,524\tINFO trainable.py:799 -- Current state after restoring: {'_iteration': 4, '_timesteps_total': None, '_time_total': 30.701157093048096, '_episodes_total': 1602}\n",
      ":actor_name:RolloutWorker\n"
     ]
    },
    {
     "name": "stdout",
     "output_type": "stream",
     "text": [
      "Generating rollouts for medium env config...\n",
      ":actor_name:RolloutWorker\n",
      "Model: \"encoding_model\"\n",
      "__________________________________________________________________________________________________\n",
      " Layer (type)                   Output Shape         Param #     Connected to                     \n",
      "==================================================================================================\n",
      " cube_input (InputLayer)        [(None, 6, 3, 3)]    0           []                               \n",
      "                                                                                                  \n",
      " step_count_input (InputLayer)  [(None, 1)]          0           []                               \n",
      "                                                                                                  \n",
      " embedding (Embedding)          (None, 6, 3, 3, 4)   24          ['cube_input[0][0]']             \n",
      "                                                                                                  \n",
      " tf_op_layer_default_policy_wk1  [(None, 1)]         0           ['step_count_input[0][0]']       \n",
      " /truediv (TensorFlowOpLayer)                                                                     \n",
      "                                                                                                  \n",
      " flatten (Flatten)              (None, 216)          0           ['embedding[0][0]']              \n",
      "                                                                                                  \n",
      " dense (Dense)                  (None, 4)            8           ['tf_op_layer_default_policy_wk1/\n",
      "                                                                 truediv[0][0]']                  \n",
      "                                                                                                  \n",
      " concatenate (Concatenate)      (None, 220)          0           ['flatten[0][0]',                \n",
      "                                                                  'dense[0][0]']                  \n",
      "                                                                                                  \n",
      " dense_1 (Dense)                (None, 32)           7072        ['concatenate[0][0]']            \n",
      "                                                                                                  \n",
      " dense_2 (Dense)                (None, 64)           2112        ['dense_1[0][0]']                \n",
      "                                                                                                  \n",
      " dense_3 (Dense)                (None, 1)            65          ['dense_2[0][0]']                \n",
      "                                                                                                  \n",
      "==================================================================================================\n",
      "Total params: 9,281\n",
      "Trainable params: 9,281\n",
      "Non-trainable params: 0\n",
      "__________________________________________________________________________________________________\n",
      "Model: \"face_selection_model\"\n",
      "_________________________________________________________________\n",
      " Layer (type)                Output Shape              Param #   \n",
      "=================================================================\n",
      " input_1 (InputLayer)        [(None, 64)]              0         \n",
      "                                                                 \n",
      " dense_4 (Dense)             (None, 6)                 390       \n",
      "                                                                 \n",
      "=================================================================\n",
      "Total params: 390\n",
      "Trainable params: 390\n",
      "Non-trainable params: 0\n",
      "_________________________________________________________________\n",
      "Model: \"cube_movement_amount_selection_model\"\n",
      "__________________________________________________________________________________________________\n",
      " Layer (type)                   Output Shape         Param #     Connected to                     \n",
      "==================================================================================================\n",
      " selected_face_input (InputLaye  [(None,)]           0           []                               \n",
      " r)                                                                                               \n",
      "                                                                                                  \n",
      " input_1 (InputLayer)           [(None, 64)]         0           []                               \n",
      "                                                                                                  \n",
      " tf_op_layer_default_policy_wk1  [(None, 6)]         0           ['selected_face_input[0][0]']    \n",
      " /one_hot (TensorFlowOpLayer)                                                                     \n",
      "                                                                                                  \n",
      " tf_op_layer_default_policy_wk1  [(None, 70)]        0           ['input_1[0][0]',                \n",
      " /concat (TensorFlowOpLayer)                                      'tf_op_layer_default_policy_wk1/\n",
      "                                                                 one_hot[0][0]']                  \n",
      "                                                                                                  \n",
      " dense_5 (Dense)                (None, 3)            213         ['tf_op_layer_default_policy_wk1/\n",
      "                                                                 concat[0][0]']                   \n",
      "                                                                                                  \n",
      "==================================================================================================\n",
      "Total params: 213\n",
      "Trainable params: 213\n",
      "Non-trainable params: 0\n",
      "__________________________________________________________________________________________________\n"
     ]
    },
    {
     "name": "stderr",
     "output_type": "stream",
     "text": [
      "2023-03-01 11:30:41,889\tWARNING catalog.py:563 -- Custom ModelV2 should accept all custom options as **kwargs, instead of expecting them in config['custom_model_config']!\n"
     ]
    },
    {
     "name": "stdout",
     "output_type": "stream",
     "text": [
      "Total parameters in model: 9884\n",
      ":actor_name:RolloutWorker\n",
      "Model: \"encoding_model\"\n",
      "__________________________________________________________________________________________________\n",
      " Layer (type)                   Output Shape         Param #     Connected to                     \n",
      "==================================================================================================\n",
      " cube_input (InputLayer)        [(None, 6, 3, 3)]    0           []                               \n",
      "                                                                                                  \n",
      " step_count_input (InputLayer)  [(None, 1)]          0           []                               \n",
      "                                                                                                  \n",
      " embedding (Embedding)          (None, 6, 3, 3, 4)   24          ['cube_input[0][0]']             \n",
      "                                                                                                  \n",
      " tf_op_layer_default_policy_wk2  [(None, 1)]         0           ['step_count_input[0][0]']       \n",
      " /truediv (TensorFlowOpLayer)                                                                     \n",
      "                                                                                                  \n",
      " flatten (Flatten)              (None, 216)          0           ['embedding[0][0]']              \n",
      "                                                                                                  \n",
      " dense (Dense)                  (None, 4)            8           ['tf_op_layer_default_policy_wk2/\n",
      "                                                                 truediv[0][0]']                  \n",
      "                                                                                                  \n",
      " concatenate (Concatenate)      (None, 220)          0           ['flatten[0][0]',                \n",
      "                                                                  'dense[0][0]']                  \n",
      "                                                                                                  \n",
      " dense_1 (Dense)                (None, 32)           7072        ['concatenate[0][0]']            \n",
      "                                                                                                  \n",
      " dense_2 (Dense)                (None, 64)           2112        ['dense_1[0][0]']                \n",
      "                                                                                                  \n",
      " dense_3 (Dense)                (None, 1)            65          ['dense_2[0][0]']                \n",
      "                                                                                                  \n",
      "==================================================================================================\n",
      "Total params: 9,281\n",
      "Trainable params: 9,281\n",
      "Non-trainable params: 0\n",
      "__________________________________________________________________________________________________\n",
      "Model: \"face_selection_model\"\n",
      "_________________________________________________________________\n",
      " Layer (type)                Output Shape              Param #   \n",
      "=================================================================\n",
      " input_1 (InputLayer)        [(None, 64)]              0         \n",
      "                                                                 \n",
      " dense_4 (Dense)             (None, 6)                 390       \n",
      "                                                                 \n",
      "=================================================================\n",
      "Total params: 390\n",
      "Trainable params: 390\n",
      "Non-trainable params: 0\n",
      "_________________________________________________________________\n",
      "Model: \"cube_movement_amount_selection_model\"\n",
      "__________________________________________________________________________________________________\n",
      " Layer (type)                   Output Shape         Param #     Connected to                     \n",
      "==================================================================================================\n",
      " selected_face_input (InputLaye  [(None,)]           0           []                               \n"
     ]
    },
    {
     "name": "stderr",
     "output_type": "stream",
     "text": [
      ":actor_name:RolloutWorker\n"
     ]
    },
    {
     "name": "stdout",
     "output_type": "stream",
     "text": [
      " r)                                                                                               \n",
      "                                                                                                  \n",
      " input_1 (InputLayer)           [(None, 64)]         0           []                               \n",
      "                                                                                                  \n",
      " tf_op_layer_default_policy_wk2  [(None, 6)]         0           ['selected_face_input[0][0]']    \n",
      " /one_hot (TensorFlowOpLayer)                                                                     \n",
      "                                                                                                  \n",
      " tf_op_layer_default_policy_wk2  [(None, 70)]        0           ['input_1[0][0]',                \n",
      " /concat (TensorFlowOpLayer)                                      'tf_op_layer_default_policy_wk2/\n",
      "                                                                 one_hot[0][0]']                  \n",
      "                                                                                                  \n",
      " dense_5 (Dense)                (None, 3)            213         ['tf_op_layer_default_policy_wk2/\n",
      "                                                                 concat[0][0]']                   \n",
      "                                                                                                  \n",
      "==================================================================================================\n",
      "Total params: 213\n",
      "Trainable params: 213\n",
      "Non-trainable params: 0\n",
      "__________________________________________________________________________________________________\n"
     ]
    },
    {
     "name": "stderr",
     "output_type": "stream",
     "text": [
      "2023-03-01 11:30:43,375\tWARNING catalog.py:563 -- Custom ModelV2 should accept all custom options as **kwargs, instead of expecting them in config['custom_model_config']!\n"
     ]
    },
    {
     "name": "stdout",
     "output_type": "stream",
     "text": [
      "Total parameters in model: 9884\n",
      "Model: \"encoding_model\"\n",
      "__________________________________________________________________________________________________\n",
      " Layer (type)                   Output Shape         Param #     Connected to                     \n",
      "==================================================================================================\n",
      " cube_input (InputLayer)        [(None, 6, 3, 3)]    0           []                               \n",
      "                                                                                                  \n",
      " step_count_input (InputLayer)  [(None, 1)]          0           []                               \n",
      "                                                                                                  \n",
      " embedding (Embedding)          (None, 6, 3, 3, 4)   24          ['cube_input[0][0]']             \n",
      "                                                                                                  \n",
      " tf_op_layer_default_policy/tru  [(None, 1)]         0           ['step_count_input[0][0]']       \n",
      " ediv (TensorFlowOpLayer)                                                                         \n",
      "                                                                                                  \n",
      " flatten (Flatten)              (None, 216)          0           ['embedding[0][0]']              \n",
      "                                                                                                  \n",
      " dense (Dense)                  (None, 4)            8           ['tf_op_layer_default_policy/true\n",
      "                                                                 div[0][0]']                      \n",
      "                                                                                                  \n",
      " concatenate (Concatenate)      (None, 220)          0           ['flatten[0][0]',                \n",
      "                                                                  'dense[0][0]']                  \n",
      "                                                                                                  \n",
      " dense_1 (Dense)                (None, 32)           7072        ['concatenate[0][0]']            \n",
      "                                                                                                  \n",
      " dense_2 (Dense)                (None, 64)           2112        ['dense_1[0][0]']                \n",
      "                                                                                                  \n",
      " dense_3 (Dense)                (None, 1)            65          ['dense_2[0][0]']                \n",
      "                                                                                                  \n",
      "==================================================================================================\n",
      "Total params: 9,281\n",
      "Trainable params: 9,281\n",
      "Non-trainable params: 0\n",
      "__________________________________________________________________________________________________\n",
      "Model: \"face_selection_model\"\n",
      "_________________________________________________________________\n",
      " Layer (type)                Output Shape              Param #   \n",
      "=================================================================\n",
      " input_1 (InputLayer)        [(None, 64)]              0         \n",
      "                                                                 \n",
      " dense_4 (Dense)             (None, 6)                 390       \n",
      "                                                                 \n",
      "=================================================================\n",
      "Total params: 390\n",
      "Trainable params: 390\n",
      "Non-trainable params: 0\n",
      "_________________________________________________________________\n",
      "Model: \"cube_movement_amount_selection_model\"\n",
      "__________________________________________________________________________________________________\n",
      " Layer (type)                   Output Shape         Param #     Connected to                     \n",
      "==================================================================================================\n",
      " selected_face_input (InputLaye  [(None,)]           0           []                               \n",
      " r)                                                                                               \n",
      "                                                                                                  \n",
      " input_1 (InputLayer)           [(None, 64)]         0           []                               \n",
      "                                                                                                  \n",
      " tf_op_layer_default_policy/one  [(None, 6)]         0           ['selected_face_input[0][0]']    \n",
      " _hot (TensorFlowOpLayer)                                                                         \n",
      "                                                                                                  \n",
      " tf_op_layer_default_policy/con  [(None, 70)]        0           ['input_1[0][0]',                \n",
      " cat (TensorFlowOpLayer)                                          'tf_op_layer_default_policy/one_\n",
      "                                                                 hot[0][0]']                      \n",
      "                                                                                                  \n",
      " dense_5 (Dense)                (None, 3)            213         ['tf_op_layer_default_policy/conc\n",
      "                                                                 at[0][0]']                       \n",
      "                                                                                                  \n",
      "==================================================================================================\n",
      "Total params: 213\n",
      "Trainable params: 213\n",
      "Non-trainable params: 0\n",
      "__________________________________________________________________________________________________\n"
     ]
    },
    {
     "name": "stderr",
     "output_type": "stream",
     "text": [
      "2023-03-01 11:30:44,873\tWARNING catalog.py:563 -- Custom ModelV2 should accept all custom options as **kwargs, instead of expecting them in config['custom_model_config']!\n"
     ]
    },
    {
     "name": "stdout",
     "output_type": "stream",
     "text": [
      "Total parameters in model: 9884\n"
     ]
    },
    {
     "name": "stderr",
     "output_type": "stream",
     "text": [
      "2023-03-01 11:30:46,239\tWARNING util.py:66 -- Install gputil for GPU system monitoring.\n",
      "2023-03-01 11:30:46,454\tINFO trainable.py:790 -- Restored on 127.0.0.1 from checkpoint: /Users/tristankalloniatis/ray_results/PPO/PPO_rubiks_cube_env_56de1_00000_0_2023-02-28_14-58-20/checkpoint_000004\n",
      "2023-03-01 11:30:46,454\tINFO trainable.py:799 -- Current state after restoring: {'_iteration': 4, '_timesteps_total': None, '_time_total': 30.701157093048096, '_episodes_total': 1602}\n",
      ":actor_name:RolloutWorker\n"
     ]
    },
    {
     "name": "stdout",
     "output_type": "stream",
     "text": [
      "Generating rollouts for hard env config...\n",
      ":actor_name:RolloutWorker\n",
      "Model: \"encoding_model\"\n",
      "__________________________________________________________________________________________________\n",
      " Layer (type)                   Output Shape         Param #     Connected to                     \n",
      "==================================================================================================\n",
      " cube_input (InputLayer)        [(None, 6, 3, 3)]    0           []                               \n",
      "                                                                                                  \n",
      " step_count_input (InputLayer)  [(None, 1)]          0           []                               \n",
      "                                                                                                  \n",
      " embedding (Embedding)          (None, 6, 3, 3, 4)   24          ['cube_input[0][0]']             \n",
      "                                                                                                  \n",
      " tf_op_layer_default_policy_wk1  [(None, 1)]         0           ['step_count_input[0][0]']       \n",
      " /truediv (TensorFlowOpLayer)                                                                     \n",
      "                                                                                                  \n",
      " flatten (Flatten)              (None, 216)          0           ['embedding[0][0]']              \n",
      "                                                                                                  \n",
      " dense (Dense)                  (None, 4)            8           ['tf_op_layer_default_policy_wk1/\n",
      "                                                                 truediv[0][0]']                  \n",
      "                                                                                                  \n",
      " concatenate (Concatenate)      (None, 220)          0           ['flatten[0][0]',                \n",
      "                                                                  'dense[0][0]']                  \n",
      "                                                                                                  \n",
      " dense_1 (Dense)                (None, 32)           7072        ['concatenate[0][0]']            \n",
      "                                                                                                  \n",
      " dense_2 (Dense)                (None, 64)           2112        ['dense_1[0][0]']                \n",
      "                                                                                                  \n",
      " dense_3 (Dense)                (None, 1)            65          ['dense_2[0][0]']                \n",
      "                                                                                                  \n",
      "==================================================================================================\n",
      "Total params: 9,281\n",
      "Trainable params: 9,281\n",
      "Non-trainable params: 0\n",
      "__________________________________________________________________________________________________\n",
      "Model: \"face_selection_model\"\n",
      "_________________________________________________________________\n",
      " Layer (type)                Output Shape              Param #   \n",
      "=================================================================\n",
      " input_1 (InputLayer)        [(None, 64)]              0         \n",
      "                                                                 \n",
      " dense_4 (Dense)             (None, 6)                 390       \n",
      "                                                                 \n",
      "=================================================================\n",
      "Total params: 390\n",
      "Trainable params: 390\n",
      "Non-trainable params: 0\n",
      "_________________________________________________________________\n",
      "Model: \"cube_movement_amount_selection_model\"\n",
      "__________________________________________________________________________________________________\n",
      " Layer (type)                   Output Shape         Param #     Connected to                     \n",
      "==================================================================================================\n",
      " selected_face_input (InputLaye  [(None,)]           0           []                               \n",
      " r)                                                                                               \n",
      "                                                                                                  \n",
      " input_1 (InputLayer)           [(None, 64)]         0           []                               \n",
      "                                                                                                  \n",
      " tf_op_layer_default_policy_wk1  [(None, 6)]         0           ['selected_face_input[0][0]']    \n",
      " /one_hot (TensorFlowOpLayer)                                                                     \n",
      "                                                                                                  \n",
      " tf_op_layer_default_policy_wk1  [(None, 70)]        0           ['input_1[0][0]',                \n",
      " /concat (TensorFlowOpLayer)                                      'tf_op_layer_default_policy_wk1/\n",
      "                                                                 one_hot[0][0]']                  \n",
      "                                                                                                  \n",
      " dense_5 (Dense)                (None, 3)            213         ['tf_op_layer_default_policy_wk1/\n",
      "                                                                 concat[0][0]']                   \n",
      "                                                                                                  \n",
      "==================================================================================================\n",
      "Total params: 213\n",
      "Trainable params: 213\n",
      "Non-trainable params: 0\n",
      "__________________________________________________________________________________________________\n"
     ]
    },
    {
     "name": "stderr",
     "output_type": "stream",
     "text": [
      "2023-03-01 11:30:46,827\tWARNING catalog.py:563 -- Custom ModelV2 should accept all custom options as **kwargs, instead of expecting them in config['custom_model_config']!\n"
     ]
    },
    {
     "name": "stdout",
     "output_type": "stream",
     "text": [
      "Total parameters in model: 9884\n",
      ":actor_name:RolloutWorker\n",
      "Model: \"encoding_model\"\n",
      "__________________________________________________________________________________________________\n",
      " Layer (type)                   Output Shape         Param #     Connected to                     \n",
      "==================================================================================================\n",
      " cube_input (InputLayer)        [(None, 6, 3, 3)]    0           []                               \n",
      "                                                                                                  \n",
      " step_count_input (InputLayer)  [(None, 1)]          0           []                               \n",
      "                                                                                                  \n",
      " embedding (Embedding)          (None, 6, 3, 3, 4)   24          ['cube_input[0][0]']             \n",
      "                                                                                                  \n",
      " tf_op_layer_default_policy_wk2  [(None, 1)]         0           ['step_count_input[0][0]']       \n",
      " /truediv (TensorFlowOpLayer)                                                                     \n",
      "                                                                                                  \n",
      " flatten (Flatten)              (None, 216)          0           ['embedding[0][0]']              \n",
      "                                                                                                  \n",
      " dense (Dense)                  (None, 4)            8           ['tf_op_layer_default_policy_wk2/\n",
      "                                                                 truediv[0][0]']                  \n",
      "                                                                                                  \n",
      " concatenate (Concatenate)      (None, 220)          0           ['flatten[0][0]',                \n",
      "                                                                  'dense[0][0]']                  \n",
      "                                                                                                  \n",
      " dense_1 (Dense)                (None, 32)           7072        ['concatenate[0][0]']            \n",
      "                                                                                                  \n",
      " dense_2 (Dense)                (None, 64)           2112        ['dense_1[0][0]']                \n",
      "                                                                                                  \n",
      " dense_3 (Dense)                (None, 1)            65          ['dense_2[0][0]']                \n",
      "                                                                                                  \n",
      "==================================================================================================\n",
      "Total params: 9,281\n",
      "Trainable params: 9,281\n",
      "Non-trainable params: 0\n",
      "__________________________________________________________________________________________________\n",
      "Model: \"face_selection_model\"\n",
      "_________________________________________________________________\n",
      " Layer (type)                Output Shape              Param #   \n",
      "=================================================================\n",
      " input_1 (InputLayer)        [(None, 64)]              0         \n",
      "                                                                 \n",
      " dense_4 (Dense)             (None, 6)                 390       \n",
      "                                                                 \n",
      "=================================================================\n",
      "Total params: 390\n",
      "Trainable params: 390\n",
      "Non-trainable params: 0\n",
      "_________________________________________________________________\n",
      "Model: \"cube_movement_amount_selection_model\"\n",
      "__________________________________________________________________________________________________\n",
      " Layer (type)                   Output Shape         Param #     Connected to                     \n",
      "==================================================================================================\n",
      " selected_face_input (InputLaye  [(None,)]           0           []                               \n",
      " r)                                                                                               \n",
      "                                                                                                  \n",
      " input_1 (InputLayer)           [(None, 64)]         0           []                               \n",
      "                                                                                                  \n",
      " tf_op_layer_default_policy_wk2  [(None, 6)]         0           ['selected_face_input[0][0]']    \n",
      " /one_hot (TensorFlowOpLayer)                                                                     \n",
      "                                                                                                  \n",
      " tf_op_layer_default_policy_wk2  [(None, 70)]        0           ['input_1[0][0]',                \n",
      " /concat (TensorFlowOpLayer)                                      'tf_op_layer_default_policy_wk2/\n",
      "                                                                 one_hot[0][0]']                  \n"
     ]
    },
    {
     "name": "stderr",
     "output_type": "stream",
     "text": [
      ":actor_name:RolloutWorker\n"
     ]
    },
    {
     "name": "stdout",
     "output_type": "stream",
     "text": [
      "                                                                                                  \n",
      " dense_5 (Dense)                (None, 3)            213         ['tf_op_layer_default_policy_wk2/\n",
      "                                                                 concat[0][0]']                   \n",
      "                                                                                                  \n",
      "==================================================================================================\n",
      "Total params: 213\n",
      "Trainable params: 213\n",
      "Non-trainable params: 0\n",
      "__________________________________________________________________________________________________\n"
     ]
    },
    {
     "name": "stderr",
     "output_type": "stream",
     "text": [
      "2023-03-01 11:30:48,309\tWARNING catalog.py:563 -- Custom ModelV2 should accept all custom options as **kwargs, instead of expecting them in config['custom_model_config']!\n"
     ]
    },
    {
     "name": "stdout",
     "output_type": "stream",
     "text": [
      "Total parameters in model: 9884\n",
      "Model: \"encoding_model\"\n",
      "__________________________________________________________________________________________________\n",
      " Layer (type)                   Output Shape         Param #     Connected to                     \n",
      "==================================================================================================\n",
      " cube_input (InputLayer)        [(None, 6, 3, 3)]    0           []                               \n",
      "                                                                                                  \n",
      " step_count_input (InputLayer)  [(None, 1)]          0           []                               \n",
      "                                                                                                  \n",
      " embedding (Embedding)          (None, 6, 3, 3, 4)   24          ['cube_input[0][0]']             \n",
      "                                                                                                  \n",
      " tf_op_layer_default_policy/tru  [(None, 1)]         0           ['step_count_input[0][0]']       \n",
      " ediv (TensorFlowOpLayer)                                                                         \n",
      "                                                                                                  \n",
      " flatten (Flatten)              (None, 216)          0           ['embedding[0][0]']              \n",
      "                                                                                                  \n",
      " dense (Dense)                  (None, 4)            8           ['tf_op_layer_default_policy/true\n",
      "                                                                 div[0][0]']                      \n",
      "                                                                                                  \n",
      " concatenate (Concatenate)      (None, 220)          0           ['flatten[0][0]',                \n",
      "                                                                  'dense[0][0]']                  \n",
      "                                                                                                  \n",
      " dense_1 (Dense)                (None, 32)           7072        ['concatenate[0][0]']            \n",
      "                                                                                                  \n",
      " dense_2 (Dense)                (None, 64)           2112        ['dense_1[0][0]']                \n",
      "                                                                                                  \n",
      " dense_3 (Dense)                (None, 1)            65          ['dense_2[0][0]']                \n",
      "                                                                                                  \n",
      "==================================================================================================\n",
      "Total params: 9,281\n",
      "Trainable params: 9,281\n",
      "Non-trainable params: 0\n",
      "__________________________________________________________________________________________________\n",
      "Model: \"face_selection_model\"\n",
      "_________________________________________________________________\n",
      " Layer (type)                Output Shape              Param #   \n",
      "=================================================================\n",
      " input_1 (InputLayer)        [(None, 64)]              0         \n",
      "                                                                 \n",
      " dense_4 (Dense)             (None, 6)                 390       \n",
      "                                                                 \n",
      "=================================================================\n",
      "Total params: 390\n",
      "Trainable params: 390\n",
      "Non-trainable params: 0\n",
      "_________________________________________________________________\n",
      "Model: \"cube_movement_amount_selection_model\"\n",
      "__________________________________________________________________________________________________\n",
      " Layer (type)                   Output Shape         Param #     Connected to                     \n",
      "==================================================================================================\n",
      " selected_face_input (InputLaye  [(None,)]           0           []                               \n",
      " r)                                                                                               \n",
      "                                                                                                  \n",
      " input_1 (InputLayer)           [(None, 64)]         0           []                               \n",
      "                                                                                                  \n",
      " tf_op_layer_default_policy/one  [(None, 6)]         0           ['selected_face_input[0][0]']    \n",
      " _hot (TensorFlowOpLayer)                                                                         \n",
      "                                                                                                  \n",
      " tf_op_layer_default_policy/con  [(None, 70)]        0           ['input_1[0][0]',                \n",
      " cat (TensorFlowOpLayer)                                          'tf_op_layer_default_policy/one_\n",
      "                                                                 hot[0][0]']                      \n",
      "                                                                                                  \n",
      " dense_5 (Dense)                (None, 3)            213         ['tf_op_layer_default_policy/conc\n",
      "                                                                 at[0][0]']                       \n",
      "                                                                                                  \n",
      "==================================================================================================\n",
      "Total params: 213\n",
      "Trainable params: 213\n",
      "Non-trainable params: 0\n",
      "__________________________________________________________________________________________________\n"
     ]
    },
    {
     "name": "stderr",
     "output_type": "stream",
     "text": [
      "2023-03-01 11:30:49,840\tWARNING catalog.py:563 -- Custom ModelV2 should accept all custom options as **kwargs, instead of expecting them in config['custom_model_config']!\n"
     ]
    },
    {
     "name": "stdout",
     "output_type": "stream",
     "text": [
      "Total parameters in model: 9884\n"
     ]
    },
    {
     "name": "stderr",
     "output_type": "stream",
     "text": [
      "2023-03-01 11:30:51,167\tWARNING util.py:66 -- Install gputil for GPU system monitoring.\n",
      "2023-03-01 11:30:51,379\tINFO trainable.py:790 -- Restored on 127.0.0.1 from checkpoint: /Users/tristankalloniatis/ray_results/PPO/PPO_rubiks_cube_env_56de1_00000_0_2023-02-28_14-58-20/checkpoint_000004\n",
      "2023-03-01 11:30:51,380\tINFO trainable.py:799 -- Current state after restoring: {'_iteration': 4, '_timesteps_total': None, '_time_total': 30.701157093048096, '_episodes_total': 1602}\n"
     ]
    }
   ],
   "source": [
    "seeds = list(range(2))\n",
    "checkpoint_path = \"/Users/tristankalloniatis/ray_results/PPO/PPO_rubiks_cube_env_56de1_00000_0_2023-02-28_14-58-20/checkpoint_000004/\"\n",
    "# Generate rollouts and save to a file\n",
    "main_rollout(seeds=seeds, checkpoint_path=checkpoint_path, results_path=\"sample_results.txt\", agent_name=\"PPO\")"
   ]
  },
  {
   "cell_type": "code",
   "execution_count": 21,
   "id": "d10ba135",
   "metadata": {},
   "outputs": [
    {
     "name": "stdout",
     "output_type": "stream",
     "text": [
      "easy: 0.0\n",
      "medium: 0.0\n",
      "hard: 0.0\n"
     ]
    }
   ],
   "source": [
    "# Validate and score the rollouts\n",
    "scores = main_validation(results_path=\"sample_results.txt\", seeds=seeds)\n",
    "for k, v in scores.items():\n",
    "    print(f\"{k}: {v}\")"
   ]
  }
 ],
 "metadata": {
  "kernelspec": {
   "display_name": "tf-m1",
   "language": "python",
   "name": "python3"
  },
  "language_info": {
   "codemirror_mode": {
    "name": "ipython",
    "version": 3
   },
   "file_extension": ".py",
   "mimetype": "text/x-python",
   "name": "python",
   "nbconvert_exporter": "python",
   "pygments_lexer": "ipython3",
   "version": "3.10.9"
  },
  "vscode": {
   "interpreter": {
    "hash": "1cde28afd93c7143bc72c225d04bd2b8ae8bdabbf912bf311051d0c68a36d23f"
   }
  }
 },
 "nbformat": 4,
 "nbformat_minor": 5
}
