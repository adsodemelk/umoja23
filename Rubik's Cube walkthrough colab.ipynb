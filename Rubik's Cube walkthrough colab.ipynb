{
  "cells": [
    {
      "cell_type": "markdown",
      "id": "c11a4cbb",
      "metadata": {
        "id": "c11a4cbb"
      },
      "source": [
        "# Introduction to training on the Rubik's Cube \n",
        "<a href=\"https://githubtocolab.com/adsodemelk/umoja23/blob/main/Rubik's%20Cube%20walkthrough%20colab.ipynb\" target=\"_parent\"><img src=\"https://colab.research.google.com/assets/colab-badge.svg\" alt=\"Open in Colab\"/></a>"
      ]
    },
    {
      "cell_type": "markdown",
      "id": "a68bc156",
      "metadata": {
        "id": "a68bc156"
      },
      "source": [
        "This notebook will walk through some examples of how to run training with the model as set up currently, as well as how to make modifications and explore your own solutions."
      ]
    },
    {
      "cell_type": "code",
      "execution_count": 1,
      "id": "c7896bfe",
      "metadata": {
        "id": "c7896bfe",
        "outputId": "e1234007-d977-416f-e923-be28eb3da56e",
        "colab": {
          "base_uri": "https://localhost:8080/"
        }
      },
      "outputs": [
        {
          "output_type": "stream",
          "name": "stdout",
          "text": [
            "Copying gs://umoja23/README.md...\n",
            "Copying gs://umoja23/Rubik's Cube walkthrough colab.ipynb...\n",
            "Copying gs://umoja23/Rubik's Cube walkthrough.ipynb...\n",
            "Copying gs://umoja23/cube.gif...\n",
            "| [4 files][629.7 KiB/629.7 KiB]                                                \n",
            "==> NOTE: You are performing a sequence of gsutil operations that may\n",
            "run significantly faster if you instead use gsutil -m cp ... Please\n",
            "see the -m section under \"gsutil help options\" for further information\n",
            "about when gsutil -m can be advantageous.\n",
            "\n",
            "Copying gs://umoja23/pyproject.toml...\n",
            "Copying gs://umoja23/rubik_env.png...\n",
            "Copying gs://umoja23/setup.cfg...\n",
            "Copying gs://umoja23/setup.py...\n",
            "Copying gs://umoja23/evaluation/generate_rollout.py...\n",
            "Copying gs://umoja23/evaluation/seeds.py...\n",
            "Copying gs://umoja23/evaluation/validate_rollout.py...\n",
            "Copying gs://umoja23/requirements/requirements-dev.txt...\n",
            "Copying gs://umoja23/requirements/requirements.txt...\n",
            "Copying gs://umoja23/rubiks_cube/.DS_Store...\n",
            "Copying gs://umoja23/rubiks_cube/conftest.py...\n",
            "Copying gs://umoja23/rubiks_cube/constants.py...\n",
            "Copying gs://umoja23/rubiks_cube/env.py...\n",
            "Copying gs://umoja23/rubiks_cube/flat_action_wrapper.py...\n",
            "Copying gs://umoja23/rubiks_cube/reward_functions.py...\n",
            "Copying gs://umoja23/rubiks_cube/test_env.py...\n",
            "Copying gs://umoja23/rubiks_cube/test_utils.py...\n",
            "Copying gs://umoja23/rubiks_cube/utils.py...\n",
            "Copying gs://umoja23/training/.DS_Store...\n",
            "Copying gs://umoja23/training/PPO_models.py...\n",
            "Copying gs://umoja23/training/configs.py...\n",
            "Copying gs://umoja23/training/example.py...\n",
            "Copying gs://umoja23/training/registry.py...\n",
            "| [27 files][793.9 KiB/793.9 KiB]    9.0 KiB/s                                  \n",
            "==> NOTE: You are performing a sequence of gsutil operations that may\n",
            "run significantly faster if you instead use gsutil -m cp ... Please\n",
            "see the -m section under \"gsutil help options\" for further information\n",
            "about when gsutil -m can be advantageous.\n",
            "\n",
            "\n",
            "Operation completed over 27 objects/793.9 KiB.                                   \n"
          ]
        }
      ],
      "source": [
        "import os\n",
        "import sys\n",
        "#Download the necesary files from a public bucket\n",
        "!gsutil cp -r gs://umoja23/ ."
      ]
    },
    {
      "cell_type": "code",
      "execution_count": 2,
      "id": "48668162",
      "metadata": {
        "id": "48668162",
        "outputId": "2b9394d2-b206-402a-f9db-19160db4ca56",
        "colab": {
          "base_uri": "https://localhost:8080/"
        }
      },
      "outputs": [
        {
          "output_type": "stream",
          "name": "stdout",
          "text": [
            "Looking in indexes: https://pypi.org/simple, https://us-python.pkg.dev/colab-wheels/public/simple/\n",
            "Collecting grpcio==1.45.0\n",
            "  Downloading grpcio-1.45.0-cp39-cp39-manylinux_2_17_x86_64.manylinux2014_x86_64.whl (4.4 MB)\n",
            "\u001b[2K     \u001b[90m━━━━━━━━━━━━━━━━━━━━━━━━━━━━━━━━━━━━━━━━\u001b[0m \u001b[32m4.4/4.4 MB\u001b[0m \u001b[31m34.1 MB/s\u001b[0m eta \u001b[36m0:00:00\u001b[0m\n",
            "\u001b[?25hCollecting gym==0.22.0\n",
            "  Downloading gym-0.22.0.tar.gz (631 kB)\n",
            "\u001b[2K     \u001b[90m━━━━━━━━━━━━━━━━━━━━━━━━━━━━━━━━━━━━━━\u001b[0m \u001b[32m631.1/631.1 KB\u001b[0m \u001b[31m39.5 MB/s\u001b[0m eta \u001b[36m0:00:00\u001b[0m\n",
            "\u001b[?25h  Installing build dependencies ... \u001b[?25l\u001b[?25hdone\n",
            "  Getting requirements to build wheel ... \u001b[?25l\u001b[?25hdone\n",
            "  Preparing metadata (pyproject.toml) ... \u001b[?25l\u001b[?25hdone\n",
            "Collecting jupyterlab\n",
            "  Downloading jupyterlab-3.6.1-py3-none-any.whl (8.9 MB)\n",
            "\u001b[2K     \u001b[90m━━━━━━━━━━━━━━━━━━━━━━━━━━━━━━━━━━━━━━━━\u001b[0m \u001b[32m8.9/8.9 MB\u001b[0m \u001b[31m67.3 MB/s\u001b[0m eta \u001b[36m0:00:00\u001b[0m\n",
            "\u001b[?25hRequirement already satisfied: matplotlib>=3.3.4 in /usr/local/lib/python3.9/dist-packages (from -r umoja23/requirements/requirements.txt (line 4)) (3.7.1)\n",
            "Collecting numpy==1.23.5\n",
            "  Downloading numpy-1.23.5-cp39-cp39-manylinux_2_17_x86_64.manylinux2014_x86_64.whl (17.1 MB)\n",
            "\u001b[2K     \u001b[90m━━━━━━━━━━━━━━━━━━━━━━━━━━━━━━━━━━━━━━━━\u001b[0m \u001b[32m17.1/17.1 MB\u001b[0m \u001b[31m50.3 MB/s\u001b[0m eta \u001b[36m0:00:00\u001b[0m\n",
            "\u001b[?25hCollecting ray[default,rllib]==2.2.0\n",
            "  Downloading ray-2.2.0-cp39-cp39-manylinux2014_x86_64.whl (57.4 MB)\n",
            "\u001b[2K     \u001b[90m━━━━━━━━━━━━━━━━━━━━━━━━━━━━━━━━━━━━━━━━\u001b[0m \u001b[32m57.4/57.4 MB\u001b[0m \u001b[31m10.2 MB/s\u001b[0m eta \u001b[36m0:00:00\u001b[0m\n",
            "\u001b[?25hRequirement already satisfied: tensorboard==2.11.2 in /usr/local/lib/python3.9/dist-packages (from -r umoja23/requirements/requirements.txt (line 7)) (2.11.2)\n",
            "Collecting tensorboardX==2.6\n",
            "  Downloading tensorboardX-2.6-py2.py3-none-any.whl (114 kB)\n",
            "\u001b[2K     \u001b[90m━━━━━━━━━━━━━━━━━━━━━━━━━━━━━━━━━━━━━━━\u001b[0m \u001b[32m114.5/114.5 KB\u001b[0m \u001b[31m9.8 MB/s\u001b[0m eta \u001b[36m0:00:00\u001b[0m\n",
            "\u001b[?25hRequirement already satisfied: tensorflow==2.11.0 in /usr/local/lib/python3.9/dist-packages (from -r umoja23/requirements/requirements.txt (line 9)) (2.11.0)\n",
            "Collecting tensorflow-io==0.30.0\n",
            "  Downloading tensorflow_io-0.30.0-cp39-cp39-manylinux_2_12_x86_64.manylinux2010_x86_64.whl (26.9 MB)\n",
            "\u001b[2K     \u001b[90m━━━━━━━━━━━━━━━━━━━━━━━━━━━━━━━━━━━━━━━━\u001b[0m \u001b[32m26.9/26.9 MB\u001b[0m \u001b[31m5.0 MB/s\u001b[0m eta \u001b[36m0:00:00\u001b[0m\n",
            "\u001b[?25hRequirement already satisfied: tensorflow-probability==0.19.0 in /usr/local/lib/python3.9/dist-packages (from -r umoja23/requirements/requirements.txt (line 11)) (0.19.0)\n",
            "Requirement already satisfied: torch in /usr/local/lib/python3.9/dist-packages (from -r umoja23/requirements/requirements.txt (line 12)) (1.13.1+cu116)\n",
            "Requirement already satisfied: tqdm==4.65.0 in /usr/local/lib/python3.9/dist-packages (from -r umoja23/requirements/requirements.txt (line 13)) (4.65.0)\n",
            "Requirement already satisfied: six>=1.5.2 in /usr/local/lib/python3.9/dist-packages (from grpcio==1.45.0->-r umoja23/requirements/requirements.txt (line 1)) (1.15.0)\n",
            "Requirement already satisfied: cloudpickle>=1.2.0 in /usr/local/lib/python3.9/dist-packages (from gym==0.22.0->-r umoja23/requirements/requirements.txt (line 2)) (2.2.1)\n",
            "Requirement already satisfied: importlib-metadata>=4.10.0 in /usr/local/lib/python3.9/dist-packages (from gym==0.22.0->-r umoja23/requirements/requirements.txt (line 2)) (6.0.0)\n",
            "Requirement already satisfied: gym-notices>=0.0.4 in /usr/local/lib/python3.9/dist-packages (from gym==0.22.0->-r umoja23/requirements/requirements.txt (line 2)) (0.0.8)\n",
            "Requirement already satisfied: pyyaml in /usr/local/lib/python3.9/dist-packages (from ray[default,rllib]==2.2.0->-r umoja23/requirements/requirements.txt (line 6)) (6.0)\n",
            "Requirement already satisfied: requests in /usr/local/lib/python3.9/dist-packages (from ray[default,rllib]==2.2.0->-r umoja23/requirements/requirements.txt (line 6)) (2.25.1)\n",
            "Requirement already satisfied: click>=7.0 in /usr/local/lib/python3.9/dist-packages (from ray[default,rllib]==2.2.0->-r umoja23/requirements/requirements.txt (line 6)) (8.1.3)\n",
            "Requirement already satisfied: jsonschema in /usr/local/lib/python3.9/dist-packages (from ray[default,rllib]==2.2.0->-r umoja23/requirements/requirements.txt (line 6)) (4.3.3)\n",
            "Collecting aiosignal\n",
            "  Downloading aiosignal-1.3.1-py3-none-any.whl (7.6 kB)\n",
            "Collecting frozenlist\n",
            "  Downloading frozenlist-1.3.3-cp39-cp39-manylinux_2_5_x86_64.manylinux1_x86_64.manylinux_2_17_x86_64.manylinux2014_x86_64.whl (158 kB)\n",
            "\u001b[2K     \u001b[90m━━━━━━━━━━━━━━━━━━━━━━━━━━━━━━━━━━━━━━\u001b[0m \u001b[32m158.8/158.8 KB\u001b[0m \u001b[31m16.7 MB/s\u001b[0m eta \u001b[36m0:00:00\u001b[0m\n",
            "\u001b[?25hRequirement already satisfied: filelock in /usr/local/lib/python3.9/dist-packages (from ray[default,rllib]==2.2.0->-r umoja23/requirements/requirements.txt (line 6)) (3.9.1)\n",
            "Collecting virtualenv>=20.0.24\n",
            "  Downloading virtualenv-20.21.0-py3-none-any.whl (8.7 MB)\n",
            "\u001b[2K     \u001b[90m━━━━━━━━━━━━━━━━━━━━━━━━━━━━━━━━━━━━━━━━\u001b[0m \u001b[32m8.7/8.7 MB\u001b[0m \u001b[31m90.4 MB/s\u001b[0m eta \u001b[36m0:00:00\u001b[0m\n",
            "\u001b[?25hRequirement already satisfied: protobuf!=3.19.5,>=3.15.3 in /usr/local/lib/python3.9/dist-packages (from ray[default,rllib]==2.2.0->-r umoja23/requirements/requirements.txt (line 6)) (3.19.6)\n",
            "Requirement already satisfied: attrs in /usr/local/lib/python3.9/dist-packages (from ray[default,rllib]==2.2.0->-r umoja23/requirements/requirements.txt (line 6)) (22.2.0)\n",
            "Requirement already satisfied: msgpack<2.0.0,>=1.0.0 in /usr/local/lib/python3.9/dist-packages (from ray[default,rllib]==2.2.0->-r umoja23/requirements/requirements.txt (line 6)) (1.0.5)\n",
            "Collecting rich\n",
            "  Downloading rich-13.3.2-py3-none-any.whl (238 kB)\n",
            "\u001b[2K     \u001b[90m━━━━━━━━━━━━━━━━━━━━━━━━━━━━━━━━━━━━━━\u001b[0m \u001b[32m238.7/238.7 KB\u001b[0m \u001b[31m28.6 MB/s\u001b[0m eta \u001b[36m0:00:00\u001b[0m\n",
            "\u001b[?25hRequirement already satisfied: typer in /usr/local/lib/python3.9/dist-packages (from ray[default,rllib]==2.2.0->-r umoja23/requirements/requirements.txt (line 6)) (0.7.0)\n",
            "Requirement already satisfied: dm-tree in /usr/local/lib/python3.9/dist-packages (from ray[default,rllib]==2.2.0->-r umoja23/requirements/requirements.txt (line 6)) (0.1.8)\n",
            "Requirement already satisfied: pandas in /usr/local/lib/python3.9/dist-packages (from ray[default,rllib]==2.2.0->-r umoja23/requirements/requirements.txt (line 6)) (1.4.4)\n",
            "Collecting lz4\n",
            "  Downloading lz4-4.3.2-cp39-cp39-manylinux_2_17_x86_64.manylinux2014_x86_64.whl (1.3 MB)\n",
            "\u001b[2K     \u001b[90m━━━━━━━━━━━━━━━━━━━━━━━━━━━━━━━━━━━━━━━━\u001b[0m \u001b[32m1.3/1.3 MB\u001b[0m \u001b[31m61.4 MB/s\u001b[0m eta \u001b[36m0:00:00\u001b[0m\n",
            "\u001b[?25hRequirement already satisfied: tabulate in /usr/local/lib/python3.9/dist-packages (from ray[default,rllib]==2.2.0->-r umoja23/requirements/requirements.txt (line 6)) (0.8.10)\n",
            "Requirement already satisfied: scipy in /usr/local/lib/python3.9/dist-packages (from ray[default,rllib]==2.2.0->-r umoja23/requirements/requirements.txt (line 6)) (1.10.1)\n",
            "Requirement already satisfied: scikit-image in /usr/local/lib/python3.9/dist-packages (from ray[default,rllib]==2.2.0->-r umoja23/requirements/requirements.txt (line 6)) (0.19.3)\n",
            "Collecting opencensus\n",
            "  Downloading opencensus-0.11.2-py2.py3-none-any.whl (128 kB)\n",
            "\u001b[2K     \u001b[90m━━━━━━━━━━━━━━━━━━━━━━━━━━━━━━━━━━━━━━\u001b[0m \u001b[32m128.2/128.2 KB\u001b[0m \u001b[31m15.4 MB/s\u001b[0m eta \u001b[36m0:00:00\u001b[0m\n",
            "\u001b[?25hCollecting aiohttp>=3.7\n",
            "  Downloading aiohttp-3.8.4-cp39-cp39-manylinux_2_17_x86_64.manylinux2014_x86_64.whl (1.0 MB)\n",
            "\u001b[2K     \u001b[90m━━━━━━━━━━━━━━━━━━━━━━━━━━━━━━━━━━━━━━━━\u001b[0m \u001b[32m1.0/1.0 MB\u001b[0m \u001b[31m70.6 MB/s\u001b[0m eta \u001b[36m0:00:00\u001b[0m\n",
            "\u001b[?25hRequirement already satisfied: smart-open in /usr/local/lib/python3.9/dist-packages (from ray[default,rllib]==2.2.0->-r umoja23/requirements/requirements.txt (line 6)) (6.3.0)\n",
            "Collecting prometheus-client<0.14.0,>=0.7.1\n",
            "  Downloading prometheus_client-0.13.1-py3-none-any.whl (57 kB)\n",
            "\u001b[2K     \u001b[90m━━━━━━━━━━━━━━━━━━━━━━━━━━━━━━━━━━━━━━━━\u001b[0m \u001b[32m57.1/57.1 KB\u001b[0m \u001b[31m7.3 MB/s\u001b[0m eta \u001b[36m0:00:00\u001b[0m\n",
            "\u001b[?25hRequirement already satisfied: pydantic in /usr/local/lib/python3.9/dist-packages (from ray[default,rllib]==2.2.0->-r umoja23/requirements/requirements.txt (line 6)) (1.10.6)\n",
            "Collecting colorful\n",
            "  Downloading colorful-0.5.5-py2.py3-none-any.whl (201 kB)\n",
            "\u001b[2K     \u001b[90m━━━━━━━━━━━━━━━━━━━━━━━━━━━━━━━━━━━━━━\u001b[0m \u001b[32m201.4/201.4 KB\u001b[0m \u001b[31m23.7 MB/s\u001b[0m eta \u001b[36m0:00:00\u001b[0m\n",
            "\u001b[?25hCollecting py-spy>=0.2.0\n",
            "  Downloading py_spy-0.3.14-py2.py3-none-manylinux_2_5_x86_64.manylinux1_x86_64.whl (3.0 MB)\n",
            "\u001b[2K     \u001b[90m━━━━━━━━━━━━━━━━━━━━━━━━━━━━━━━━━━━━━━━━\u001b[0m \u001b[32m3.0/3.0 MB\u001b[0m \u001b[31m74.9 MB/s\u001b[0m eta \u001b[36m0:00:00\u001b[0m\n",
            "\u001b[?25hCollecting gpustat>=1.0.0\n",
            "  Downloading gpustat-1.0.0.tar.gz (90 kB)\n",
            "\u001b[2K     \u001b[90m━━━━━━━━━━━━━━━━━━━━━━━━━━━━━━━━━━━━━━━━\u001b[0m \u001b[32m90.5/90.5 KB\u001b[0m \u001b[31m10.3 MB/s\u001b[0m eta \u001b[36m0:00:00\u001b[0m\n",
            "\u001b[?25h  Preparing metadata (setup.py) ... \u001b[?25l\u001b[?25hdone\n",
            "Collecting aiohttp-cors\n",
            "  Downloading aiohttp_cors-0.7.0-py3-none-any.whl (27 kB)\n",
            "Requirement already satisfied: markdown>=2.6.8 in /usr/local/lib/python3.9/dist-packages (from tensorboard==2.11.2->-r umoja23/requirements/requirements.txt (line 7)) (3.4.1)\n",
            "Requirement already satisfied: absl-py>=0.4 in /usr/local/lib/python3.9/dist-packages (from tensorboard==2.11.2->-r umoja23/requirements/requirements.txt (line 7)) (1.4.0)\n",
            "Requirement already satisfied: werkzeug>=1.0.1 in /usr/local/lib/python3.9/dist-packages (from tensorboard==2.11.2->-r umoja23/requirements/requirements.txt (line 7)) (2.2.3)\n",
            "Requirement already satisfied: tensorboard-plugin-wit>=1.6.0 in /usr/local/lib/python3.9/dist-packages (from tensorboard==2.11.2->-r umoja23/requirements/requirements.txt (line 7)) (1.8.1)\n",
            "Requirement already satisfied: wheel>=0.26 in /usr/local/lib/python3.9/dist-packages (from tensorboard==2.11.2->-r umoja23/requirements/requirements.txt (line 7)) (0.40.0)\n",
            "Requirement already satisfied: setuptools>=41.0.0 in /usr/local/lib/python3.9/dist-packages (from tensorboard==2.11.2->-r umoja23/requirements/requirements.txt (line 7)) (63.4.3)\n",
            "Requirement already satisfied: google-auth<3,>=1.6.3 in /usr/local/lib/python3.9/dist-packages (from tensorboard==2.11.2->-r umoja23/requirements/requirements.txt (line 7)) (2.16.2)\n",
            "Requirement already satisfied: tensorboard-data-server<0.7.0,>=0.6.0 in /usr/local/lib/python3.9/dist-packages (from tensorboard==2.11.2->-r umoja23/requirements/requirements.txt (line 7)) (0.6.1)\n",
            "Requirement already satisfied: google-auth-oauthlib<0.5,>=0.4.1 in /usr/local/lib/python3.9/dist-packages (from tensorboard==2.11.2->-r umoja23/requirements/requirements.txt (line 7)) (0.4.6)\n",
            "Requirement already satisfied: packaging in /usr/local/lib/python3.9/dist-packages (from tensorboardX==2.6->-r umoja23/requirements/requirements.txt (line 8)) (23.0)\n",
            "Requirement already satisfied: tensorflow-estimator<2.12,>=2.11.0 in /usr/local/lib/python3.9/dist-packages (from tensorflow==2.11.0->-r umoja23/requirements/requirements.txt (line 9)) (2.11.0)\n",
            "Requirement already satisfied: gast<=0.4.0,>=0.2.1 in /usr/local/lib/python3.9/dist-packages (from tensorflow==2.11.0->-r umoja23/requirements/requirements.txt (line 9)) (0.4.0)\n",
            "Requirement already satisfied: keras<2.12,>=2.11.0 in /usr/local/lib/python3.9/dist-packages (from tensorflow==2.11.0->-r umoja23/requirements/requirements.txt (line 9)) (2.11.0)\n",
            "Requirement already satisfied: wrapt>=1.11.0 in /usr/local/lib/python3.9/dist-packages (from tensorflow==2.11.0->-r umoja23/requirements/requirements.txt (line 9)) (1.15.0)\n",
            "Requirement already satisfied: termcolor>=1.1.0 in /usr/local/lib/python3.9/dist-packages (from tensorflow==2.11.0->-r umoja23/requirements/requirements.txt (line 9)) (2.2.0)\n",
            "Requirement already satisfied: libclang>=13.0.0 in /usr/local/lib/python3.9/dist-packages (from tensorflow==2.11.0->-r umoja23/requirements/requirements.txt (line 9)) (15.0.6.1)\n",
            "Requirement already satisfied: typing-extensions>=3.6.6 in /usr/local/lib/python3.9/dist-packages (from tensorflow==2.11.0->-r umoja23/requirements/requirements.txt (line 9)) (4.5.0)\n",
            "Requirement already satisfied: astunparse>=1.6.0 in /usr/local/lib/python3.9/dist-packages (from tensorflow==2.11.0->-r umoja23/requirements/requirements.txt (line 9)) (1.6.3)\n",
            "Requirement already satisfied: flatbuffers>=2.0 in /usr/local/lib/python3.9/dist-packages (from tensorflow==2.11.0->-r umoja23/requirements/requirements.txt (line 9)) (23.3.3)\n",
            "Requirement already satisfied: h5py>=2.9.0 in /usr/local/lib/python3.9/dist-packages (from tensorflow==2.11.0->-r umoja23/requirements/requirements.txt (line 9)) (3.1.0)\n",
            "Requirement already satisfied: tensorflow-io-gcs-filesystem>=0.23.1 in /usr/local/lib/python3.9/dist-packages (from tensorflow==2.11.0->-r umoja23/requirements/requirements.txt (line 9)) (0.31.0)\n",
            "Requirement already satisfied: google-pasta>=0.1.1 in /usr/local/lib/python3.9/dist-packages (from tensorflow==2.11.0->-r umoja23/requirements/requirements.txt (line 9)) (0.2.0)\n",
            "Requirement already satisfied: opt-einsum>=2.3.2 in /usr/local/lib/python3.9/dist-packages (from tensorflow==2.11.0->-r umoja23/requirements/requirements.txt (line 9)) (3.3.0)\n",
            "Collecting tensorflow-io-gcs-filesystem>=0.23.1\n",
            "  Downloading tensorflow_io_gcs_filesystem-0.30.0-cp39-cp39-manylinux_2_12_x86_64.manylinux2010_x86_64.whl (2.4 MB)\n",
            "\u001b[2K     \u001b[90m━━━━━━━━━━━━━━━━━━━━━━━━━━━━━━━━━━━━━━━━\u001b[0m \u001b[32m2.4/2.4 MB\u001b[0m \u001b[31m1.7 MB/s\u001b[0m eta \u001b[36m0:00:00\u001b[0m\n",
            "\u001b[?25hRequirement already satisfied: decorator in /usr/local/lib/python3.9/dist-packages (from tensorflow-probability==0.19.0->-r umoja23/requirements/requirements.txt (line 11)) (4.4.2)\n",
            "Requirement already satisfied: tornado>=6.1.0 in /usr/local/lib/python3.9/dist-packages (from jupyterlab->-r umoja23/requirements/requirements.txt (line 3)) (6.2)\n",
            "Collecting nbclassic\n",
            "  Downloading nbclassic-0.5.3-py3-none-any.whl (10.0 MB)\n",
            "\u001b[2K     \u001b[90m━━━━━━━━━━━━━━━━━━━━━━━━━━━━━━━━━━━━━━━━\u001b[0m \u001b[32m10.0/10.0 MB\u001b[0m \u001b[31m85.3 MB/s\u001b[0m eta \u001b[36m0:00:00\u001b[0m\n",
            "\u001b[?25hRequirement already satisfied: tomli in /usr/local/lib/python3.9/dist-packages (from jupyterlab->-r umoja23/requirements/requirements.txt (line 3)) (2.0.1)\n",
            "Collecting jupyter-server<3,>=1.16.0\n",
            "  Downloading jupyter_server-2.5.0-py3-none-any.whl (366 kB)\n",
            "\u001b[2K     \u001b[90m━━━━━━━━━━━━━━━━━━━━━━━━━━━━━━━━━━━━━━\u001b[0m \u001b[32m366.8/366.8 KB\u001b[0m \u001b[31m37.4 MB/s\u001b[0m eta \u001b[36m0:00:00\u001b[0m\n",
            "\u001b[?25hCollecting jupyter-ydoc~=0.2.2\n",
            "  Downloading jupyter_ydoc-0.2.3-py3-none-any.whl (5.9 kB)\n",
            "Requirement already satisfied: ipython in /usr/local/lib/python3.9/dist-packages (from jupyterlab->-r umoja23/requirements/requirements.txt (line 3)) (7.9.0)\n",
            "Collecting jupyterlab-server~=2.19\n",
            "  Downloading jupyterlab_server-2.20.0-py3-none-any.whl (56 kB)\n",
            "\u001b[2K     \u001b[90m━━━━━━━━━━━━━━━━━━━━━━━━━━━━━━━━━━━━━━━━\u001b[0m \u001b[32m56.7/56.7 KB\u001b[0m \u001b[31m7.1 MB/s\u001b[0m eta \u001b[36m0:00:00\u001b[0m\n",
            "\u001b[?25hCollecting jupyter-server-ydoc<0.7.0,>=0.6.0\n",
            "  Downloading jupyter_server_ydoc-0.6.1-py3-none-any.whl (11 kB)\n",
            "Requirement already satisfied: jinja2>=2.1 in /usr/local/lib/python3.9/dist-packages (from jupyterlab->-r umoja23/requirements/requirements.txt (line 3)) (3.1.2)\n",
            "Requirement already satisfied: notebook<7 in /usr/local/lib/python3.9/dist-packages (from jupyterlab->-r umoja23/requirements/requirements.txt (line 3)) (6.3.0)\n",
            "Requirement already satisfied: jupyter-core in /usr/local/lib/python3.9/dist-packages (from jupyterlab->-r umoja23/requirements/requirements.txt (line 3)) (5.2.0)\n",
            "Requirement already satisfied: pillow>=6.2.0 in /usr/local/lib/python3.9/dist-packages (from matplotlib>=3.3.4->-r umoja23/requirements/requirements.txt (line 4)) (8.4.0)\n",
            "Requirement already satisfied: contourpy>=1.0.1 in /usr/local/lib/python3.9/dist-packages (from matplotlib>=3.3.4->-r umoja23/requirements/requirements.txt (line 4)) (1.0.7)\n",
            "Requirement already satisfied: importlib-resources>=3.2.0 in /usr/local/lib/python3.9/dist-packages (from matplotlib>=3.3.4->-r umoja23/requirements/requirements.txt (line 4)) (5.12.0)\n",
            "Requirement already satisfied: pyparsing>=2.3.1 in /usr/local/lib/python3.9/dist-packages (from matplotlib>=3.3.4->-r umoja23/requirements/requirements.txt (line 4)) (3.0.9)\n",
            "Requirement already satisfied: python-dateutil>=2.7 in /usr/local/lib/python3.9/dist-packages (from matplotlib>=3.3.4->-r umoja23/requirements/requirements.txt (line 4)) (2.8.2)\n",
            "Requirement already satisfied: cycler>=0.10 in /usr/local/lib/python3.9/dist-packages (from matplotlib>=3.3.4->-r umoja23/requirements/requirements.txt (line 4)) (0.11.0)\n",
            "Requirement already satisfied: fonttools>=4.22.0 in /usr/local/lib/python3.9/dist-packages (from matplotlib>=3.3.4->-r umoja23/requirements/requirements.txt (line 4)) (4.39.0)\n",
            "Requirement already satisfied: kiwisolver>=1.0.1 in /usr/local/lib/python3.9/dist-packages (from matplotlib>=3.3.4->-r umoja23/requirements/requirements.txt (line 4)) (1.4.4)\n",
            "Collecting multidict<7.0,>=4.5\n",
            "  Downloading multidict-6.0.4-cp39-cp39-manylinux_2_17_x86_64.manylinux2014_x86_64.whl (114 kB)\n",
            "\u001b[2K     \u001b[90m━━━━━━━━━━━━━━━━━━━━━━━━━━━━━━━━━━━━━━\u001b[0m \u001b[32m114.2/114.2 KB\u001b[0m \u001b[31m15.2 MB/s\u001b[0m eta \u001b[36m0:00:00\u001b[0m\n",
            "\u001b[?25hCollecting charset-normalizer<4.0,>=2.0\n",
            "  Downloading charset_normalizer-3.1.0-cp39-cp39-manylinux_2_17_x86_64.manylinux2014_x86_64.whl (199 kB)\n",
            "\u001b[2K     \u001b[90m━━━━━━━━━━━━━━━━━━━━━━━━━━━━━━━━━━━━━━━\u001b[0m \u001b[32m199.2/199.2 KB\u001b[0m \u001b[31m1.2 MB/s\u001b[0m eta \u001b[36m0:00:00\u001b[0m\n",
            "\u001b[?25hCollecting yarl<2.0,>=1.0\n",
            "  Downloading yarl-1.8.2-cp39-cp39-manylinux_2_17_x86_64.manylinux2014_x86_64.whl (264 kB)\n",
            "\u001b[2K     \u001b[90m━━━━━━━━━━━━━━━━━━━━━━━━━━━━━━━━━━━━━━\u001b[0m \u001b[32m264.6/264.6 KB\u001b[0m \u001b[31m30.5 MB/s\u001b[0m eta \u001b[36m0:00:00\u001b[0m\n",
            "\u001b[?25hCollecting async-timeout<5.0,>=4.0.0a3\n",
            "  Downloading async_timeout-4.0.2-py3-none-any.whl (5.8 kB)\n",
            "Requirement already satisfied: pyasn1-modules>=0.2.1 in /usr/local/lib/python3.9/dist-packages (from google-auth<3,>=1.6.3->tensorboard==2.11.2->-r umoja23/requirements/requirements.txt (line 7)) (0.2.8)\n",
            "Requirement already satisfied: rsa<5,>=3.1.4 in /usr/local/lib/python3.9/dist-packages (from google-auth<3,>=1.6.3->tensorboard==2.11.2->-r umoja23/requirements/requirements.txt (line 7)) (4.9)\n",
            "Requirement already satisfied: cachetools<6.0,>=2.0.0 in /usr/local/lib/python3.9/dist-packages (from google-auth<3,>=1.6.3->tensorboard==2.11.2->-r umoja23/requirements/requirements.txt (line 7)) (5.3.0)\n",
            "Requirement already satisfied: requests-oauthlib>=0.7.0 in /usr/local/lib/python3.9/dist-packages (from google-auth-oauthlib<0.5,>=0.4.1->tensorboard==2.11.2->-r umoja23/requirements/requirements.txt (line 7)) (1.3.1)\n",
            "Collecting nvidia-ml-py<=11.495.46,>=11.450.129\n",
            "  Downloading nvidia_ml_py-11.495.46-py3-none-any.whl (25 kB)\n",
            "Collecting psutil>=5.6.0\n",
            "  Downloading psutil-5.9.4-cp36-abi3-manylinux_2_12_x86_64.manylinux2010_x86_64.manylinux_2_17_x86_64.manylinux2014_x86_64.whl (280 kB)\n",
            "\u001b[2K     \u001b[90m━━━━━━━━━━━━━━━━━━━━━━━━━━━━━━━━━━━━━━\u001b[0m \u001b[32m280.2/280.2 KB\u001b[0m \u001b[31m23.8 MB/s\u001b[0m eta \u001b[36m0:00:00\u001b[0m\n",
            "\u001b[?25hCollecting blessed>=1.17.1\n",
            "  Downloading blessed-1.20.0-py2.py3-none-any.whl (58 kB)\n",
            "\u001b[2K     \u001b[90m━━━━━━━━━━━━━━━━━━━━━━━━━━━━━━━━━━━━━━━━\u001b[0m \u001b[32m58.4/58.4 KB\u001b[0m \u001b[31m6.5 MB/s\u001b[0m eta \u001b[36m0:00:00\u001b[0m\n",
            "\u001b[?25hRequirement already satisfied: zipp>=0.5 in /usr/local/lib/python3.9/dist-packages (from importlib-metadata>=4.10.0->gym==0.22.0->-r umoja23/requirements/requirements.txt (line 2)) (3.15.0)\n",
            "Requirement already satisfied: MarkupSafe>=2.0 in /usr/local/lib/python3.9/dist-packages (from jinja2>=2.1->jupyterlab->-r umoja23/requirements/requirements.txt (line 3)) (2.1.2)\n",
            "Collecting jupyter-events>=0.4.0\n",
            "  Downloading jupyter_events-0.6.3-py3-none-any.whl (18 kB)\n",
            "Collecting anyio>=3.1.0\n",
            "  Downloading anyio-3.6.2-py3-none-any.whl (80 kB)\n",
            "\u001b[2K     \u001b[90m━━━━━━━━━━━━━━━━━━━━━━━━━━━━━━━━━━━━━━━━\u001b[0m \u001b[32m80.6/80.6 KB\u001b[0m \u001b[31m10.2 MB/s\u001b[0m eta \u001b[36m0:00:00\u001b[0m\n",
            "\u001b[?25hRequirement already satisfied: nbformat>=5.3.0 in /usr/local/lib/python3.9/dist-packages (from jupyter-server<3,>=1.16.0->jupyterlab->-r umoja23/requirements/requirements.txt (line 3)) (5.7.3)\n",
            "Collecting jupyter-client>=7.4.4\n",
            "  Downloading jupyter_client-8.0.3-py3-none-any.whl (102 kB)\n",
            "\u001b[2K     \u001b[90m━━━━━━━━━━━━━━━━━━━━━━━━━━━━━━━━━━━━━━\u001b[0m \u001b[32m102.7/102.7 KB\u001b[0m \u001b[31m12.5 MB/s\u001b[0m eta \u001b[36m0:00:00\u001b[0m\n",
            "\u001b[?25hCollecting jupyter-server-terminals\n",
            "  Downloading jupyter_server_terminals-0.4.4-py3-none-any.whl (13 kB)\n",
            "Collecting pyzmq>=24\n",
            "  Downloading pyzmq-25.0.1-cp39-cp39-manylinux_2_12_x86_64.manylinux2010_x86_64.whl (1.1 MB)\n",
            "\u001b[2K     \u001b[90m━━━━━━━━━━━━━━━━━━━━━━━━━━━━━━━━━━━━━━━━\u001b[0m \u001b[32m1.1/1.1 MB\u001b[0m \u001b[31m49.8 MB/s\u001b[0m eta \u001b[36m0:00:00\u001b[0m\n",
            "\u001b[?25hRequirement already satisfied: terminado>=0.8.3 in /usr/local/lib/python3.9/dist-packages (from jupyter-server<3,>=1.16.0->jupyterlab->-r umoja23/requirements/requirements.txt (line 3)) (0.17.1)\n",
            "Requirement already satisfied: traitlets>=5.6.0 in /usr/local/lib/python3.9/dist-packages (from jupyter-server<3,>=1.16.0->jupyterlab->-r umoja23/requirements/requirements.txt (line 3)) (5.7.1)\n",
            "Requirement already satisfied: send2trash in /usr/local/lib/python3.9/dist-packages (from jupyter-server<3,>=1.16.0->jupyterlab->-r umoja23/requirements/requirements.txt (line 3)) (1.8.0)\n",
            "Requirement already satisfied: nbconvert>=6.4.4 in /usr/local/lib/python3.9/dist-packages (from jupyter-server<3,>=1.16.0->jupyterlab->-r umoja23/requirements/requirements.txt (line 3)) (6.5.4)\n",
            "Collecting websocket-client\n",
            "  Downloading websocket_client-1.5.1-py3-none-any.whl (55 kB)\n",
            "\u001b[2K     \u001b[90m━━━━━━━━━━━━━━━━━━━━━━━━━━━━━━━━━━━━━━━━\u001b[0m \u001b[32m55.9/55.9 KB\u001b[0m \u001b[31m7.8 MB/s\u001b[0m eta \u001b[36m0:00:00\u001b[0m\n",
            "\u001b[?25hRequirement already satisfied: argon2-cffi in /usr/local/lib/python3.9/dist-packages (from jupyter-server<3,>=1.16.0->jupyterlab->-r umoja23/requirements/requirements.txt (line 3)) (21.3.0)\n",
            "Requirement already satisfied: platformdirs>=2.5 in /usr/local/lib/python3.9/dist-packages (from jupyter-core->jupyterlab->-r umoja23/requirements/requirements.txt (line 3)) (3.1.1)\n",
            "Collecting jupyter-server-fileid<1,>=0.6.0\n",
            "  Downloading jupyter_server_fileid-0.8.0-py3-none-any.whl (15 kB)\n",
            "Collecting ypy-websocket<0.9.0,>=0.8.2\n",
            "  Downloading ypy_websocket-0.8.4-py3-none-any.whl (10 kB)\n",
            "Collecting y-py<0.6.0,>=0.5.3\n",
            "  Downloading y_py-0.5.9-cp39-cp39-manylinux_2_17_x86_64.manylinux2014_x86_64.whl (1.6 MB)\n",
            "\u001b[2K     \u001b[90m━━━━━━━━━━━━━━━━━━━━━━━━━━━━━━━━━━━━━━━━\u001b[0m \u001b[32m1.6/1.6 MB\u001b[0m \u001b[31m80.6 MB/s\u001b[0m eta \u001b[36m0:00:00\u001b[0m\n",
            "\u001b[?25hRequirement already satisfied: babel>=2.10 in /usr/local/lib/python3.9/dist-packages (from jupyterlab-server~=2.19->jupyterlab->-r umoja23/requirements/requirements.txt (line 3)) (2.12.1)\n",
            "Collecting json5>=0.9.0\n",
            "  Downloading json5-0.9.11-py2.py3-none-any.whl (19 kB)\n",
            "Collecting requests\n",
            "  Downloading requests-2.28.2-py3-none-any.whl (62 kB)\n",
            "\u001b[2K     \u001b[90m━━━━━━━━━━━━━━━━━━━━━━━━━━━━━━━━━━━━━━━━\u001b[0m \u001b[32m62.8/62.8 KB\u001b[0m \u001b[31m8.1 MB/s\u001b[0m eta \u001b[36m0:00:00\u001b[0m\n",
            "\u001b[?25hCollecting jsonschema\n",
            "  Downloading jsonschema-4.17.3-py3-none-any.whl (90 kB)\n",
            "\u001b[2K     \u001b[90m━━━━━━━━━━━━━━━━━━━━━━━━━━━━━━━━━━━━━━━━\u001b[0m \u001b[32m90.4/90.4 KB\u001b[0m \u001b[31m13.7 MB/s\u001b[0m eta \u001b[36m0:00:00\u001b[0m\n",
            "\u001b[?25hRequirement already satisfied: pyrsistent!=0.17.0,!=0.17.1,!=0.17.2,>=0.14.0 in /usr/local/lib/python3.9/dist-packages (from jsonschema->ray[default,rllib]==2.2.0->-r umoja23/requirements/requirements.txt (line 6)) (0.19.3)\n",
            "Requirement already satisfied: ipython-genutils in /usr/local/lib/python3.9/dist-packages (from notebook<7->jupyterlab->-r umoja23/requirements/requirements.txt (line 3)) (0.2.0)\n",
            "Requirement already satisfied: ipykernel in /usr/local/lib/python3.9/dist-packages (from notebook<7->jupyterlab->-r umoja23/requirements/requirements.txt (line 3)) (5.3.4)\n",
            "Requirement already satisfied: certifi>=2017.4.17 in /usr/local/lib/python3.9/dist-packages (from requests->ray[default,rllib]==2.2.0->-r umoja23/requirements/requirements.txt (line 6)) (2022.12.7)\n",
            "Requirement already satisfied: idna<4,>=2.5 in /usr/local/lib/python3.9/dist-packages (from requests->ray[default,rllib]==2.2.0->-r umoja23/requirements/requirements.txt (line 6)) (2.10)\n",
            "Requirement already satisfied: urllib3<1.27,>=1.21.1 in /usr/local/lib/python3.9/dist-packages (from requests->ray[default,rllib]==2.2.0->-r umoja23/requirements/requirements.txt (line 6)) (1.26.15)\n",
            "Collecting distlib<1,>=0.3.6\n",
            "  Downloading distlib-0.3.6-py2.py3-none-any.whl (468 kB)\n",
            "\u001b[2K     \u001b[90m━━━━━━━━━━━━━━━━━━━━━━━━━━━━━━━━━━━━━━\u001b[0m \u001b[32m468.5/468.5 KB\u001b[0m \u001b[31m44.6 MB/s\u001b[0m eta \u001b[36m0:00:00\u001b[0m\n",
            "\u001b[?25hRequirement already satisfied: pickleshare in /usr/local/lib/python3.9/dist-packages (from ipython->jupyterlab->-r umoja23/requirements/requirements.txt (line 3)) (0.7.5)\n",
            "Requirement already satisfied: pygments in /usr/local/lib/python3.9/dist-packages (from ipython->jupyterlab->-r umoja23/requirements/requirements.txt (line 3)) (2.6.1)\n",
            "Requirement already satisfied: backcall in /usr/local/lib/python3.9/dist-packages (from ipython->jupyterlab->-r umoja23/requirements/requirements.txt (line 3)) (0.2.0)\n",
            "Requirement already satisfied: pexpect in /usr/local/lib/python3.9/dist-packages (from ipython->jupyterlab->-r umoja23/requirements/requirements.txt (line 3)) (4.8.0)\n",
            "Requirement already satisfied: prompt-toolkit<2.1.0,>=2.0.0 in /usr/local/lib/python3.9/dist-packages (from ipython->jupyterlab->-r umoja23/requirements/requirements.txt (line 3)) (2.0.10)\n",
            "Collecting jedi>=0.10\n",
            "  Downloading jedi-0.18.2-py2.py3-none-any.whl (1.6 MB)\n",
            "\u001b[2K     \u001b[90m━━━━━━━━━━━━━━━━━━━━━━━━━━━━━━━━━━━━━━━━\u001b[0m \u001b[32m1.6/1.6 MB\u001b[0m \u001b[31m76.2 MB/s\u001b[0m eta \u001b[36m0:00:00\u001b[0m\n",
            "\u001b[?25hCollecting nest-asyncio>=1.5\n",
            "  Downloading nest_asyncio-1.5.6-py3-none-any.whl (5.2 kB)\n",
            "Collecting notebook-shim>=0.1.0\n",
            "  Downloading notebook_shim-0.2.2-py3-none-any.whl (13 kB)\n",
            "Collecting opencensus-context>=0.1.3\n",
            "  Downloading opencensus_context-0.1.3-py2.py3-none-any.whl (5.1 kB)\n",
            "Requirement already satisfied: google-api-core<3.0.0,>=1.0.0 in /usr/local/lib/python3.9/dist-packages (from opencensus->ray[default,rllib]==2.2.0->-r umoja23/requirements/requirements.txt (line 6)) (2.11.0)\n",
            "Requirement already satisfied: pytz>=2020.1 in /usr/local/lib/python3.9/dist-packages (from pandas->ray[default,rllib]==2.2.0->-r umoja23/requirements/requirements.txt (line 6)) (2022.7.1)\n",
            "Collecting pygments\n",
            "  Downloading Pygments-2.14.0-py3-none-any.whl (1.1 MB)\n",
            "\u001b[2K     \u001b[90m━━━━━━━━━━━━━━━━━━━━━━━━━━━━━━━━━━━━━━━━\u001b[0m \u001b[32m1.1/1.1 MB\u001b[0m \u001b[31m68.3 MB/s\u001b[0m eta \u001b[36m0:00:00\u001b[0m\n",
            "\u001b[?25hCollecting markdown-it-py<3.0.0,>=2.2.0\n",
            "  Downloading markdown_it_py-2.2.0-py3-none-any.whl (84 kB)\n",
            "\u001b[2K     \u001b[90m━━━━━━━━━━━━━━━━━━━━━━━━━━━━━━━━━━━━━━━━\u001b[0m \u001b[32m84.5/84.5 KB\u001b[0m \u001b[31m12.2 MB/s\u001b[0m eta \u001b[36m0:00:00\u001b[0m\n",
            "\u001b[?25hRequirement already satisfied: networkx>=2.2 in /usr/local/lib/python3.9/dist-packages (from scikit-image->ray[default,rllib]==2.2.0->-r umoja23/requirements/requirements.txt (line 6)) (3.0)\n",
            "Requirement already satisfied: PyWavelets>=1.1.1 in /usr/local/lib/python3.9/dist-packages (from scikit-image->ray[default,rllib]==2.2.0->-r umoja23/requirements/requirements.txt (line 6)) (1.4.1)\n",
            "Requirement already satisfied: tifffile>=2019.7.26 in /usr/local/lib/python3.9/dist-packages (from scikit-image->ray[default,rllib]==2.2.0->-r umoja23/requirements/requirements.txt (line 6)) (2023.2.28)\n",
            "Requirement already satisfied: imageio>=2.4.1 in /usr/local/lib/python3.9/dist-packages (from scikit-image->ray[default,rllib]==2.2.0->-r umoja23/requirements/requirements.txt (line 6)) (2.9.0)\n",
            "Collecting sniffio>=1.1\n",
            "  Downloading sniffio-1.3.0-py3-none-any.whl (10 kB)\n",
            "Requirement already satisfied: wcwidth>=0.1.4 in /usr/local/lib/python3.9/dist-packages (from blessed>=1.17.1->gpustat>=1.0.0->ray[default,rllib]==2.2.0->-r umoja23/requirements/requirements.txt (line 6)) (0.2.6)\n",
            "Requirement already satisfied: googleapis-common-protos<2.0dev,>=1.56.2 in /usr/local/lib/python3.9/dist-packages (from google-api-core<3.0.0,>=1.0.0->opencensus->ray[default,rllib]==2.2.0->-r umoja23/requirements/requirements.txt (line 6)) (1.58.0)\n",
            "Requirement already satisfied: parso<0.9.0,>=0.8.0 in /usr/local/lib/python3.9/dist-packages (from jedi>=0.10->ipython->jupyterlab->-r umoja23/requirements/requirements.txt (line 3)) (0.8.3)\n",
            "Collecting rfc3339-validator\n",
            "  Downloading rfc3339_validator-0.1.4-py2.py3-none-any.whl (3.5 kB)\n",
            "Collecting rfc3986-validator>=0.1.1\n",
            "  Downloading rfc3986_validator-0.1.1-py2.py3-none-any.whl (4.2 kB)\n",
            "Collecting python-json-logger>=2.0.4\n",
            "  Downloading python_json_logger-2.0.7-py3-none-any.whl (8.1 kB)\n",
            "Collecting mdurl~=0.1\n",
            "  Downloading mdurl-0.1.2-py3-none-any.whl (10.0 kB)\n",
            "Requirement already satisfied: beautifulsoup4 in /usr/local/lib/python3.9/dist-packages (from nbconvert>=6.4.4->jupyter-server<3,>=1.16.0->jupyterlab->-r umoja23/requirements/requirements.txt (line 3)) (4.9.3)\n",
            "Requirement already satisfied: lxml in /usr/local/lib/python3.9/dist-packages (from nbconvert>=6.4.4->jupyter-server<3,>=1.16.0->jupyterlab->-r umoja23/requirements/requirements.txt (line 3)) (4.9.2)\n",
            "Requirement already satisfied: pandocfilters>=1.4.1 in /usr/local/lib/python3.9/dist-packages (from nbconvert>=6.4.4->jupyter-server<3,>=1.16.0->jupyterlab->-r umoja23/requirements/requirements.txt (line 3)) (1.5.0)\n",
            "Requirement already satisfied: nbclient>=0.5.0 in /usr/local/lib/python3.9/dist-packages (from nbconvert>=6.4.4->jupyter-server<3,>=1.16.0->jupyterlab->-r umoja23/requirements/requirements.txt (line 3)) (0.7.2)\n",
            "Requirement already satisfied: tinycss2 in /usr/local/lib/python3.9/dist-packages (from nbconvert>=6.4.4->jupyter-server<3,>=1.16.0->jupyterlab->-r umoja23/requirements/requirements.txt (line 3)) (1.2.1)\n",
            "Requirement already satisfied: defusedxml in /usr/local/lib/python3.9/dist-packages (from nbconvert>=6.4.4->jupyter-server<3,>=1.16.0->jupyterlab->-r umoja23/requirements/requirements.txt (line 3)) (0.7.1)\n",
            "Requirement already satisfied: bleach in /usr/local/lib/python3.9/dist-packages (from nbconvert>=6.4.4->jupyter-server<3,>=1.16.0->jupyterlab->-r umoja23/requirements/requirements.txt (line 3)) (6.0.0)\n",
            "Requirement already satisfied: jupyterlab-pygments in /usr/local/lib/python3.9/dist-packages (from nbconvert>=6.4.4->jupyter-server<3,>=1.16.0->jupyterlab->-r umoja23/requirements/requirements.txt (line 3)) (0.2.2)\n",
            "Requirement already satisfied: mistune<2,>=0.8.1 in /usr/local/lib/python3.9/dist-packages (from nbconvert>=6.4.4->jupyter-server<3,>=1.16.0->jupyterlab->-r umoja23/requirements/requirements.txt (line 3)) (0.8.4)\n",
            "Requirement already satisfied: entrypoints>=0.2.2 in /usr/local/lib/python3.9/dist-packages (from nbconvert>=6.4.4->jupyter-server<3,>=1.16.0->jupyterlab->-r umoja23/requirements/requirements.txt (line 3)) (0.4)\n",
            "Requirement already satisfied: fastjsonschema in /usr/local/lib/python3.9/dist-packages (from nbformat>=5.3.0->jupyter-server<3,>=1.16.0->jupyterlab->-r umoja23/requirements/requirements.txt (line 3)) (2.16.3)\n",
            "Requirement already satisfied: pyasn1<0.5.0,>=0.4.6 in /usr/local/lib/python3.9/dist-packages (from pyasn1-modules>=0.2.1->google-auth<3,>=1.6.3->tensorboard==2.11.2->-r umoja23/requirements/requirements.txt (line 7)) (0.4.8)\n",
            "Requirement already satisfied: oauthlib>=3.0.0 in /usr/local/lib/python3.9/dist-packages (from requests-oauthlib>=0.7.0->google-auth-oauthlib<0.5,>=0.4.1->tensorboard==2.11.2->-r umoja23/requirements/requirements.txt (line 7)) (3.2.2)\n",
            "Requirement already satisfied: ptyprocess in /usr/local/lib/python3.9/dist-packages (from terminado>=0.8.3->jupyter-server<3,>=1.16.0->jupyterlab->-r umoja23/requirements/requirements.txt (line 3)) (0.7.0)\n",
            "Collecting aiosqlite<1,>=0.17.0\n",
            "  Downloading aiosqlite-0.18.0-py3-none-any.whl (15 kB)\n",
            "Collecting ypy-websocket<0.9.0,>=0.8.2\n",
            "  Downloading ypy_websocket-0.8.3-py3-none-any.whl (10 kB)\n",
            "  Downloading ypy_websocket-0.8.2-py3-none-any.whl (10 kB)\n",
            "Collecting aiofiles<23,>=22.1.0\n",
            "  Downloading aiofiles-22.1.0-py3-none-any.whl (14 kB)\n",
            "Requirement already satisfied: argon2-cffi-bindings in /usr/local/lib/python3.9/dist-packages (from argon2-cffi->jupyter-server<3,>=1.16.0->jupyterlab->-r umoja23/requirements/requirements.txt (line 3)) (21.2.0)\n",
            "\u001b[33mWARNING: jsonschema 4.3.3 does not provide the extra 'format-nongpl'\u001b[0m\u001b[33m\n",
            "\u001b[0mCollecting webcolors>=1.11\n",
            "  Downloading webcolors-1.12-py3-none-any.whl (9.9 kB)\n",
            "Collecting uri-template\n",
            "  Downloading uri_template-1.2.0-py3-none-any.whl (10 kB)\n",
            "Collecting jsonpointer>1.13\n",
            "  Downloading jsonpointer-2.3-py2.py3-none-any.whl (7.8 kB)\n",
            "Collecting fqdn\n",
            "  Downloading fqdn-1.5.1-py3-none-any.whl (9.1 kB)\n",
            "Collecting isoduration\n",
            "  Downloading isoduration-20.11.0-py3-none-any.whl (11 kB)\n",
            "Requirement already satisfied: cffi>=1.0.1 in /usr/local/lib/python3.9/dist-packages (from argon2-cffi-bindings->argon2-cffi->jupyter-server<3,>=1.16.0->jupyterlab->-r umoja23/requirements/requirements.txt (line 3)) (1.15.1)\n",
            "Requirement already satisfied: soupsieve>1.2 in /usr/local/lib/python3.9/dist-packages (from beautifulsoup4->nbconvert>=6.4.4->jupyter-server<3,>=1.16.0->jupyterlab->-r umoja23/requirements/requirements.txt (line 3)) (2.4)\n",
            "Requirement already satisfied: webencodings in /usr/local/lib/python3.9/dist-packages (from bleach->nbconvert>=6.4.4->jupyter-server<3,>=1.16.0->jupyterlab->-r umoja23/requirements/requirements.txt (line 3)) (0.5.1)\n",
            "Requirement already satisfied: pycparser in /usr/local/lib/python3.9/dist-packages (from cffi>=1.0.1->argon2-cffi-bindings->argon2-cffi->jupyter-server<3,>=1.16.0->jupyterlab->-r umoja23/requirements/requirements.txt (line 3)) (2.21)\n",
            "Collecting arrow>=0.15.0\n",
            "  Downloading arrow-1.2.3-py3-none-any.whl (66 kB)\n",
            "\u001b[2K     \u001b[90m━━━━━━━━━━━━━━━━━━━━━━━━━━━━━━━━━━━━━━━━\u001b[0m \u001b[32m66.4/66.4 KB\u001b[0m \u001b[31m7.0 MB/s\u001b[0m eta \u001b[36m0:00:00\u001b[0m\n",
            "\u001b[?25h\u001b[33mWARNING: The candidate selected for download or install is a yanked version: 'grpcio' candidate (version 1.45.0 at https://files.pythonhosted.org/packages/7e/16/8ba5fd3289e0a75244689a25ae96f9055af2f6489abcaf430bb0256a8789/grpcio-1.45.0-cp39-cp39-manylinux_2_17_x86_64.manylinux2014_x86_64.whl#sha256=0fe6acb1439127e0bee773f8a9a3ece290cb4cac4fe8d46b10bc8dda250a990c (from https://pypi.org/simple/grpcio/) (requires-python:>=3.6))\n",
            "Reason for being yanked: Segfaults\u001b[0m\u001b[33m\n",
            "\u001b[0mBuilding wheels for collected packages: gym, gpustat\n",
            "  Building wheel for gym (pyproject.toml) ... \u001b[?25l\u001b[?25hdone\n",
            "  Created wheel for gym: filename=gym-0.22.0-py3-none-any.whl size=708395 sha256=5f21ed23f52a392a79ca72a6a47891877c1c8ce49a24d3211099e1b36d620eee\n",
            "  Stored in directory: /root/.cache/pip/wheels/c4/15/15/94c62e06887fb88768c5fa41482b80905ea71f3ede81040ffa\n",
            "  Building wheel for gpustat (setup.py) ... \u001b[?25l\u001b[?25hdone\n",
            "  Created wheel for gpustat: filename=gpustat-1.0.0-py3-none-any.whl size=19884 sha256=22f67032fb7c342c19ec3d484e578ac7d48b8279bc8426ece73edea0a9244fa8\n",
            "  Stored in directory: /root/.cache/pip/wheels/ce/13/aa/145d9d670feb2cf4a0691b9a3552aafc8a1b49c5162a0f379d\n",
            "Successfully built gym gpustat\n",
            "Installing collected packages: y-py, py-spy, opencensus-context, nvidia-ml-py, json5, distlib, colorful, websocket-client, webcolors, virtualenv, uri-template, tensorflow-io-gcs-filesystem, sniffio, rfc3986-validator, rfc3339-validator, pyzmq, python-json-logger, pygments, psutil, prometheus-client, numpy, nest-asyncio, multidict, mdurl, lz4, jsonschema, jsonpointer, jedi, grpcio, frozenlist, fqdn, charset-normalizer, blessed, async-timeout, aiosqlite, aiofiles, ypy-websocket, yarl, tensorflow-io, tensorboardX, requests, markdown-it-py, jupyter-ydoc, jupyter-server-terminals, jupyter-client, gym, gpustat, arrow, anyio, aiosignal, rich, ray, isoduration, aiohttp, opencensus, aiohttp-cors, jupyter-events, jupyter-server, notebook-shim, jupyterlab-server, jupyter-server-fileid, nbclassic, jupyter-server-ydoc, jupyterlab\n",
            "  Attempting uninstall: tensorflow-io-gcs-filesystem\n",
            "    Found existing installation: tensorflow-io-gcs-filesystem 0.31.0\n",
            "    Uninstalling tensorflow-io-gcs-filesystem-0.31.0:\n",
            "      Successfully uninstalled tensorflow-io-gcs-filesystem-0.31.0\n",
            "  Attempting uninstall: pyzmq\n",
            "    Found existing installation: pyzmq 23.2.1\n",
            "    Uninstalling pyzmq-23.2.1:\n",
            "      Successfully uninstalled pyzmq-23.2.1\n",
            "  Attempting uninstall: pygments\n",
            "    Found existing installation: Pygments 2.6.1\n",
            "    Uninstalling Pygments-2.6.1:\n",
            "      Successfully uninstalled Pygments-2.6.1\n",
            "  Attempting uninstall: psutil\n",
            "    Found existing installation: psutil 5.4.8\n",
            "    Uninstalling psutil-5.4.8:\n",
            "      Successfully uninstalled psutil-5.4.8\n",
            "  Attempting uninstall: prometheus-client\n",
            "    Found existing installation: prometheus-client 0.16.0\n",
            "    Uninstalling prometheus-client-0.16.0:\n",
            "      Successfully uninstalled prometheus-client-0.16.0\n",
            "  Attempting uninstall: numpy\n",
            "    Found existing installation: numpy 1.22.4\n",
            "    Uninstalling numpy-1.22.4:\n",
            "      Successfully uninstalled numpy-1.22.4\n",
            "  Attempting uninstall: jsonschema\n",
            "    Found existing installation: jsonschema 4.3.3\n",
            "    Uninstalling jsonschema-4.3.3:\n",
            "      Successfully uninstalled jsonschema-4.3.3\n",
            "  Attempting uninstall: grpcio\n",
            "    Found existing installation: grpcio 1.51.3\n",
            "    Uninstalling grpcio-1.51.3:\n",
            "      Successfully uninstalled grpcio-1.51.3\n",
            "  Attempting uninstall: requests\n",
            "    Found existing installation: requests 2.25.1\n",
            "    Uninstalling requests-2.25.1:\n",
            "      Successfully uninstalled requests-2.25.1\n",
            "  Attempting uninstall: jupyter-client\n",
            "    Found existing installation: jupyter-client 6.1.12\n",
            "    Uninstalling jupyter-client-6.1.12:\n",
            "      Successfully uninstalled jupyter-client-6.1.12\n",
            "  Attempting uninstall: gym\n",
            "    Found existing installation: gym 0.25.2\n",
            "    Uninstalling gym-0.25.2:\n",
            "      Successfully uninstalled gym-0.25.2\n",
            "\u001b[31mERROR: pip's dependency resolver does not currently take into account all the packages that are installed. This behaviour is the source of the following dependency conflicts.\n",
            "grpcio-status 1.48.2 requires grpcio>=1.48.2, but you have grpcio 1.45.0 which is incompatible.\n",
            "google-cloud-bigquery 3.4.2 requires grpcio<2.0dev,>=1.47.0, but you have grpcio 1.45.0 which is incompatible.\u001b[0m\u001b[31m\n",
            "\u001b[0mSuccessfully installed aiofiles-22.1.0 aiohttp-3.8.4 aiohttp-cors-0.7.0 aiosignal-1.3.1 aiosqlite-0.18.0 anyio-3.6.2 arrow-1.2.3 async-timeout-4.0.2 blessed-1.20.0 charset-normalizer-3.1.0 colorful-0.5.5 distlib-0.3.6 fqdn-1.5.1 frozenlist-1.3.3 gpustat-1.0.0 grpcio-1.45.0 gym-0.22.0 isoduration-20.11.0 jedi-0.18.2 json5-0.9.11 jsonpointer-2.3 jsonschema-4.17.3 jupyter-client-8.0.3 jupyter-events-0.6.3 jupyter-server-2.5.0 jupyter-server-fileid-0.8.0 jupyter-server-terminals-0.4.4 jupyter-server-ydoc-0.6.1 jupyter-ydoc-0.2.3 jupyterlab-3.6.1 jupyterlab-server-2.20.0 lz4-4.3.2 markdown-it-py-2.2.0 mdurl-0.1.2 multidict-6.0.4 nbclassic-0.5.3 nest-asyncio-1.5.6 notebook-shim-0.2.2 numpy-1.23.5 nvidia-ml-py-11.495.46 opencensus-0.11.2 opencensus-context-0.1.3 prometheus-client-0.13.1 psutil-5.9.4 py-spy-0.3.14 pygments-2.14.0 python-json-logger-2.0.7 pyzmq-25.0.1 ray-2.2.0 requests-2.28.2 rfc3339-validator-0.1.4 rfc3986-validator-0.1.1 rich-13.3.2 sniffio-1.3.0 tensorboardX-2.6 tensorflow-io-0.30.0 tensorflow-io-gcs-filesystem-0.30.0 uri-template-1.2.0 virtualenv-20.21.0 webcolors-1.12 websocket-client-1.5.1 y-py-0.5.9 yarl-1.8.2 ypy-websocket-0.8.2\n"
          ]
        }
      ],
      "source": [
        "# Istall requirements\n",
        "%pip install -r umoja23/requirements/requirements.txt"
      ]
    },
    {
      "cell_type": "markdown",
      "id": "f848219e",
      "metadata": {
        "id": "f848219e"
      },
      "source": [
        "## Imports\n",
        "Here we will be importing the moduls we are using. \n",
        "\n",
        "\n",
        "**Note** : If you face issues importing numpy. Try restarting the runtime (go to Runtime -> Restart runtime) "
      ]
    },
    {
      "cell_type": "code",
      "execution_count": 19,
      "id": "fd5e7f6c",
      "metadata": {
        "id": "fd5e7f6c"
      },
      "outputs": [],
      "source": [
        "# Add installed package to the path\n",
        "import os, sys \n",
        "sys.path.append(os.path.abspath(\"./umoja23\"))\n",
        "\n",
        "\n",
        "# Environment\n",
        "from rubiks_cube.env import RubiksCube, create_flattened_env\n",
        "import gym\n",
        "import matplotlib.pyplot as plt\n",
        "\n",
        "# Training\n",
        "\n",
        "from umoja23.training.example import main_training\n",
        "from umoja23.training.configs import CUSTOM_MODEL_CONFIG\n",
        "\n",
        "# Evaluation\n",
        "\n",
        "from ray.rllib.algorithms import AlgorithmConfig\n",
        "from ray.rllib.algorithms.ppo import PPO\n",
        "from umoja23.training.configs import get_config, MEDIUM_ENV_CONFIG\n",
        "from umoja23.training.registry import register, _ray\n",
        "\n",
        "from umoja23.evaluation.seeds import PUBLIC_SEEDS\n",
        "from umoja23.evaluation.generate_rollout import main_rollout\n",
        "from evaluation.validate_rollout import main_validation\n",
        "\n",
        "%matplotlib inline"
      ]
    },
    {
      "cell_type": "markdown",
      "id": "acf7f6ee",
      "metadata": {
        "id": "acf7f6ee"
      },
      "source": [
        "## Introduction to the environment"
      ]
    },
    {
      "cell_type": "markdown",
      "id": "d2b16bd8",
      "metadata": {
        "id": "d2b16bd8"
      },
      "source": [
        "The Rubik's Cube is likely a very familiar puzzle to everyone! In case you would like to read more about its history or some of the maths and mechanics behind it, the Wikipedia page is a good starting point: https://en.wikipedia.org/wiki/Rubik%27s_Cube\n",
        "\n",
        "We present here an implementation in python (numpy) that allows you to explore how reinforcement learning can be applied to the problem.\n",
        "\n",
        "First let's instantiate and walk through some of the basic mechanics of the environment. Feel free to consult rubiks_cube/env.py to see details of the implementation."
      ]
    },
    {
      "cell_type": "code",
      "execution_count": 3,
      "id": "742654bb",
      "metadata": {
        "id": "742654bb"
      },
      "outputs": [],
      "source": [
        "env = RubiksCube(step_limit=10, reward_function_type=\"sparse\", num_scrambles_on_reset=8)\n",
        "\n",
        "assert isinstance(env, gym.Env)"
      ]
    },
    {
      "cell_type": "markdown",
      "id": "7d21532b",
      "metadata": {
        "id": "7d21532b"
      },
      "source": [
        "The observation space consists of\n",
        "\n",
        "1: the cube, with ids indicating the colour each sticker. There are 6 faces, each containing 3x3 stickers;\n",
        "\n",
        "2: the step_count, which starts at 0 and increments by 1 on every turn taken, until the environment step_limit is hit (at which point the episode must end).\n",
        "\n",
        "The action space consists of a face to turn, and an amount. Faces can be 6 possible values, and amounts can be 3, corresponding to (in order) clockwise, anti-clockwise, and a half turn.\n",
        "\n",
        "Convention:\n",
        "\n",
        "0 = up face\n",
        "\n",
        "1 = front face\n",
        "\n",
        "2 = right face\n",
        "\n",
        "3 = back face\n",
        "\n",
        "4 = left face\n",
        "\n",
        "5 = down face\n",
        "\n",
        "All read in reading order when looking directly at face\n",
        "\n",
        "To look directly at the faces:\n",
        "\n",
        "UP: LEFT face on the left and BACK face pointing up\n",
        "\n",
        "FRONT: LEFT face on the left and UP face pointing up\n",
        "\n",
        "RIGHT: FRONT face on the left and UP face pointing up\n",
        "\n",
        "BACK: RIGHT face on the left and UP face pointing up\n",
        "\n",
        "LEFT: BACK face on the left and UP face pointing up\n",
        "\n",
        "DOWN: LEFT face on the left and FRONT face pointing up\n",
        "\n",
        "Turn amounts (eg clockwise) are when looking directly at the face."
      ]
    },
    {
      "cell_type": "code",
      "execution_count": 4,
      "id": "3e869aa7",
      "metadata": {
        "id": "3e869aa7",
        "outputId": "aa5b7455-4f43-4a59-8067-d6f3996a042e",
        "colab": {
          "base_uri": "https://localhost:8080/"
        }
      },
      "outputs": [
        {
          "output_type": "stream",
          "name": "stdout",
          "text": [
            "Observation space: Dict(cube:Box(0, 5, (6, 3, 3), int8), step_count:Box(0, 10, (1,), int32))\n",
            "Action space: Tuple(Discrete(6), Discrete(3))\n"
          ]
        }
      ],
      "source": [
        "print(f\"Observation space: {env.observation_space}\")\n",
        "print(f\"Action space: {env.action_space}\")"
      ]
    },
    {
      "cell_type": "code",
      "execution_count": 5,
      "id": "4dc30a6a",
      "metadata": {
        "id": "4dc30a6a",
        "outputId": "b1a412d2-5928-427a-9b7a-c7dfbf57b72e",
        "colab": {
          "base_uri": "https://localhost:8080/",
          "height": 426
        }
      },
      "outputs": [
        {
          "output_type": "display_data",
          "data": {
            "text/plain": [
              "<Figure size 432x432 with 6 Axes>"
            ],
            "image/png": "[encoded data removed]"
          },
          "metadata": {}
        }
      ],
      "source": [
        "# Render the environment\n",
        "\n",
        "obs = env.reset()\n",
        "env.render()"
      ]
    },
    {
      "cell_type": "markdown",
      "id": "36a9cede",
      "metadata": {
        "id": "36a9cede"
      },
      "source": [
        "As mentioned, an action consists of specifying a face and an amount to turn it by. We can visualise the impact of an action by using the rendering above."
      ]
    },
    {
      "cell_type": "code",
      "execution_count": 6,
      "id": "e9513d6d",
      "metadata": {
        "id": "e9513d6d",
        "outputId": "83d748b4-0567-4eaf-dd5c-30e33e493a41",
        "colab": {
          "base_uri": "https://localhost:8080/",
          "height": 426
        }
      },
      "outputs": [
        {
          "output_type": "display_data",
          "data": {
            "text/plain": [
              "<Figure size 432x432 with 6 Axes>"
            ],
            "image/png": "[encoded data removed]"
          },
          "metadata": {}
        }
      ],
      "source": [
        "# Don't scramble the cube so it's easier to understand what's happening\n",
        "env = RubiksCube(step_limit=10, reward_function_type=\"sparse\", num_scrambles_on_reset=0)\n",
        "obs = env.reset()\n",
        "env.render()"
      ]
    },
    {
      "cell_type": "code",
      "execution_count": 7,
      "id": "03791ad4",
      "metadata": {
        "id": "03791ad4",
        "outputId": "c5461576-b695-4ca5-aca7-50ec835e5205",
        "colab": {
          "base_uri": "https://localhost:8080/",
          "height": 426
        }
      },
      "outputs": [
        {
          "output_type": "display_data",
          "data": {
            "text/plain": [
              "<Figure size 432x432 with 6 Axes>"
            ],
            "image/png": "[encoded data removed]"
          },
          "metadata": {}
        }
      ],
      "source": [
        "# Turn the UP face clockwise (by 90 degrees)\n",
        "action = (0, 0)\n",
        "obs, reward, done, info = env.step(action)\n",
        "env.render()"
      ]
    },
    {
      "cell_type": "markdown",
      "id": "2e923adb",
      "metadata": {
        "id": "2e923adb"
      },
      "source": [
        "By default, the reward function is +1 if the cube is solved, otherwise 0. This is specified by passing reward_function_type to the environment constructor. You can implement your own custom reward function if you think that doing so would better incentivise the agent to learn how to solve the cube! However, be aware that the final evaluation will be purely on how often the cube is solved."
      ]
    },
    {
      "cell_type": "code",
      "execution_count": 8,
      "id": "33585280",
      "metadata": {
        "id": "33585280",
        "outputId": "d9a9097f-6c85-4fca-acbc-b7d910dfd631",
        "colab": {
          "base_uri": "https://localhost:8080/"
        }
      },
      "outputs": [
        {
          "output_type": "stream",
          "name": "stdout",
          "text": [
            "Reward before solving: 0.0\n",
            "Reward after solving: 1.0\n"
          ]
        }
      ],
      "source": [
        "print(f\"Reward before solving: {reward}\")\n",
        "\n",
        "# Invert the above action\n",
        "action = (0, 1)\n",
        "obs, reward, done, info = env.step(action)\n",
        "print(f\"Reward after solving: {reward}\")"
      ]
    },
    {
      "cell_type": "markdown",
      "id": "cbc561ce",
      "metadata": {
        "id": "cbc561ce"
      },
      "source": [
        "The episode can finish for one of two reasons:\n",
        "\n",
        "1: The cube is solved\n",
        "\n",
        "2: The step limit is hit. In this case, all rewards throughout the episode will be 0"
      ]
    },
    {
      "cell_type": "code",
      "execution_count": 9,
      "id": "19ff7617",
      "metadata": {
        "id": "19ff7617",
        "outputId": "48d7cb7e-8339-4806-a60f-9e1b1043ece7",
        "colab": {
          "base_uri": "https://localhost:8080/"
        }
      },
      "outputs": [
        {
          "output_type": "stream",
          "name": "stdout",
          "text": [
            "Above environment has finished? True\n",
            "New environment has finished? False. Reward obtained=0.0\n",
            "New environment has finished? False. Reward obtained=0.0\n",
            "New environment has finished? False. Reward obtained=0.0\n",
            "New environment has finished? False. Reward obtained=0.0\n",
            "New environment has finished? False. Reward obtained=0.0\n",
            "New environment has finished? False. Reward obtained=0.0\n",
            "New environment has finished? False. Reward obtained=0.0\n",
            "New environment has finished? False. Reward obtained=0.0\n",
            "New environment has finished? False. Reward obtained=0.0\n",
            "New environment has finished? True. Reward obtained=0.0\n"
          ]
        }
      ],
      "source": [
        "print(f\"Above environment has finished? {done}\")\n",
        "\n",
        "env = RubiksCube(step_limit=10, reward_function_type=\"sparse\", num_scrambles_on_reset=100)\n",
        "obs = env.reset()\n",
        "done = False\n",
        "while not done:\n",
        "    # Select a random action\n",
        "    action = env.action_space.sample()\n",
        "    obs, reward, done, info = env.step(action)\n",
        "    print(f\"New environment has finished? {done}. Reward obtained={reward}\")"
      ]
    },
    {
      "cell_type": "markdown",
      "id": "b91a7d94",
      "metadata": {
        "id": "b91a7d94"
      },
      "source": [
        "For some models it might be more helpful to \"flatten\" the action space, meaning to have a single integer between 0 and 17 rather than a tuple of integers. For this purpose you can use the already implemented wrapper. To get this behaviour in models below, you will typically want to set FLATTEN_ACTIONS to True in training/configs.py"
      ]
    },
    {
      "cell_type": "code",
      "execution_count": 10,
      "id": "77359d83",
      "metadata": {
        "id": "77359d83",
        "outputId": "78295c44-3b15-45e6-eb56-209a27262226",
        "colab": {
          "base_uri": "https://localhost:8080/"
        }
      },
      "outputs": [
        {
          "output_type": "stream",
          "name": "stdout",
          "text": [
            "Discrete(18)\n"
          ]
        }
      ],
      "source": [
        "env = create_flattened_env(dict(step_limit=10, reward_function_type=\"sparse\", num_scrambles_on_reset=100))\n",
        "\n",
        "print(env.action_space)"
      ]
    },
    {
      "cell_type": "markdown",
      "id": "848a8883",
      "metadata": {
        "id": "848a8883"
      },
      "source": [
        "Finally, you can combine multiple frames together to create an animation of your Rubik's Cube!"
      ]
    },
    {
      "cell_type": "code",
      "execution_count": 11,
      "id": "695148aa",
      "metadata": {
        "id": "695148aa"
      },
      "outputs": [],
      "source": [
        "env = RubiksCube(step_limit=10, reward_function_type=\"sparse\", num_scrambles_on_reset=100)\n",
        "obs = env.reset()\n",
        "cubes = [obs[\"cube\"].copy()]\n",
        "done = False\n",
        "while not done:\n",
        "    action = env.action_space.sample()\n",
        "    obs, reward, done, info = env.step(action)\n",
        "    cubes.append(obs[\"cube\"].copy())\n",
        "\n",
        "anim = env.animation(cubes)\n",
        "anim.save(\"cube.gif\")"
      ]
    },
    {
      "cell_type": "markdown",
      "id": "4d0e96cc",
      "metadata": {
        "id": "4d0e96cc"
      },
      "source": [
        "## Training"
      ]
    },
    {
      "cell_type": "markdown",
      "id": "3f5e6a34",
      "metadata": {
        "id": "3f5e6a34"
      },
      "source": [
        "The algorithm implemented here is Proximal Policy Optimization (PPO), which is an on-policy reinforcement learning algorithm developed by OpenAI. For more information please consult their page: https://openai.com/research/openai-baselines-ppo. Note that one could equally use other algorithms such as DQN and you encouraged to experiment with this, though it may involve changing other parts of the code such as evaluation/generate_rollout.py.\n",
        "\n",
        "Fundamentally, a PPO agent should implement a policy network and a value network. The policy network maps observations to a parametrisation of the policy that is used to select the next action, whereas the value network maps observations to a single number which is supposed to estimate the expected discounted future reward, and is used to stabilise the training. The model implemented here by default shares most of the parameters between these two networks, though you are encouraged to experiment with different model architectures.\n",
        "\n",
        "To understand the architecture of the model, examine the model class in training/PPO_models.py. By default it will use FactorisedPPOModel, which takes as input the cube and step count from the observation, and produces an encoding of the observation, which will be a fixed size vector of size given by the final entry of dense_layer_dims in the model_config (defined in training.configs.CUSTOM_MODEL_CONFIG). This encoding is projected to a single number for predicting the value. As for the policy, we take advantage of the factorised/conditional structure of the action space to produce first logits for the decision of which face to turn - the model's face_selection_model. Finally, we compute a conditional distribution by concatenating a sampled value of the selected face (encoded as a one-hot) to the encoding and projecting to give logits for the decision of how much to turn the face - the model's cube_movement_amount_selection_model. This model must be used in combination with the FactorisedActionDistribution.\n",
        "\n",
        "Note that if one instead flattens the action space this conditional structure will no longer be present and so one should use a different model like FlatPPOModel, and will not need to specify a custom action distribution (since by default PPO is expecting the model to output logits for a flat action space)."
      ]
    },
    {
      "cell_type": "markdown",
      "id": "1cfe7e3d",
      "metadata": {
        "id": "1cfe7e3d"
      },
      "source": [
        "### Training your first model"
      ]
    },
    {
      "cell_type": "markdown",
      "id": "2e888c0a",
      "metadata": {
        "id": "2e888c0a"
      },
      "source": [
        "The main training script will write a checkpoint (learned model weights and associated metadata) that you will later be able to use to evaluate training on unseen instances.\n",
        "\n",
        "This script can also be run from the command line; the following command will execute the same code as the python in the cell below:\n",
        "\n",
        "python training/example.py --step_limit 10 --reward_function_type sparse --num_scrambles_on_reset 2 --agent_name PPO --num_iterations 2"
      ]
    },
    {
      "cell_type": "code",
      "execution_count": 12,
      "id": "1a95eed7",
      "metadata": {
        "id": "1a95eed7",
        "outputId": "44e7e711-d3e0-41fd-86bf-f9f0121540cc",
        "colab": {
          "base_uri": "https://localhost:8080/",
          "height": 1000
        }
      },
      "outputs": [
        {
          "output_type": "stream",
          "name": "stderr",
          "text": [
            "2023-03-17 15:49:39,071\tINFO worker.py:1529 -- Started a local Ray instance. View the dashboard at \u001b[1m\u001b[32m127.0.0.1:8265 \u001b[39m\u001b[22m\n"
          ]
        },
        {
          "output_type": "display_data",
          "data": {
            "text/plain": [
              "<IPython.core.display.HTML object>"
            ],
            "text/html": []
          },
          "metadata": {}
        },
        {
          "output_type": "stream",
          "name": "stderr",
          "text": [
            "2023-03-17 15:49:42,038\tINFO algorithm_config.py:2503 -- Your framework setting is 'tf', meaning you are using static-graph mode. Set framework='tf2' to enable eager execution with tf2.x. You may also then want to set eager_tracing=True in order to reach similar execution speed as with static-graph mode.\n",
            "2023-03-17 15:49:42,045\tINFO algorithm_config.py:2503 -- Your framework setting is 'tf', meaning you are using static-graph mode. Set framework='tf2' to enable eager execution with tf2.x. You may also then want to set eager_tracing=True in order to reach similar execution speed as with static-graph mode.\n",
            "2023-03-17 15:49:42,173\tWARNING worker.py:837 -- `ray.get_gpu_ids()` will always return the empty list when called from the driver. This is because Ray does not manage GPU allocations to the driver process.\n",
            ":task_name:bundle_reservation_check_func\n"
          ]
        },
        {
          "output_type": "stream",
          "name": "stdout",
          "text": [
            ":task_name:bundle_reservation_check_func\n"
          ]
        },
        {
          "output_type": "stream",
          "name": "stderr",
          "text": [
            ":actor_name:PPO\n",
            "2023-03-17 15:49:42,391\tWARNING algorithm_config.py:488 -- Cannot create PPOConfig from given `config_dict`! Property __stdout_file__ not supported.\n",
            "2023-03-17 15:49:42,394\tINFO algorithm_config.py:2503 -- Your framework setting is 'tf', meaning you are using static-graph mode. Set framework='tf2' to enable eager execution with tf2.x. You may also then want to set eager_tracing=True in order to reach similar execution speed as with static-graph mode.\n",
            "2023-03-17 15:49:42,400\tINFO algorithm.py:501 -- Current log_level is WARN. For more information, set 'log_level': 'INFO' / 'DEBUG' or use the -v and -vv flags.\n"
          ]
        },
        {
          "output_type": "stream",
          "name": "stdout",
          "text": [
            ":actor_name:PPO\n"
          ]
        },
        {
          "output_type": "stream",
          "name": "stderr",
          "text": [
            ":actor_name:RolloutWorker\n",
            "2023-03-17 15:49:42,627\tWARNING env.py:147 -- Your env doesn't have a .spec.max_episode_steps attribute. This is fine if you have set 'horizon' in your config dictionary, or `soft_horizon`. However, if you haven't, 'horizon' will default to infinity, and your environment will not be reset.\n"
          ]
        },
        {
          "output_type": "stream",
          "name": "stdout",
          "text": [
            ":actor_name:RolloutWorker\n"
          ]
        },
        {
          "output_type": "stream",
          "name": "stderr",
          "text": [
            "WARNING:tensorflow:From /usr/local/lib/python3.9/dist-packages/keras/initializers/initializers_v1.py:297: calling RandomUniform.__init__ (from tensorflow.python.ops.init_ops) with dtype is deprecated and will be removed in a future version.\n",
            "Instructions for updating:\n",
            "Call initializer instance with the dtype argument instead of passing it to the constructor\n"
          ]
        },
        {
          "output_type": "stream",
          "name": "stdout",
          "text": [
            "Model: \"encoding_model\"\n",
            "__________________________________________________________________________________________________\n",
            " Layer (type)                   Output Shape         Param #     Connected to                     \n",
            "==================================================================================================\n",
            " cube_input (InputLayer)        [(None, 6, 3, 3)]    0           []                               \n",
            "                                                                                                  \n",
            " step_count_input (InputLayer)  [(None, 1)]          0           []                               \n",
            "                                                                                                  \n",
            " embedding (Embedding)          (None, 6, 3, 3, 4)   24          ['cube_input[0][0]']             \n",
            "                                                                                                  \n",
            " tf_op_layer_default_policy_wk1  [(None, 1)]         0           ['step_count_input[0][0]']       \n",
            " /truediv (TensorFlowOpLayer)                                                                     \n",
            "                                                                                                  \n",
            " flatten (Flatten)              (None, 216)          0           ['embedding[0][0]']              \n",
            "                                                                                                  \n",
            " dense (Dense)                  (None, 4)            8           ['tf_op_layer_default_policy_wk1/\n",
            "                                                                 truediv[0][0]']                  \n",
            "                                                                                                  \n",
            " concatenate (Concatenate)      (None, 220)          0           ['flatten[0][0]',                \n",
            "                                                                  'dense[0][0]']                  \n",
            "                                                                                                  \n",
            " dense_1 (Dense)                (None, 32)           7072        ['concatenate[0][0]']            \n",
            "                                                                                                  \n",
            " dense_2 (Dense)                (None, 64)           2112        ['dense_1[0][0]']                \n",
            "                                                                                                  \n",
            " dense_3 (Dense)                (None, 1)            65          ['dense_2[0][0]']                \n",
            "                                                                                                  \n",
            "==================================================================================================\n",
            "Total params: 9,281\n",
            "Trainable params: 9,281\n",
            "Non-trainable params: 0\n",
            "__________________________________________________________________________________________________\n",
            "Model: \"face_selection_model\"\n",
            "_________________________________________________________________\n",
            " Layer (type)                Output Shape              Param #   \n",
            "=================================================================\n",
            " input_1 (InputLayer)        [(None, 64)]              0         \n",
            "                                                                 \n",
            " dense_4 (Dense)             (None, 6)                 390       \n",
            "                                                                 \n",
            "=================================================================\n",
            "Total params: 390\n",
            "Trainable params: 390\n",
            "Non-trainable params: 0\n",
            "_________________________________________________________________\n",
            "Model: \"cube_movement_amount_selection_model\"\n",
            "__________________________________________________________________________________________________\n",
            " Layer (type)                   Output Shape         Param #     Connected to                     \n",
            "==================================================================================================\n",
            " selected_face_input (InputLaye  [(None,)]           0           []                               \n",
            " r)                                                                                               \n",
            "                                                                                                  \n",
            " input_1 (InputLayer)           [(None, 64)]         0           []                               \n",
            "                                                                                                  \n",
            " tf_op_layer_default_policy_wk1  [(None, 6)]         0           ['selected_face_input[0][0]']    \n",
            " /one_hot (TensorFlowOpLayer)                                                                     \n",
            "                                                                                                  \n",
            " tf_op_layer_default_policy_wk1  [(None, 70)]        0           ['input_1[0][0]',                \n",
            " /concat (TensorFlowOpLayer)                                      'tf_op_layer_default_policy_wk1/\n",
            "                                                                 one_hot[0][0]']                  \n",
            "                                                                                                  \n",
            " dense_5 (Dense)                (None, 3)            213         ['tf_op_layer_default_policy_wk1/\n",
            "                                                                 concat[0][0]']                   \n",
            "                                                                                                  \n",
            "==================================================================================================\n",
            "Total params: 213\n",
            "Trainable params: 213\n",
            "Non-trainable params: 0\n",
            "__________________________________________________________________________________________________\n"
          ]
        },
        {
          "output_type": "stream",
          "name": "stderr",
          "text": [
            "2023-03-17 15:49:43,615\tWARNING catalog.py:563 -- Custom ModelV2 should accept all custom options as **kwargs, instead of expecting them in config['custom_model_config']!\n"
          ]
        },
        {
          "output_type": "stream",
          "name": "stdout",
          "text": [
            "Total parameters in model: 9884\n",
            ":actor_name:RolloutWorker\n"
          ]
        },
        {
          "output_type": "stream",
          "name": "stderr",
          "text": [
            ":actor_name:RolloutWorker\n"
          ]
        },
        {
          "output_type": "stream",
          "name": "stdout",
          "text": [
            "Model: \"encoding_model\"\n",
            "__________________________________________________________________________________________________\n",
            " Layer (type)                   Output Shape         Param #     Connected to                     \n",
            "==================================================================================================\n",
            " cube_input (InputLayer)        [(None, 6, 3, 3)]    0           []                               \n",
            "                                                                                                  \n",
            " step_count_input (InputLayer)  [(None, 1)]          0           []                               \n",
            "                                                                                                  \n",
            " embedding (Embedding)          (None, 6, 3, 3, 4)   24          ['cube_input[0][0]']             \n",
            "                                                                                                  \n",
            " tf_op_layer_default_policy_wk2  [(None, 1)]         0           ['step_count_input[0][0]']       \n",
            " /truediv (TensorFlowOpLayer)                                                                     \n",
            "                                                                                                  \n",
            " flatten (Flatten)              (None, 216)          0           ['embedding[0][0]']              \n",
            "                                                                                                  \n",
            " dense (Dense)                  (None, 4)            8           ['tf_op_layer_default_policy_wk2/\n",
            "                                                                 truediv[0][0]']                  \n",
            "                                                                                                  \n",
            " concatenate (Concatenate)      (None, 220)          0           ['flatten[0][0]',                \n",
            "                                                                  'dense[0][0]']                  \n",
            "                                                                                                  \n",
            " dense_1 (Dense)                (None, 32)           7072        ['concatenate[0][0]']            \n",
            "                                                                                                  \n",
            " dense_2 (Dense)                (None, 64)           2112        ['dense_1[0][0]']                \n",
            "                                                                                                  \n",
            " dense_3 (Dense)                (None, 1)            65          ['dense_2[0][0]']                \n",
            "                                                                                                  \n",
            "==================================================================================================\n",
            "Total params: 9,281\n",
            "Trainable params: 9,281\n",
            "Non-trainable params: 0\n",
            "__________________________________________________________________________________________________\n",
            "Model: \"face_selection_model\"\n",
            "_________________________________________________________________\n",
            " Layer (type)                Output Shape              Param #   \n",
            "=================================================================\n",
            " input_1 (InputLayer)        [(None, 64)]              0         \n",
            "                                                                 \n",
            " dense_4 (Dense)             (None, 6)                 390       \n",
            "                                                                 \n",
            "=================================================================\n",
            "Total params: 390\n",
            "Trainable params: 390\n",
            "Non-trainable params: 0\n",
            "_________________________________________________________________\n",
            "Model: \"cube_movement_amount_selection_model\"\n",
            "__________________________________________________________________________________________________\n",
            " Layer (type)                   Output Shape         Param #     Connected to                     \n",
            "==================================================================================================\n",
            " selected_face_input (InputLaye  [(None,)]           0           []                               \n",
            " r)                                                                                               \n",
            "                                                                                                  \n",
            " input_1 (InputLayer)           [(None, 64)]         0           []                               \n",
            "                                                                                                  \n",
            " tf_op_layer_default_policy_wk2  [(None, 6)]         0           ['selected_face_input[0][0]']    \n",
            " /one_hot (TensorFlowOpLayer)                                                                     \n",
            "                                                                                                  \n",
            " tf_op_layer_default_policy_wk2  [(None, 70)]        0           ['input_1[0][0]',                \n",
            " /concat (TensorFlowOpLayer)                                      'tf_op_layer_default_policy_wk2/\n",
            "                                                                 one_hot[0][0]']                  \n",
            "                                                                                                  \n",
            " dense_5 (Dense)                (None, 3)            213         ['tf_op_layer_default_policy_wk2/\n",
            "                                                                 concat[0][0]']                   \n",
            "                                                                                                  \n",
            "==================================================================================================\n",
            "Total params: 213\n",
            "Trainable params: 213\n",
            "Non-trainable params: 0\n",
            "__________________________________________________________________________________________________\n"
          ]
        },
        {
          "output_type": "stream",
          "name": "stderr",
          "text": [
            "2023-03-17 15:49:47,646\tWARNING catalog.py:563 -- Custom ModelV2 should accept all custom options as **kwargs, instead of expecting them in config['custom_model_config']!\n"
          ]
        },
        {
          "output_type": "stream",
          "name": "stdout",
          "text": [
            "Total parameters in model: 9884\n",
            "Model: \"encoding_model\"\n",
            "__________________________________________________________________________________________________\n",
            " Layer (type)                   Output Shape         Param #     Connected to                     \n",
            "==================================================================================================\n",
            " cube_input (InputLayer)        [(None, 6, 3, 3)]    0           []                               \n",
            "                                                                                                  \n",
            " step_count_input (InputLayer)  [(None, 1)]          0           []                               \n",
            "                                                                                                  \n",
            " embedding (Embedding)          (None, 6, 3, 3, 4)   24          ['cube_input[0][0]']             \n",
            "                                                                                                  \n",
            " tf_op_layer_default_policy/tru  [(None, 1)]         0           ['step_count_input[0][0]']       \n",
            " ediv (TensorFlowOpLayer)                                                                         \n",
            "                                                                                                  \n",
            " flatten (Flatten)              (None, 216)          0           ['embedding[0][0]']              \n",
            "                                                                                                  \n",
            " dense (Dense)                  (None, 4)            8           ['tf_op_layer_default_policy/true\n",
            "                                                                 div[0][0]']                      \n",
            "                                                                                                  \n",
            " concatenate (Concatenate)      (None, 220)          0           ['flatten[0][0]',                \n",
            "                                                                  'dense[0][0]']                  \n",
            "                                                                                                  \n",
            " dense_1 (Dense)                (None, 32)           7072        ['concatenate[0][0]']            \n",
            "                                                                                                  \n",
            " dense_2 (Dense)                (None, 64)           2112        ['dense_1[0][0]']                \n",
            "                                                                                                  \n",
            " dense_3 (Dense)                (None, 1)            65          ['dense_2[0][0]']                \n",
            "                                                                                                  \n",
            "==================================================================================================\n",
            "Total params: 9,281\n",
            "Trainable params: 9,281\n",
            "Non-trainable params: 0\n",
            "__________________________________________________________________________________________________\n",
            "Model: \"face_selection_model\"\n",
            "_________________________________________________________________\n",
            " Layer (type)                Output Shape              Param #   \n",
            "=================================================================\n",
            " input_1 (InputLayer)        [(None, 64)]              0         \n",
            "                                                                 \n",
            " dense_4 (Dense)             (None, 6)                 390       \n",
            "                                                                 \n",
            "=================================================================\n",
            "Total params: 390\n",
            "Trainable params: 390\n",
            "Non-trainable params: 0\n",
            "_________________________________________________________________\n",
            "Model: \"cube_movement_amount_selection_model\"\n",
            "__________________________________________________________________________________________________\n",
            " Layer (type)                   Output Shape         Param #     Connected to                     \n",
            "==================================================================================================\n",
            " selected_face_input (InputLaye  [(None,)]           0           []                               \n",
            " r)                                                                                               \n",
            "                                                                                                  \n",
            " input_1 (InputLayer)           [(None, 64)]         0           []                               \n",
            "                                                                                                  \n",
            " tf_op_layer_default_policy/one  [(None, 6)]         0           ['selected_face_input[0][0]']    \n",
            " _hot (TensorFlowOpLayer)                                                                         \n",
            "                                                                                                  \n",
            " tf_op_layer_default_policy/con  [(None, 70)]        0           ['input_1[0][0]',                \n",
            " cat (TensorFlowOpLayer)                                          'tf_op_layer_default_policy/one_\n",
            "                                                                 hot[0][0]']                      \n",
            "                                                                                                  \n",
            " dense_5 (Dense)                (None, 3)            213         ['tf_op_layer_default_policy/conc\n",
            "                                                                 at[0][0]']                       \n",
            "                                                                                                  \n",
            "==================================================================================================\n",
            "Total params: 213\n",
            "Trainable params: 213\n",
            "Non-trainable params: 0\n",
            "__________________________________________________________________________________________________\n"
          ]
        },
        {
          "output_type": "stream",
          "name": "stderr",
          "text": [
            "2023-03-17 15:49:50,222\tWARNING catalog.py:563 -- Custom ModelV2 should accept all custom options as **kwargs, instead of expecting them in config['custom_model_config']!\n"
          ]
        },
        {
          "output_type": "stream",
          "name": "stdout",
          "text": [
            "Total parameters in model: 9884\n"
          ]
        },
        {
          "output_type": "stream",
          "name": "stderr",
          "text": [
            "2023-03-17 15:49:52,371\tWARNING util.py:66 -- Install gputil for GPU system monitoring.\n",
            ":actor_name:PPO\n"
          ]
        },
        {
          "output_type": "stream",
          "name": "stdout",
          "text": [
            ":actor_name:PPO\n"
          ]
        },
        {
          "output_type": "stream",
          "name": "stderr",
          "text": [
            "2023-03-17 15:50:08,463\tWARNING util.py:244 -- The `start_trial` operation took 26.284 s, which may be a performance bottleneck.\n"
          ]
        },
        {
          "output_type": "stream",
          "name": "stdout",
          "text": [
            "<IPython.core.display.HTML object>\n",
            "<IPython.core.display.HTML object>\n",
            "<IPython.core.display.HTML object>\n",
            "<IPython.core.display.HTML object>\n"
          ]
        },
        {
          "output_type": "stream",
          "name": "stderr",
          "text": [
            "2023-03-17 15:50:24,280\tINFO tune.py:762 -- Total run time: 42.76 seconds (42.04 seconds for the tuning loop).\n"
          ]
        },
        {
          "output_type": "stream",
          "name": "stdout",
          "text": [
            "<IPython.core.display.HTML object>\n",
            "Results are saved to path /root/ray_results/PPO/PPO_rubiks_cube_env_54e3e_00000_0_2023-03-17_15-49-42\n"
          ]
        }
      ],
      "source": [
        "main_training(\n",
        "    step_limit=10,\n",
        "    reward_function_type=\"sparse\",\n",
        "    num_scrambles_on_reset=2,\n",
        "    model_config=CUSTOM_MODEL_CONFIG,\n",
        "    agent_name=\"PPO\",\n",
        "    num_iterations=2,\n",
        "    restore_path=None,\n",
        ")"
      ]
    },
    {
      "cell_type": "markdown",
      "id": "0bd7ac9c",
      "metadata": {
        "id": "0bd7ac9c"
      },
      "source": [
        "As you can see there is quite a lot of output! The main highlights are the path to the checkpoint (here the directory is ~/ray_results/PPO/PPO_rubiks_cube_env_f42af_00000_0_2023-02-28_14-55-34), a summary of the model used (which you can override by modifying training/PPO_models.py) and the per iteration results. The latter is a series of metrics summarising what happened during the episode."
      ]
    },
    {
      "cell_type": "markdown",
      "id": "8fc98045",
      "metadata": {
        "id": "8fc98045"
      },
      "source": [
        "You might find it easier to view these in tensorboard:"
      ]
    },
    {
      "cell_type": "code",
      "execution_count": null,
      "id": "616d62f8",
      "metadata": {
        "id": "616d62f8"
      },
      "outputs": [],
      "source": [
        "%load_ext tensorboard"
      ]
    },
    {
      "cell_type": "code",
      "execution_count": null,
      "id": "f2e637ec",
      "metadata": {
        "id": "f2e637ec",
        "outputId": "51632868-86ab-4a20-d144-98f7a6216dd7"
      },
      "outputs": [
        {
          "name": "stdout",
          "output_type": "stream",
          "text": [
            "Launching TensorBoard...\n",
            "Please visit http://localhost:6006 in a web browser.\n"
          ]
        }
      ],
      "source": [
        "%tensorboard --logdir ~/ray_results/PPO/PPO_rubiks_cube_env_f42af_00000_0_2023-02-28_14-55-34"
      ]
    },
    {
      "cell_type": "markdown",
      "id": "7ed16b41",
      "metadata": {
        "id": "7ed16b41"
      },
      "source": [
        "To see some basic documentation of how to use the main training script, run in terminal:\n",
        "\n",
        "python training/example.py --help"
      ]
    },
    {
      "cell_type": "markdown",
      "id": "86a08922",
      "metadata": {
        "id": "86a08922"
      },
      "source": [
        "### Training your second model"
      ]
    },
    {
      "cell_type": "markdown",
      "id": "e542fe73",
      "metadata": {
        "id": "e542fe73"
      },
      "source": [
        "The library allows you to restore from a checkpoint and continue training, without having to redo the first stages of training. This could be useful in various situations, for example if the training crashed, or if you want to start training on easier environments before progressing to more difficult examples as the agent gets better (curriculum learning). Note that this will only work if the model can stay the same throughout.\n",
        "\n",
        "Let's restore the checkpoint generated above and continue training on a harder environment. We will increase the number of scrambles done to the cube on reset. Note that we must increase the number of training iterations as otherwise there is nothing to do. The results of this training will be written to a new directory.\n",
        "\n",
        "This is equivalent to the following command:\n",
        "\n",
        "python training/example.py --step_limit 10 --reward_function_type sparse --num_scrambles_on_reset 5 --agent_name PPO --num_iterations 4 --restore_path ~/ray_results/PPO/PPO_rubiks_cube_env_f42af_00000_0_2023-02-28_14-55-34/checkpoint_000002"
      ]
    },
    {
      "cell_type": "code",
      "execution_count": 13,
      "id": "8ed9b41b",
      "metadata": {
        "id": "8ed9b41b",
        "outputId": "e9e656ab-5bb0-4679-c3cc-b36ea060121b",
        "colab": {
          "base_uri": "https://localhost:8080/"
        }
      },
      "outputs": [
        {
          "output_type": "stream",
          "name": "stderr",
          "text": [
            "2023-03-17 15:50:46,648\tINFO worker.py:1529 -- Started a local Ray instance. View the dashboard at \u001b[1m\u001b[32m127.0.0.1:8265 \u001b[39m\u001b[22m\n"
          ]
        },
        {
          "output_type": "stream",
          "name": "stdout",
          "text": [
            "<IPython.core.display.HTML object>\n",
            ":task_name:bundle_reservation_check_func\n"
          ]
        },
        {
          "output_type": "stream",
          "name": "stderr",
          "text": [
            ":task_name:bundle_reservation_check_func\n",
            ":actor_name:PPO\n"
          ]
        },
        {
          "output_type": "stream",
          "name": "stdout",
          "text": [
            ":actor_name:PPO\n",
            ":actor_name:RolloutWorker\n"
          ]
        },
        {
          "output_type": "stream",
          "name": "stderr",
          "text": [
            ":actor_name:RolloutWorker\n"
          ]
        },
        {
          "output_type": "stream",
          "name": "stdout",
          "text": [
            "Model: \"encoding_model\"\n",
            "__________________________________________________________________________________________________\n",
            " Layer (type)                   Output Shape         Param #     Connected to                     \n",
            "==================================================================================================\n",
            " cube_input (InputLayer)        [(None, 6, 3, 3)]    0           []                               \n",
            "                                                                                                  \n",
            " step_count_input (InputLayer)  [(None, 1)]          0           []                               \n",
            "                                                                                                  \n",
            " embedding (Embedding)          (None, 6, 3, 3, 4)   24          ['cube_input[0][0]']             \n",
            "                                                                                                  \n",
            " tf_op_layer_default_policy_wk1  [(None, 1)]         0           ['step_count_input[0][0]']       \n",
            " /truediv (TensorFlowOpLayer)                                                                     \n",
            "                                                                                                  \n",
            " flatten (Flatten)              (None, 216)          0           ['embedding[0][0]']              \n",
            "                                                                                                  \n",
            " dense (Dense)                  (None, 4)            8           ['tf_op_layer_default_policy_wk1/\n",
            "                                                                 truediv[0][0]']                  \n",
            "                                                                                                  \n",
            " concatenate (Concatenate)      (None, 220)          0           ['flatten[0][0]',                \n",
            "                                                                  'dense[0][0]']                  \n",
            "                                                                                                  \n",
            " dense_1 (Dense)                (None, 32)           7072        ['concatenate[0][0]']            \n",
            "                                                                                                  \n",
            " dense_2 (Dense)                (None, 64)           2112        ['dense_1[0][0]']                \n",
            "                                                                                                  \n",
            " dense_3 (Dense)                (None, 1)            65          ['dense_2[0][0]']                \n",
            "                                                                                                  \n",
            "==================================================================================================\n",
            "Total params: 9,281\n",
            "Trainable params: 9,281\n",
            "Non-trainable params: 0\n",
            "__________________________________________________________________________________________________\n",
            "Model: \"face_selection_model\"\n",
            "_________________________________________________________________\n",
            " Layer (type)                Output Shape              Param #   \n",
            "=================================================================\n",
            " input_1 (InputLayer)        [(None, 64)]              0         \n",
            "                                                                 \n",
            " dense_4 (Dense)             (None, 6)                 390       \n",
            "                                                                 \n",
            "=================================================================\n",
            "Total params: 390\n",
            "Trainable params: 390\n",
            "Non-trainable params: 0\n",
            "_________________________________________________________________\n",
            "Model: \"cube_movement_amount_selection_model\"\n",
            "__________________________________________________________________________________________________\n",
            " Layer (type)                   Output Shape         Param #     Connected to                     \n",
            "==================================================================================================\n",
            " selected_face_input (InputLaye  [(None,)]           0           []                               \n",
            " r)                                                                                               \n",
            "                                                                                                  \n",
            " input_1 (InputLayer)           [(None, 64)]         0           []                               \n",
            "                                                                                                  \n",
            " tf_op_layer_default_policy_wk1  [(None, 6)]         0           ['selected_face_input[0][0]']    \n",
            " /one_hot (TensorFlowOpLayer)                                                                     \n",
            "                                                                                                  \n",
            " tf_op_layer_default_policy_wk1  [(None, 70)]        0           ['input_1[0][0]',                \n",
            " /concat (TensorFlowOpLayer)                                      'tf_op_layer_default_policy_wk1/\n",
            "                                                                 one_hot[0][0]']                  \n",
            "                                                                                                  \n",
            " dense_5 (Dense)                (None, 3)            213         ['tf_op_layer_default_policy_wk1/\n",
            "                                                                 concat[0][0]']                   \n",
            "                                                                                                  \n",
            "==================================================================================================\n",
            "Total params: 213\n",
            "Trainable params: 213\n",
            "Non-trainable params: 0\n",
            "__________________________________________________________________________________________________\n"
          ]
        },
        {
          "output_type": "stream",
          "name": "stderr",
          "text": [
            "2023-03-17 15:50:49,789\tWARNING catalog.py:563 -- Custom ModelV2 should accept all custom options as **kwargs, instead of expecting them in config['custom_model_config']!\n"
          ]
        },
        {
          "output_type": "stream",
          "name": "stdout",
          "text": [
            "Total parameters in model: 9884\n",
            ":actor_name:RolloutWorker\n"
          ]
        },
        {
          "output_type": "stream",
          "name": "stderr",
          "text": [
            ":actor_name:RolloutWorker\n"
          ]
        },
        {
          "output_type": "stream",
          "name": "stdout",
          "text": [
            "Model: \"encoding_model\"\n",
            "__________________________________________________________________________________________________\n",
            " Layer (type)                   Output Shape         Param #     Connected to                     \n",
            "==================================================================================================\n",
            " cube_input (InputLayer)        [(None, 6, 3, 3)]    0           []                               \n",
            "                                                                                                  \n",
            " step_count_input (InputLayer)  [(None, 1)]          0           []                               \n",
            "                                                                                                  \n",
            " embedding (Embedding)          (None, 6, 3, 3, 4)   24          ['cube_input[0][0]']             \n",
            "                                                                                                  \n",
            " tf_op_layer_default_policy_wk2  [(None, 1)]         0           ['step_count_input[0][0]']       \n",
            " /truediv (TensorFlowOpLayer)                                                                     \n",
            "                                                                                                  \n",
            " flatten (Flatten)              (None, 216)          0           ['embedding[0][0]']              \n",
            "                                                                                                  \n",
            " dense (Dense)                  (None, 4)            8           ['tf_op_layer_default_policy_wk2/\n",
            "                                                                 truediv[0][0]']                  \n",
            "                                                                                                  \n",
            " concatenate (Concatenate)      (None, 220)          0           ['flatten[0][0]',                \n",
            "                                                                  'dense[0][0]']                  \n",
            "                                                                                                  \n",
            " dense_1 (Dense)                (None, 32)           7072        ['concatenate[0][0]']            \n",
            "                                                                                                  \n",
            " dense_2 (Dense)                (None, 64)           2112        ['dense_1[0][0]']                \n",
            "                                                                                                  \n",
            " dense_3 (Dense)                (None, 1)            65          ['dense_2[0][0]']                \n",
            "                                                                                                  \n",
            "==================================================================================================\n",
            "Total params: 9,281\n",
            "Trainable params: 9,281\n",
            "Non-trainable params: 0\n",
            "__________________________________________________________________________________________________\n",
            "Model: \"face_selection_model\"\n",
            "_________________________________________________________________\n",
            " Layer (type)                Output Shape              Param #   \n",
            "=================================================================\n",
            " input_1 (InputLayer)        [(None, 64)]              0         \n",
            "                                                                 \n",
            " dense_4 (Dense)             (None, 6)                 390       \n",
            "                                                                 \n",
            "=================================================================\n",
            "Total params: 390\n",
            "Trainable params: 390\n",
            "Non-trainable params: 0\n",
            "_________________________________________________________________\n",
            "Model: \"cube_movement_amount_selection_model\"\n",
            "__________________________________________________________________________________________________\n",
            " Layer (type)                   Output Shape         Param #     Connected to                     \n",
            "==================================================================================================\n",
            " selected_face_input (InputLaye  [(None,)]           0           []                               \n",
            " r)                                                                                               \n",
            "                                                                                                  \n",
            " input_1 (InputLayer)           [(None, 64)]         0           []                               \n",
            "                                                                                                  \n",
            " tf_op_layer_default_policy_wk2  [(None, 6)]         0           ['selected_face_input[0][0]']    \n",
            " /one_hot (TensorFlowOpLayer)                                                                     \n",
            "                                                                                                  \n",
            " tf_op_layer_default_policy_wk2  [(None, 70)]        0           ['input_1[0][0]',                \n",
            " /concat (TensorFlowOpLayer)                                      'tf_op_layer_default_policy_wk2/\n",
            "                                                                 one_hot[0][0]']                  \n",
            "                                                                                                  \n",
            " dense_5 (Dense)                (None, 3)            213         ['tf_op_layer_default_policy_wk2/\n",
            "                                                                 concat[0][0]']                   \n",
            "                                                                                                  \n",
            "==================================================================================================\n",
            "Total params: 213\n",
            "Trainable params: 213\n",
            "Non-trainable params: 0\n",
            "__________________________________________________________________________________________________\n"
          ]
        },
        {
          "output_type": "stream",
          "name": "stderr",
          "text": [
            "2023-03-17 15:50:53,354\tWARNING catalog.py:563 -- Custom ModelV2 should accept all custom options as **kwargs, instead of expecting them in config['custom_model_config']!\n"
          ]
        },
        {
          "output_type": "stream",
          "name": "stdout",
          "text": [
            "Total parameters in model: 9884\n",
            "Model: \"encoding_model\"\n",
            "__________________________________________________________________________________________________\n",
            " Layer (type)                   Output Shape         Param #     Connected to                     \n",
            "==================================================================================================\n",
            " cube_input (InputLayer)        [(None, 6, 3, 3)]    0           []                               \n",
            "                                                                                                  \n",
            " step_count_input (InputLayer)  [(None, 1)]          0           []                               \n",
            "                                                                                                  \n",
            " embedding (Embedding)          (None, 6, 3, 3, 4)   24          ['cube_input[0][0]']             \n",
            "                                                                                                  \n",
            " tf_op_layer_default_policy/tru  [(None, 1)]         0           ['step_count_input[0][0]']       \n",
            " ediv (TensorFlowOpLayer)                                                                         \n",
            "                                                                                                  \n",
            " flatten (Flatten)              (None, 216)          0           ['embedding[0][0]']              \n",
            "                                                                                                  \n",
            " dense (Dense)                  (None, 4)            8           ['tf_op_layer_default_policy/true\n",
            "                                                                 div[0][0]']                      \n",
            "                                                                                                  \n",
            " concatenate (Concatenate)      (None, 220)          0           ['flatten[0][0]',                \n",
            "                                                                  'dense[0][0]']                  \n",
            "                                                                                                  \n",
            " dense_1 (Dense)                (None, 32)           7072        ['concatenate[0][0]']            \n",
            "                                                                                                  \n",
            " dense_2 (Dense)                (None, 64)           2112        ['dense_1[0][0]']                \n",
            "                                                                                                  \n",
            " dense_3 (Dense)                (None, 1)            65          ['dense_2[0][0]']                \n",
            "                                                                                                  \n",
            "==================================================================================================\n",
            "Total params: 9,281\n",
            "Trainable params: 9,281\n",
            "Non-trainable params: 0\n",
            "__________________________________________________________________________________________________\n",
            "Model: \"face_selection_model\"\n",
            "_________________________________________________________________\n",
            " Layer (type)                Output Shape              Param #   \n",
            "=================================================================\n",
            " input_1 (InputLayer)        [(None, 64)]              0         \n",
            "                                                                 \n",
            " dense_4 (Dense)             (None, 6)                 390       \n",
            "                                                                 \n",
            "=================================================================\n",
            "Total params: 390\n",
            "Trainable params: 390\n",
            "Non-trainable params: 0\n",
            "_________________________________________________________________\n",
            "Model: \"cube_movement_amount_selection_model\"\n",
            "__________________________________________________________________________________________________\n",
            " Layer (type)                   Output Shape         Param #     Connected to                     \n",
            "==================================================================================================\n",
            " selected_face_input (InputLaye  [(None,)]           0           []                               \n",
            " r)                                                                                               \n",
            "                                                                                                  \n",
            " input_1 (InputLayer)           [(None, 64)]         0           []                               \n",
            "                                                                                                  \n",
            " tf_op_layer_default_policy/one  [(None, 6)]         0           ['selected_face_input[0][0]']    \n",
            " _hot (TensorFlowOpLayer)                                                                         \n",
            "                                                                                                  \n",
            " tf_op_layer_default_policy/con  [(None, 70)]        0           ['input_1[0][0]',                \n",
            " cat (TensorFlowOpLayer)                                          'tf_op_layer_default_policy/one_\n",
            "                                                                 hot[0][0]']                      \n",
            "                                                                                                  \n",
            " dense_5 (Dense)                (None, 3)            213         ['tf_op_layer_default_policy/conc\n",
            "                                                                 at[0][0]']                       \n",
            "                                                                                                  \n",
            "==================================================================================================\n",
            "Total params: 213\n",
            "Trainable params: 213\n",
            "Non-trainable params: 0\n",
            "__________________________________________________________________________________________________\n"
          ]
        },
        {
          "output_type": "stream",
          "name": "stderr",
          "text": [
            "2023-03-17 15:50:57,008\tWARNING catalog.py:563 -- Custom ModelV2 should accept all custom options as **kwargs, instead of expecting them in config['custom_model_config']!\n"
          ]
        },
        {
          "output_type": "stream",
          "name": "stdout",
          "text": [
            "Total parameters in model: 9884\n"
          ]
        },
        {
          "output_type": "stream",
          "name": "stderr",
          "text": [
            "2023-03-17 15:50:59,857\tINFO trainable.py:172 -- Trainable.setup took 10.933 seconds. If your trainable is slow to initialize, consider setting reuse_actors=True to reduce actor creation overheads.\n",
            "2023-03-17 15:50:59,861\tWARNING util.py:66 -- Install gputil for GPU system monitoring.\n",
            ":actor_name:PPO\n"
          ]
        },
        {
          "output_type": "stream",
          "name": "stdout",
          "text": [
            ":actor_name:PPO\n"
          ]
        },
        {
          "output_type": "stream",
          "name": "stderr",
          "text": [
            "2023-03-17 15:51:00,204\tINFO trainable.py:790 -- Restored on 172.28.0.12 from checkpoint: /tmp/checkpoint_tmp_66c97df028c947e3ab45bd1e56198dcf\n",
            "2023-03-17 15:51:00,205\tINFO trainable.py:799 -- Current state after restoring: {'_iteration': 2, '_timesteps_total': None, '_time_total': 30.759729862213135, '_episodes_total': 809}\n",
            "2023-03-17 15:51:00,217\tWARNING util.py:244 -- The `start_trial` operation took 11.421 s, which may be a performance bottleneck.\n"
          ]
        },
        {
          "output_type": "stream",
          "name": "stdout",
          "text": [
            "<IPython.core.display.HTML object>\n"
          ]
        },
        {
          "output_type": "stream",
          "name": "stderr",
          "text": [
            "2023-03-17 15:51:15,987\tWARNING util.py:244 -- The `process_trial_restore` operation took 15.759 s, which may be a performance bottleneck.\n"
          ]
        },
        {
          "output_type": "stream",
          "name": "stdout",
          "text": [
            "<IPython.core.display.HTML object>\n",
            "<IPython.core.display.HTML object>\n",
            "<IPython.core.display.HTML object>\n",
            "<IPython.core.display.HTML object>\n"
          ]
        },
        {
          "output_type": "stream",
          "name": "stderr",
          "text": [
            "2023-03-17 15:51:31,690\tINFO tune.py:762 -- Total run time: 43.10 seconds (42.87 seconds for the tuning loop).\n"
          ]
        },
        {
          "output_type": "stream",
          "name": "stdout",
          "text": [
            "<IPython.core.display.HTML object>\n",
            "Results are saved to path /root/ray_results/PPO/PPO_rubiks_cube_env_7ca85_00000_0_2023-03-17_15-50-48\n"
          ]
        }
      ],
      "source": [
        "main_training(\n",
        "    step_limit=10,\n",
        "    reward_function_type=\"sparse\",\n",
        "    num_scrambles_on_reset=5,\n",
        "    model_config=CUSTOM_MODEL_CONFIG,\n",
        "    agent_name=\"PPO\",\n",
        "    num_iterations=4,\n",
        "    restore_path=\"~/ray_results/PPO/PPO_rubiks_cube_env_54e3e_00000_0_2023-03-17_15-49-42/checkpoint_000002/\",\n",
        ")"
      ]
    },
    {
      "cell_type": "markdown",
      "id": "3494a509",
      "metadata": {
        "id": "3494a509"
      },
      "source": [
        "Note that only 2 additional iterations of training were performed."
      ]
    },
    {
      "cell_type": "markdown",
      "id": "c4184d73",
      "metadata": {
        "id": "c4184d73"
      },
      "source": [
        "There is a lot more customisablity available for rllib, feel free to consult documentation at https://docs.ray.io/en/latest/rllib/index.html"
      ]
    },
    {
      "cell_type": "markdown",
      "id": "5b4688ac",
      "metadata": {
        "id": "5b4688ac"
      },
      "source": [
        "## Evaluation"
      ]
    },
    {
      "cell_type": "markdown",
      "id": "4a8c1153",
      "metadata": {
        "id": "4a8c1153"
      },
      "source": [
        "The final stage to is to produce a set of rollouts - that is sequences of actions and new observations that one obtains by repeatedly inferring from a model and taking the corresponding action in the environment. Included below is a simple set of commands that are likely to be useful if you would like to investigate the decisions that your model is making in particular situations."
      ]
    },
    {
      "cell_type": "code",
      "execution_count": 14,
      "id": "6adf83ed",
      "metadata": {
        "id": "6adf83ed",
        "outputId": "a5520176-3213-46ec-df7c-0a80a2791aea",
        "colab": {
          "base_uri": "https://localhost:8080/"
        }
      },
      "outputs": [
        {
          "output_type": "stream",
          "name": "stderr",
          "text": [
            "2023-03-17 15:52:19,905\tINFO worker.py:1529 -- Started a local Ray instance. View the dashboard at \u001b[1m\u001b[32m127.0.0.1:8265 \u001b[39m\u001b[22m\n"
          ]
        },
        {
          "output_type": "stream",
          "name": "stdout",
          "text": [
            ":actor_name:RolloutWorker\n"
          ]
        },
        {
          "output_type": "stream",
          "name": "stderr",
          "text": [
            ":actor_name:RolloutWorker\n"
          ]
        },
        {
          "output_type": "stream",
          "name": "stdout",
          "text": [
            "Model: \"encoding_model\"\n",
            "__________________________________________________________________________________________________\n",
            " Layer (type)                   Output Shape         Param #     Connected to                     \n",
            "==================================================================================================\n",
            " cube_input (InputLayer)        [(None, 6, 3, 3)]    0           []                               \n",
            "                                                                                                  \n",
            " step_count_input (InputLayer)  [(None, 1)]          0           []                               \n",
            "                                                                                                  \n",
            " embedding (Embedding)          (None, 6, 3, 3, 4)   24          ['cube_input[0][0]']             \n",
            "                                                                                                  \n",
            " tf_op_layer_default_policy_wk1  [(None, 1)]         0           ['step_count_input[0][0]']       \n",
            " /truediv (TensorFlowOpLayer)                                                                     \n",
            "                                                                                                  \n",
            " flatten (Flatten)              (None, 216)          0           ['embedding[0][0]']              \n",
            "                                                                                                  \n",
            " dense (Dense)                  (None, 4)            8           ['tf_op_layer_default_policy_wk1/\n",
            "                                                                 truediv[0][0]']                  \n",
            "                                                                                                  \n",
            " concatenate (Concatenate)      (None, 220)          0           ['flatten[0][0]',                \n",
            "                                                                  'dense[0][0]']                  \n",
            "                                                                                                  \n",
            " dense_1 (Dense)                (None, 32)           7072        ['concatenate[0][0]']            \n",
            "                                                                                                  \n",
            " dense_2 (Dense)                (None, 64)           2112        ['dense_1[0][0]']                \n",
            "                                                                                                  \n",
            " dense_3 (Dense)                (None, 1)            65          ['dense_2[0][0]']                \n",
            "                                                                                                  \n",
            "==================================================================================================\n",
            "Total params: 9,281\n",
            "Trainable params: 9,281\n",
            "Non-trainable params: 0\n",
            "__________________________________________________________________________________________________\n",
            "Model: \"face_selection_model\"\n",
            "_________________________________________________________________\n",
            " Layer (type)                Output Shape              Param #   \n",
            "=================================================================\n",
            " input_1 (InputLayer)        [(None, 64)]              0         \n",
            "                                                                 \n",
            " dense_4 (Dense)             (None, 6)                 390       \n",
            "                                                                 \n",
            "=================================================================\n",
            "Total params: 390\n",
            "Trainable params: 390\n",
            "Non-trainable params: 0\n",
            "_________________________________________________________________\n",
            "Model: \"cube_movement_amount_selection_model\"\n",
            "__________________________________________________________________________________________________\n",
            " Layer (type)                   Output Shape         Param #     Connected to                     \n",
            "==================================================================================================\n",
            " selected_face_input (InputLaye  [(None,)]           0           []                               \n",
            " r)                                                                                               \n",
            "                                                                                                  \n",
            " input_1 (InputLayer)           [(None, 64)]         0           []                               \n",
            "                                                                                                  \n",
            " tf_op_layer_default_policy_wk1  [(None, 6)]         0           ['selected_face_input[0][0]']    \n",
            " /one_hot (TensorFlowOpLayer)                                                                     \n",
            "                                                                                                  \n",
            " tf_op_layer_default_policy_wk1  [(None, 70)]        0           ['input_1[0][0]',                \n",
            " /concat (TensorFlowOpLayer)                                      'tf_op_layer_default_policy_wk1/\n",
            "                                                                 one_hot[0][0]']                  \n",
            "                                                                                                  \n",
            " dense_5 (Dense)                (None, 3)            213         ['tf_op_layer_default_policy_wk1/\n",
            "                                                                 concat[0][0]']                   \n",
            "                                                                                                  \n",
            "==================================================================================================\n",
            "Total params: 213\n",
            "Trainable params: 213\n",
            "Non-trainable params: 0\n",
            "__________________________________________________________________________________________________\n"
          ]
        },
        {
          "output_type": "stream",
          "name": "stderr",
          "text": [
            "2023-03-17 15:52:22,349\tWARNING catalog.py:563 -- Custom ModelV2 should accept all custom options as **kwargs, instead of expecting them in config['custom_model_config']!\n"
          ]
        },
        {
          "output_type": "stream",
          "name": "stdout",
          "text": [
            "Total parameters in model: 9884\n",
            ":actor_name:RolloutWorker\n"
          ]
        },
        {
          "output_type": "stream",
          "name": "stderr",
          "text": [
            ":actor_name:RolloutWorker\n"
          ]
        },
        {
          "output_type": "stream",
          "name": "stdout",
          "text": [
            "Model: \"encoding_model\"\n",
            "__________________________________________________________________________________________________\n",
            " Layer (type)                   Output Shape         Param #     Connected to                     \n",
            "==================================================================================================\n",
            " cube_input (InputLayer)        [(None, 6, 3, 3)]    0           []                               \n",
            "                                                                                                  \n",
            " step_count_input (InputLayer)  [(None, 1)]          0           []                               \n",
            "                                                                                                  \n",
            " embedding (Embedding)          (None, 6, 3, 3, 4)   24          ['cube_input[0][0]']             \n",
            "                                                                                                  \n",
            " tf_op_layer_default_policy_wk2  [(None, 1)]         0           ['step_count_input[0][0]']       \n",
            " /truediv (TensorFlowOpLayer)                                                                     \n",
            "                                                                                                  \n",
            " flatten (Flatten)              (None, 216)          0           ['embedding[0][0]']              \n",
            "                                                                                                  \n",
            " dense (Dense)                  (None, 4)            8           ['tf_op_layer_default_policy_wk2/\n",
            "                                                                 truediv[0][0]']                  \n",
            "                                                                                                  \n",
            " concatenate (Concatenate)      (None, 220)          0           ['flatten[0][0]',                \n",
            "                                                                  'dense[0][0]']                  \n",
            "                                                                                                  \n",
            " dense_1 (Dense)                (None, 32)           7072        ['concatenate[0][0]']            \n",
            "                                                                                                  \n",
            " dense_2 (Dense)                (None, 64)           2112        ['dense_1[0][0]']                \n",
            "                                                                                                  \n",
            " dense_3 (Dense)                (None, 1)            65          ['dense_2[0][0]']                \n",
            "                                                                                                  \n",
            "==================================================================================================\n",
            "Total params: 9,281\n",
            "Trainable params: 9,281\n",
            "Non-trainable params: 0\n",
            "__________________________________________________________________________________________________\n",
            "Model: \"face_selection_model\"\n",
            "_________________________________________________________________\n",
            " Layer (type)                Output Shape              Param #   \n",
            "=================================================================\n",
            " input_1 (InputLayer)        [(None, 64)]              0         \n",
            "                                                                 \n",
            " dense_4 (Dense)             (None, 6)                 390       \n",
            "                                                                 \n",
            "=================================================================\n",
            "Total params: 390\n",
            "Trainable params: 390\n",
            "Non-trainable params: 0\n",
            "_________________________________________________________________\n",
            "Model: \"cube_movement_amount_selection_model\"\n",
            "__________________________________________________________________________________________________\n",
            " Layer (type)                   Output Shape         Param #     Connected to                     \n",
            "==================================================================================================\n",
            " selected_face_input (InputLaye  [(None,)]           0           []                               \n",
            " r)                                                                                               \n",
            "                                                                                                  \n",
            " input_1 (InputLayer)           [(None, 64)]         0           []                               \n",
            "                                                                                                  \n",
            " tf_op_layer_default_policy_wk2  [(None, 6)]         0           ['selected_face_input[0][0]']    \n",
            " /one_hot (TensorFlowOpLayer)                                                                     \n",
            "                                                                                                  \n",
            " tf_op_layer_default_policy_wk2  [(None, 70)]        0           ['input_1[0][0]',                \n",
            " /concat (TensorFlowOpLayer)                                      'tf_op_layer_default_policy_wk2/\n",
            "                                                                 one_hot[0][0]']                  \n",
            "                                                                                                  \n",
            " dense_5 (Dense)                (None, 3)            213         ['tf_op_layer_default_policy_wk2/\n",
            "                                                                 concat[0][0]']                   \n",
            "                                                                                                  \n",
            "==================================================================================================\n",
            "Total params: 213\n",
            "Trainable params: 213\n",
            "Non-trainable params: 0\n",
            "__________________________________________________________________________________________________\n"
          ]
        },
        {
          "output_type": "stream",
          "name": "stderr",
          "text": [
            "2023-03-17 15:52:24,691\tWARNING catalog.py:563 -- Custom ModelV2 should accept all custom options as **kwargs, instead of expecting them in config['custom_model_config']!\n"
          ]
        },
        {
          "output_type": "stream",
          "name": "stdout",
          "text": [
            "Total parameters in model: 9884\n",
            "Model: \"encoding_model\"\n",
            "__________________________________________________________________________________________________\n",
            " Layer (type)                   Output Shape         Param #     Connected to                     \n",
            "==================================================================================================\n",
            " cube_input (InputLayer)        [(None, 6, 3, 3)]    0           []                               \n",
            "                                                                                                  \n",
            " step_count_input (InputLayer)  [(None, 1)]          0           []                               \n",
            "                                                                                                  \n",
            " embedding (Embedding)          (None, 6, 3, 3, 4)   24          ['cube_input[0][0]']             \n",
            "                                                                                                  \n",
            " tf_op_layer_default_policy/tru  [(None, 1)]         0           ['step_count_input[0][0]']       \n",
            " ediv (TensorFlowOpLayer)                                                                         \n",
            "                                                                                                  \n",
            " flatten (Flatten)              (None, 216)          0           ['embedding[0][0]']              \n",
            "                                                                                                  \n",
            " dense (Dense)                  (None, 4)            8           ['tf_op_layer_default_policy/true\n",
            "                                                                 div[0][0]']                      \n",
            "                                                                                                  \n",
            " concatenate (Concatenate)      (None, 220)          0           ['flatten[0][0]',                \n",
            "                                                                  'dense[0][0]']                  \n",
            "                                                                                                  \n",
            " dense_1 (Dense)                (None, 32)           7072        ['concatenate[0][0]']            \n",
            "                                                                                                  \n",
            " dense_2 (Dense)                (None, 64)           2112        ['dense_1[0][0]']                \n",
            "                                                                                                  \n",
            " dense_3 (Dense)                (None, 1)            65          ['dense_2[0][0]']                \n",
            "                                                                                                  \n",
            "==================================================================================================\n",
            "Total params: 9,281\n",
            "Trainable params: 9,281\n",
            "Non-trainable params: 0\n",
            "__________________________________________________________________________________________________\n",
            "Model: \"face_selection_model\"\n",
            "_________________________________________________________________\n",
            " Layer (type)                Output Shape              Param #   \n",
            "=================================================================\n",
            " input_1 (InputLayer)        [(None, 64)]              0         \n",
            "                                                                 \n",
            " dense_4 (Dense)             (None, 6)                 390       \n",
            "                                                                 \n",
            "=================================================================\n",
            "Total params: 390\n",
            "Trainable params: 390\n",
            "Non-trainable params: 0\n",
            "_________________________________________________________________\n",
            "Model: \"cube_movement_amount_selection_model\"\n",
            "__________________________________________________________________________________________________\n",
            " Layer (type)                   Output Shape         Param #     Connected to                     \n",
            "==================================================================================================\n",
            " selected_face_input (InputLaye  [(None,)]           0           []                               \n",
            " r)                                                                                               \n",
            "                                                                                                  \n",
            " input_1 (InputLayer)           [(None, 64)]         0           []                               \n",
            "                                                                                                  \n",
            " tf_op_layer_default_policy/one  [(None, 6)]         0           ['selected_face_input[0][0]']    \n",
            " _hot (TensorFlowOpLayer)                                                                         \n",
            "                                                                                                  \n",
            " tf_op_layer_default_policy/con  [(None, 70)]        0           ['input_1[0][0]',                \n",
            " cat (TensorFlowOpLayer)                                          'tf_op_layer_default_policy/one_\n",
            "                                                                 hot[0][0]']                      \n",
            "                                                                                                  \n",
            " dense_5 (Dense)                (None, 3)            213         ['tf_op_layer_default_policy/conc\n",
            "                                                                 at[0][0]']                       \n",
            "                                                                                                  \n",
            "==================================================================================================\n",
            "Total params: 213\n",
            "Trainable params: 213\n",
            "Non-trainable params: 0\n",
            "__________________________________________________________________________________________________\n"
          ]
        },
        {
          "output_type": "stream",
          "name": "stderr",
          "text": [
            "2023-03-17 15:52:27,864\tWARNING catalog.py:563 -- Custom ModelV2 should accept all custom options as **kwargs, instead of expecting them in config['custom_model_config']!\n"
          ]
        },
        {
          "output_type": "stream",
          "name": "stdout",
          "text": [
            "Total parameters in model: 9884\n"
          ]
        },
        {
          "output_type": "stream",
          "name": "stderr",
          "text": [
            "2023-03-17 15:52:30,829\tWARNING util.py:66 -- Install gputil for GPU system monitoring.\n",
            "2023-03-17 15:52:31,306\tINFO trainable.py:790 -- Restored on 172.28.0.12 from checkpoint: /root/ray_results/PPO/PPO_rubiks_cube_env_7ca85_00000_0_2023-03-17_15-50-48/checkpoint_000004\n",
            "2023-03-17 15:52:31,309\tINFO trainable.py:799 -- Current state after restoring: {'_iteration': 4, '_timesteps_total': None, '_time_total': 61.27785301208496, '_episodes_total': 1609}\n"
          ]
        }
      ],
      "source": [
        "config = get_config(\n",
        "    env_config=MEDIUM_ENV_CONFIG,\n",
        "    model_config=CUSTOM_MODEL_CONFIG,\n",
        "    agent_name=\"PPO\",\n",
        ")\n",
        "register(agent_name=\"PPO\")\n",
        "with _ray():\n",
        "    agent = PPO(AlgorithmConfig.from_dict(config))\n",
        "    agent.restore(\"/root/ray_results/PPO/PPO_rubiks_cube_env_7ca85_00000_0_2023-03-17_15-50-48/checkpoint_000004/\")\n",
        "    env = RubiksCube(**MEDIUM_ENV_CONFIG)\n",
        "    obs = env.reset()\n",
        "    # Exploration means to sample from the parametrised distribution. Setting it to false picks the modal action\n",
        "    action = agent.compute_single_action(observation=obs, explore=False)"
      ]
    },
    {
      "cell_type": "code",
      "execution_count": 15,
      "id": "208602ec",
      "metadata": {
        "id": "208602ec",
        "outputId": "8a6e380a-9ec9-43ba-bce9-7dcdc6ccc9ab",
        "colab": {
          "base_uri": "https://localhost:8080/"
        }
      },
      "outputs": [
        {
          "output_type": "stream",
          "name": "stdout",
          "text": [
            "Figure(432x432)\n"
          ]
        }
      ],
      "source": [
        "env.render()"
      ]
    },
    {
      "cell_type": "code",
      "execution_count": 16,
      "id": "14606439",
      "metadata": {
        "id": "14606439",
        "outputId": "5e11eae1-673c-4930-d55b-64d97963a97c",
        "colab": {
          "base_uri": "https://localhost:8080/"
        }
      },
      "outputs": [
        {
          "output_type": "execute_result",
          "data": {
            "text/plain": [
              "(5, 1)"
            ]
          },
          "metadata": {},
          "execution_count": 16
        }
      ],
      "source": [
        "action"
      ]
    },
    {
      "cell_type": "code",
      "execution_count": 17,
      "id": "01ae7d93",
      "metadata": {
        "id": "01ae7d93",
        "outputId": "a426fc63-66e5-4a91-fae5-1f3bb5093a63",
        "colab": {
          "base_uri": "https://localhost:8080/"
        }
      },
      "outputs": [
        {
          "output_type": "stream",
          "name": "stdout",
          "text": [
            "Agent is choosing action (5, 1)\n"
          ]
        }
      ],
      "source": [
        "print(f\"Agent is choosing action {action}\")\n",
        "obs, reward, done, info = env.step(action)"
      ]
    },
    {
      "cell_type": "code",
      "execution_count": null,
      "id": "def7c234",
      "metadata": {
        "id": "def7c234",
        "outputId": "e6cb6cb7-648a-41e8-a657-af888c55a5d7"
      },
      "outputs": [
        {
          "data": {
            "image/png": "[encoded data removed]",
            "text/plain": [
              "<Figure size 600x600 with 6 Axes>"
            ]
          },
          "metadata": {},
          "output_type": "display_data"
        }
      ],
      "source": [
        "env.render()"
      ]
    },
    {
      "cell_type": "markdown",
      "id": "b5cd0420",
      "metadata": {
        "id": "b5cd0420"
      },
      "source": [
        "For a more systematic way of doing this, there is a script which will run this automatically on a collection of increasingly difficult environment configurations and write the result to a file. To use this script, run:\n",
        "\n",
        "python evaluation/generate_rollout.py\n",
        "\n",
        "while specifying command line arguments checkpoint_path (indicating the path to restore from if using a trained model), the results_path (where to write the results of the inference to), and the agent_name (can leave blank if using PPO)."
      ]
    },
    {
      "cell_type": "code",
      "execution_count": 20,
      "id": "b8f88508",
      "metadata": {
        "id": "b8f88508",
        "outputId": "12752900-187e-4fae-cd66-8f661add6664",
        "colab": {
          "base_uri": "https://localhost:8080/"
        }
      },
      "outputs": [
        {
          "output_type": "stream",
          "name": "stderr",
          "text": [
            "2023-03-17 15:56:12,569\tINFO worker.py:1529 -- Started a local Ray instance. View the dashboard at \u001b[1m\u001b[32m127.0.0.1:8265 \u001b[39m\u001b[22m\n"
          ]
        },
        {
          "output_type": "stream",
          "name": "stdout",
          "text": [
            "Generating rollouts for easy env config...\n",
            ":actor_name:RolloutWorker\n"
          ]
        },
        {
          "output_type": "stream",
          "name": "stderr",
          "text": [
            ":actor_name:RolloutWorker\n"
          ]
        },
        {
          "output_type": "stream",
          "name": "stdout",
          "text": [
            "Model: \"encoding_model\"\n",
            "__________________________________________________________________________________________________\n",
            " Layer (type)                   Output Shape         Param #     Connected to                     \n",
            "==================================================================================================\n",
            " cube_input (InputLayer)        [(None, 6, 3, 3)]    0           []                               \n",
            "                                                                                                  \n",
            " step_count_input (InputLayer)  [(None, 1)]          0           []                               \n",
            "                                                                                                  \n",
            " embedding (Embedding)          (None, 6, 3, 3, 4)   24          ['cube_input[0][0]']             \n",
            "                                                                                                  \n",
            " tf_op_layer_default_policy_wk1  [(None, 1)]         0           ['step_count_input[0][0]']       \n",
            " /truediv (TensorFlowOpLayer)                                                                     \n",
            "                                                                                                  \n",
            " flatten (Flatten)              (None, 216)          0           ['embedding[0][0]']              \n",
            "                                                                                                  \n",
            " dense (Dense)                  (None, 4)            8           ['tf_op_layer_default_policy_wk1/\n",
            "                                                                 truediv[0][0]']                  \n",
            "                                                                                                  \n",
            " concatenate (Concatenate)      (None, 220)          0           ['flatten[0][0]',                \n",
            "                                                                  'dense[0][0]']                  \n",
            "                                                                                                  \n",
            " dense_1 (Dense)                (None, 32)           7072        ['concatenate[0][0]']            \n",
            "                                                                                                  \n",
            " dense_2 (Dense)                (None, 64)           2112        ['dense_1[0][0]']                \n",
            "                                                                                                  \n",
            " dense_3 (Dense)                (None, 1)            65          ['dense_2[0][0]']                \n",
            "                                                                                                  \n",
            "==================================================================================================\n",
            "Total params: 9,281\n",
            "Trainable params: 9,281\n",
            "Non-trainable params: 0\n",
            "__________________________________________________________________________________________________\n",
            "Model: \"face_selection_model\"\n",
            "_________________________________________________________________\n",
            " Layer (type)                Output Shape              Param #   \n",
            "=================================================================\n",
            " input_1 (InputLayer)        [(None, 64)]              0         \n",
            "                                                                 \n",
            " dense_4 (Dense)             (None, 6)                 390       \n",
            "                                                                 \n",
            "=================================================================\n",
            "Total params: 390\n",
            "Trainable params: 390\n",
            "Non-trainable params: 0\n",
            "_________________________________________________________________\n",
            "Model: \"cube_movement_amount_selection_model\"\n",
            "__________________________________________________________________________________________________\n",
            " Layer (type)                   Output Shape         Param #     Connected to                     \n",
            "==================================================================================================\n",
            " selected_face_input (InputLaye  [(None,)]           0           []                               \n",
            " r)                                                                                               \n",
            "                                                                                                  \n",
            " input_1 (InputLayer)           [(None, 64)]         0           []                               \n",
            "                                                                                                  \n",
            " tf_op_layer_default_policy_wk1  [(None, 6)]         0           ['selected_face_input[0][0]']    \n",
            " /one_hot (TensorFlowOpLayer)                                                                     \n",
            "                                                                                                  \n",
            " tf_op_layer_default_policy_wk1  [(None, 70)]        0           ['input_1[0][0]',                \n",
            " /concat (TensorFlowOpLayer)                                      'tf_op_layer_default_policy_wk1/\n",
            "                                                                 one_hot[0][0]']                  \n",
            "                                                                                                  \n",
            " dense_5 (Dense)                (None, 3)            213         ['tf_op_layer_default_policy_wk1/\n",
            "                                                                 concat[0][0]']                   \n",
            "                                                                                                  \n",
            "==================================================================================================\n",
            "Total params: 213\n",
            "Trainable params: 213\n",
            "Non-trainable params: 0\n",
            "__________________________________________________________________________________________________\n"
          ]
        },
        {
          "output_type": "stream",
          "name": "stderr",
          "text": [
            "2023-03-17 15:56:15,744\tWARNING catalog.py:563 -- Custom ModelV2 should accept all custom options as **kwargs, instead of expecting them in config['custom_model_config']!\n"
          ]
        },
        {
          "output_type": "stream",
          "name": "stdout",
          "text": [
            "Total parameters in model: 9884\n",
            ":actor_name:RolloutWorker\n"
          ]
        },
        {
          "output_type": "stream",
          "name": "stderr",
          "text": [
            ":actor_name:RolloutWorker\n"
          ]
        },
        {
          "output_type": "stream",
          "name": "stdout",
          "text": [
            "Model: \"encoding_model\"\n",
            "__________________________________________________________________________________________________\n",
            " Layer (type)                   Output Shape         Param #     Connected to                     \n",
            "==================================================================================================\n",
            " cube_input (InputLayer)        [(None, 6, 3, 3)]    0           []                               \n",
            "                                                                                                  \n",
            " step_count_input (InputLayer)  [(None, 1)]          0           []                               \n",
            "                                                                                                  \n",
            " embedding (Embedding)          (None, 6, 3, 3, 4)   24          ['cube_input[0][0]']             \n",
            "                                                                                                  \n",
            " tf_op_layer_default_policy_wk2  [(None, 1)]         0           ['step_count_input[0][0]']       \n",
            " /truediv (TensorFlowOpLayer)                                                                     \n",
            "                                                                                                  \n",
            " flatten (Flatten)              (None, 216)          0           ['embedding[0][0]']              \n",
            "                                                                                                  \n",
            " dense (Dense)                  (None, 4)            8           ['tf_op_layer_default_policy_wk2/\n",
            "                                                                 truediv[0][0]']                  \n",
            "                                                                                                  \n",
            " concatenate (Concatenate)      (None, 220)          0           ['flatten[0][0]',                \n",
            "                                                                  'dense[0][0]']                  \n",
            "                                                                                                  \n",
            " dense_1 (Dense)                (None, 32)           7072        ['concatenate[0][0]']            \n",
            "                                                                                                  \n",
            " dense_2 (Dense)                (None, 64)           2112        ['dense_1[0][0]']                \n",
            "                                                                                                  \n",
            " dense_3 (Dense)                (None, 1)            65          ['dense_2[0][0]']                \n",
            "                                                                                                  \n",
            "==================================================================================================\n",
            "Total params: 9,281\n",
            "Trainable params: 9,281\n",
            "Non-trainable params: 0\n",
            "__________________________________________________________________________________________________\n",
            "Model: \"face_selection_model\"\n",
            "_________________________________________________________________\n",
            " Layer (type)                Output Shape              Param #   \n",
            "=================================================================\n",
            " input_1 (InputLayer)        [(None, 64)]              0         \n",
            "                                                                 \n",
            " dense_4 (Dense)             (None, 6)                 390       \n",
            "                                                                 \n",
            "=================================================================\n",
            "Total params: 390\n",
            "Trainable params: 390\n",
            "Non-trainable params: 0\n",
            "_________________________________________________________________\n",
            "Model: \"cube_movement_amount_selection_model\"\n",
            "__________________________________________________________________________________________________\n",
            " Layer (type)                   Output Shape         Param #     Connected to                     \n",
            "==================================================================================================\n",
            " selected_face_input (InputLaye  [(None,)]           0           []                               \n",
            " r)                                                                                               \n",
            "                                                                                                  \n",
            " input_1 (InputLayer)           [(None, 64)]         0           []                               \n",
            "                                                                                                  \n",
            " tf_op_layer_default_policy_wk2  [(None, 6)]         0           ['selected_face_input[0][0]']    \n",
            " /one_hot (TensorFlowOpLayer)                                                                     \n",
            "                                                                                                  \n",
            " tf_op_layer_default_policy_wk2  [(None, 70)]        0           ['input_1[0][0]',                \n",
            " /concat (TensorFlowOpLayer)                                      'tf_op_layer_default_policy_wk2/\n",
            "                                                                 one_hot[0][0]']                  \n",
            "                                                                                                  \n",
            " dense_5 (Dense)                (None, 3)            213         ['tf_op_layer_default_policy_wk2/\n",
            "                                                                 concat[0][0]']                   \n",
            "                                                                                                  \n",
            "==================================================================================================\n",
            "Total params: 213\n",
            "Trainable params: 213\n",
            "Non-trainable params: 0\n",
            "__________________________________________________________________________________________________\n"
          ]
        },
        {
          "output_type": "stream",
          "name": "stderr",
          "text": [
            "2023-03-17 15:56:18,782\tWARNING catalog.py:563 -- Custom ModelV2 should accept all custom options as **kwargs, instead of expecting them in config['custom_model_config']!\n"
          ]
        },
        {
          "output_type": "stream",
          "name": "stdout",
          "text": [
            "Total parameters in model: 9884\n",
            "Model: \"encoding_model\"\n",
            "__________________________________________________________________________________________________\n",
            " Layer (type)                   Output Shape         Param #     Connected to                     \n",
            "==================================================================================================\n",
            " cube_input (InputLayer)        [(None, 6, 3, 3)]    0           []                               \n",
            "                                                                                                  \n",
            " step_count_input (InputLayer)  [(None, 1)]          0           []                               \n",
            "                                                                                                  \n",
            " embedding (Embedding)          (None, 6, 3, 3, 4)   24          ['cube_input[0][0]']             \n",
            "                                                                                                  \n",
            " tf_op_layer_default_policy/tru  [(None, 1)]         0           ['step_count_input[0][0]']       \n",
            " ediv (TensorFlowOpLayer)                                                                         \n",
            "                                                                                                  \n",
            " flatten (Flatten)              (None, 216)          0           ['embedding[0][0]']              \n",
            "                                                                                                  \n",
            " dense (Dense)                  (None, 4)            8           ['tf_op_layer_default_policy/true\n",
            "                                                                 div[0][0]']                      \n",
            "                                                                                                  \n",
            " concatenate (Concatenate)      (None, 220)          0           ['flatten[0][0]',                \n",
            "                                                                  'dense[0][0]']                  \n",
            "                                                                                                  \n",
            " dense_1 (Dense)                (None, 32)           7072        ['concatenate[0][0]']            \n",
            "                                                                                                  \n",
            " dense_2 (Dense)                (None, 64)           2112        ['dense_1[0][0]']                \n",
            "                                                                                                  \n",
            " dense_3 (Dense)                (None, 1)            65          ['dense_2[0][0]']                \n",
            "                                                                                                  \n",
            "==================================================================================================\n",
            "Total params: 9,281\n",
            "Trainable params: 9,281\n",
            "Non-trainable params: 0\n",
            "__________________________________________________________________________________________________\n",
            "Model: \"face_selection_model\"\n",
            "_________________________________________________________________\n",
            " Layer (type)                Output Shape              Param #   \n",
            "=================================================================\n",
            " input_1 (InputLayer)        [(None, 64)]              0         \n",
            "                                                                 \n",
            " dense_4 (Dense)             (None, 6)                 390       \n",
            "                                                                 \n",
            "=================================================================\n",
            "Total params: 390\n",
            "Trainable params: 390\n",
            "Non-trainable params: 0\n",
            "_________________________________________________________________\n",
            "Model: \"cube_movement_amount_selection_model\"\n",
            "__________________________________________________________________________________________________\n",
            " Layer (type)                   Output Shape         Param #     Connected to                     \n",
            "==================================================================================================\n",
            " selected_face_input (InputLaye  [(None,)]           0           []                               \n",
            " r)                                                                                               \n",
            "                                                                                                  \n",
            " input_1 (InputLayer)           [(None, 64)]         0           []                               \n",
            "                                                                                                  \n",
            " tf_op_layer_default_policy/one  [(None, 6)]         0           ['selected_face_input[0][0]']    \n",
            " _hot (TensorFlowOpLayer)                                                                         \n",
            "                                                                                                  \n",
            " tf_op_layer_default_policy/con  [(None, 70)]        0           ['input_1[0][0]',                \n",
            " cat (TensorFlowOpLayer)                                          'tf_op_layer_default_policy/one_\n",
            "                                                                 hot[0][0]']                      \n",
            "                                                                                                  \n",
            " dense_5 (Dense)                (None, 3)            213         ['tf_op_layer_default_policy/conc\n",
            "                                                                 at[0][0]']                       \n",
            "                                                                                                  \n",
            "==================================================================================================\n",
            "Total params: 213\n",
            "Trainable params: 213\n",
            "Non-trainable params: 0\n",
            "__________________________________________________________________________________________________\n"
          ]
        },
        {
          "output_type": "stream",
          "name": "stderr",
          "text": [
            "2023-03-17 15:56:21,145\tWARNING catalog.py:563 -- Custom ModelV2 should accept all custom options as **kwargs, instead of expecting them in config['custom_model_config']!\n"
          ]
        },
        {
          "output_type": "stream",
          "name": "stdout",
          "text": [
            "Total parameters in model: 9884\n"
          ]
        },
        {
          "output_type": "stream",
          "name": "stderr",
          "text": [
            "2023-03-17 15:56:23,979\tWARNING util.py:66 -- Install gputil for GPU system monitoring.\n",
            "2023-03-17 15:56:24,470\tINFO trainable.py:790 -- Restored on 172.28.0.12 from checkpoint: /root/ray_results/PPO/PPO_rubiks_cube_env_7ca85_00000_0_2023-03-17_15-50-48/checkpoint_000004\n",
            "2023-03-17 15:56:24,476\tINFO trainable.py:799 -- Current state after restoring: {'_iteration': 4, '_timesteps_total': None, '_time_total': 61.27785301208496, '_episodes_total': 1609}\n"
          ]
        },
        {
          "output_type": "stream",
          "name": "stdout",
          "text": [
            "Generating rollouts for medium env config...\n",
            ":actor_name:RolloutWorker\n"
          ]
        },
        {
          "output_type": "stream",
          "name": "stderr",
          "text": [
            ":actor_name:RolloutWorker\n"
          ]
        },
        {
          "output_type": "stream",
          "name": "stdout",
          "text": [
            "Model: \"encoding_model\"\n",
            "__________________________________________________________________________________________________\n",
            " Layer (type)                   Output Shape         Param #     Connected to                     \n",
            "==================================================================================================\n",
            " cube_input (InputLayer)        [(None, 6, 3, 3)]    0           []                               \n",
            "                                                                                                  \n",
            " step_count_input (InputLayer)  [(None, 1)]          0           []                               \n",
            "                                                                                                  \n",
            " embedding (Embedding)          (None, 6, 3, 3, 4)   24          ['cube_input[0][0]']             \n",
            "                                                                                                  \n",
            " tf_op_layer_default_policy_wk1  [(None, 1)]         0           ['step_count_input[0][0]']       \n",
            " /truediv (TensorFlowOpLayer)                                                                     \n",
            "                                                                                                  \n",
            " flatten (Flatten)              (None, 216)          0           ['embedding[0][0]']              \n",
            "                                                                                                  \n",
            " dense (Dense)                  (None, 4)            8           ['tf_op_layer_default_policy_wk1/\n",
            "                                                                 truediv[0][0]']                  \n",
            "                                                                                                  \n",
            " concatenate (Concatenate)      (None, 220)          0           ['flatten[0][0]',                \n",
            "                                                                  'dense[0][0]']                  \n",
            "                                                                                                  \n",
            " dense_1 (Dense)                (None, 32)           7072        ['concatenate[0][0]']            \n",
            "                                                                                                  \n",
            " dense_2 (Dense)                (None, 64)           2112        ['dense_1[0][0]']                \n",
            "                                                                                                  \n",
            " dense_3 (Dense)                (None, 1)            65          ['dense_2[0][0]']                \n",
            "                                                                                                  \n",
            "==================================================================================================\n",
            "Total params: 9,281\n",
            "Trainable params: 9,281\n",
            "Non-trainable params: 0\n",
            "__________________________________________________________________________________________________\n",
            "Model: \"face_selection_model\"\n",
            "_________________________________________________________________\n",
            " Layer (type)                Output Shape              Param #   \n",
            "=================================================================\n",
            " input_1 (InputLayer)        [(None, 64)]              0         \n",
            "                                                                 \n",
            " dense_4 (Dense)             (None, 6)                 390       \n",
            "                                                                 \n",
            "=================================================================\n",
            "Total params: 390\n",
            "Trainable params: 390\n",
            "Non-trainable params: 0\n",
            "_________________________________________________________________\n",
            "Model: \"cube_movement_amount_selection_model\"\n",
            "__________________________________________________________________________________________________\n",
            " Layer (type)                   Output Shape         Param #     Connected to                     \n",
            "==================================================================================================\n",
            " selected_face_input (InputLaye  [(None,)]           0           []                               \n",
            " r)                                                                                               \n",
            "                                                                                                  \n",
            " input_1 (InputLayer)           [(None, 64)]         0           []                               \n",
            "                                                                                                  \n",
            " tf_op_layer_default_policy_wk1  [(None, 6)]         0           ['selected_face_input[0][0]']    \n",
            " /one_hot (TensorFlowOpLayer)                                                                     \n",
            "                                                                                                  \n",
            " tf_op_layer_default_policy_wk1  [(None, 70)]        0           ['input_1[0][0]',                \n",
            " /concat (TensorFlowOpLayer)                                      'tf_op_layer_default_policy_wk1/\n",
            "                                                                 one_hot[0][0]']                  \n",
            "                                                                                                  \n",
            " dense_5 (Dense)                (None, 3)            213         ['tf_op_layer_default_policy_wk1/\n",
            "                                                                 concat[0][0]']                   \n",
            "                                                                                                  \n",
            "==================================================================================================\n",
            "Total params: 213\n",
            "Trainable params: 213\n",
            "Non-trainable params: 0\n",
            "__________________________________________________________________________________________________\n"
          ]
        },
        {
          "output_type": "stream",
          "name": "stderr",
          "text": [
            "2023-03-17 15:56:41,249\tWARNING catalog.py:563 -- Custom ModelV2 should accept all custom options as **kwargs, instead of expecting them in config['custom_model_config']!\n"
          ]
        },
        {
          "output_type": "stream",
          "name": "stdout",
          "text": [
            "Total parameters in model: 9884\n",
            ":actor_name:RolloutWorker\n"
          ]
        },
        {
          "output_type": "stream",
          "name": "stderr",
          "text": [
            ":actor_name:RolloutWorker\n"
          ]
        },
        {
          "output_type": "stream",
          "name": "stdout",
          "text": [
            "Model: \"encoding_model\"\n",
            "__________________________________________________________________________________________________\n",
            " Layer (type)                   Output Shape         Param #     Connected to                     \n",
            "==================================================================================================\n",
            " cube_input (InputLayer)        [(None, 6, 3, 3)]    0           []                               \n",
            "                                                                                                  \n",
            " step_count_input (InputLayer)  [(None, 1)]          0           []                               \n",
            "                                                                                                  \n",
            " embedding (Embedding)          (None, 6, 3, 3, 4)   24          ['cube_input[0][0]']             \n",
            "                                                                                                  \n",
            " tf_op_layer_default_policy_wk2  [(None, 1)]         0           ['step_count_input[0][0]']       \n",
            " /truediv (TensorFlowOpLayer)                                                                     \n",
            "                                                                                                  \n",
            " flatten (Flatten)              (None, 216)          0           ['embedding[0][0]']              \n",
            "                                                                                                  \n",
            " dense (Dense)                  (None, 4)            8           ['tf_op_layer_default_policy_wk2/\n",
            "                                                                 truediv[0][0]']                  \n",
            "                                                                                                  \n",
            " concatenate (Concatenate)      (None, 220)          0           ['flatten[0][0]',                \n",
            "                                                                  'dense[0][0]']                  \n",
            "                                                                                                  \n",
            " dense_1 (Dense)                (None, 32)           7072        ['concatenate[0][0]']            \n",
            "                                                                                                  \n",
            " dense_2 (Dense)                (None, 64)           2112        ['dense_1[0][0]']                \n",
            "                                                                                                  \n",
            " dense_3 (Dense)                (None, 1)            65          ['dense_2[0][0]']                \n",
            "                                                                                                  \n",
            "==================================================================================================\n",
            "Total params: 9,281\n",
            "Trainable params: 9,281\n",
            "Non-trainable params: 0\n",
            "__________________________________________________________________________________________________\n",
            "Model: \"face_selection_model\"\n",
            "_________________________________________________________________\n",
            " Layer (type)                Output Shape              Param #   \n",
            "=================================================================\n",
            " input_1 (InputLayer)        [(None, 64)]              0         \n",
            "                                                                 \n",
            " dense_4 (Dense)             (None, 6)                 390       \n",
            "                                                                 \n",
            "=================================================================\n",
            "Total params: 390\n",
            "Trainable params: 390\n",
            "Non-trainable params: 0\n",
            "_________________________________________________________________\n",
            "Model: \"cube_movement_amount_selection_model\"\n",
            "__________________________________________________________________________________________________\n",
            " Layer (type)                   Output Shape         Param #     Connected to                     \n",
            "==================================================================================================\n",
            " selected_face_input (InputLaye  [(None,)]           0           []                               \n",
            " r)                                                                                               \n",
            "                                                                                                  \n",
            " input_1 (InputLayer)           [(None, 64)]         0           []                               \n",
            "                                                                                                  \n",
            " tf_op_layer_default_policy_wk2  [(None, 6)]         0           ['selected_face_input[0][0]']    \n",
            " /one_hot (TensorFlowOpLayer)                                                                     \n",
            "                                                                                                  \n",
            " tf_op_layer_default_policy_wk2  [(None, 70)]        0           ['input_1[0][0]',                \n",
            " /concat (TensorFlowOpLayer)                                      'tf_op_layer_default_policy_wk2/\n",
            "                                                                 one_hot[0][0]']                  \n",
            "                                                                                                  \n",
            " dense_5 (Dense)                (None, 3)            213         ['tf_op_layer_default_policy_wk2/\n",
            "                                                                 concat[0][0]']                   \n",
            "                                                                                                  \n",
            "==================================================================================================\n",
            "Total params: 213\n",
            "Trainable params: 213\n",
            "Non-trainable params: 0\n",
            "__________________________________________________________________________________________________\n"
          ]
        },
        {
          "output_type": "stream",
          "name": "stderr",
          "text": [
            "2023-03-17 15:56:44,562\tWARNING catalog.py:563 -- Custom ModelV2 should accept all custom options as **kwargs, instead of expecting them in config['custom_model_config']!\n"
          ]
        },
        {
          "output_type": "stream",
          "name": "stdout",
          "text": [
            "Total parameters in model: 9884\n",
            "Model: \"encoding_model\"\n",
            "__________________________________________________________________________________________________\n",
            " Layer (type)                   Output Shape         Param #     Connected to                     \n",
            "==================================================================================================\n",
            " cube_input (InputLayer)        [(None, 6, 3, 3)]    0           []                               \n",
            "                                                                                                  \n",
            " step_count_input (InputLayer)  [(None, 1)]          0           []                               \n",
            "                                                                                                  \n",
            " embedding (Embedding)          (None, 6, 3, 3, 4)   24          ['cube_input[0][0]']             \n",
            "                                                                                                  \n",
            " tf_op_layer_default_policy/tru  [(None, 1)]         0           ['step_count_input[0][0]']       \n",
            " ediv (TensorFlowOpLayer)                                                                         \n",
            "                                                                                                  \n",
            " flatten (Flatten)              (None, 216)          0           ['embedding[0][0]']              \n",
            "                                                                                                  \n",
            " dense (Dense)                  (None, 4)            8           ['tf_op_layer_default_policy/true\n",
            "                                                                 div[0][0]']                      \n",
            "                                                                                                  \n",
            " concatenate (Concatenate)      (None, 220)          0           ['flatten[0][0]',                \n",
            "                                                                  'dense[0][0]']                  \n",
            "                                                                                                  \n",
            " dense_1 (Dense)                (None, 32)           7072        ['concatenate[0][0]']            \n",
            "                                                                                                  \n",
            " dense_2 (Dense)                (None, 64)           2112        ['dense_1[0][0]']                \n",
            "                                                                                                  \n",
            " dense_3 (Dense)                (None, 1)            65          ['dense_2[0][0]']                \n",
            "                                                                                                  \n",
            "==================================================================================================\n",
            "Total params: 9,281\n",
            "Trainable params: 9,281\n",
            "Non-trainable params: 0\n",
            "__________________________________________________________________________________________________\n",
            "Model: \"face_selection_model\"\n",
            "_________________________________________________________________\n",
            " Layer (type)                Output Shape              Param #   \n",
            "=================================================================\n",
            " input_1 (InputLayer)        [(None, 64)]              0         \n",
            "                                                                 \n",
            " dense_4 (Dense)             (None, 6)                 390       \n",
            "                                                                 \n",
            "=================================================================\n",
            "Total params: 390\n",
            "Trainable params: 390\n",
            "Non-trainable params: 0\n",
            "_________________________________________________________________\n",
            "Model: \"cube_movement_amount_selection_model\"\n",
            "__________________________________________________________________________________________________\n",
            " Layer (type)                   Output Shape         Param #     Connected to                     \n",
            "==================================================================================================\n",
            " selected_face_input (InputLaye  [(None,)]           0           []                               \n",
            " r)                                                                                               \n",
            "                                                                                                  \n",
            " input_1 (InputLayer)           [(None, 64)]         0           []                               \n",
            "                                                                                                  \n",
            " tf_op_layer_default_policy/one  [(None, 6)]         0           ['selected_face_input[0][0]']    \n",
            " _hot (TensorFlowOpLayer)                                                                         \n",
            "                                                                                                  \n",
            " tf_op_layer_default_policy/con  [(None, 70)]        0           ['input_1[0][0]',                \n",
            " cat (TensorFlowOpLayer)                                          'tf_op_layer_default_policy/one_\n",
            "                                                                 hot[0][0]']                      \n",
            "                                                                                                  \n",
            " dense_5 (Dense)                (None, 3)            213         ['tf_op_layer_default_policy/conc\n",
            "                                                                 at[0][0]']                       \n",
            "                                                                                                  \n",
            "==================================================================================================\n",
            "Total params: 213\n",
            "Trainable params: 213\n",
            "Non-trainable params: 0\n",
            "__________________________________________________________________________________________________\n"
          ]
        },
        {
          "output_type": "stream",
          "name": "stderr",
          "text": [
            "2023-03-17 15:56:47,999\tWARNING catalog.py:563 -- Custom ModelV2 should accept all custom options as **kwargs, instead of expecting them in config['custom_model_config']!\n"
          ]
        },
        {
          "output_type": "stream",
          "name": "stdout",
          "text": [
            "Total parameters in model: 9884\n"
          ]
        },
        {
          "output_type": "stream",
          "name": "stderr",
          "text": [
            "2023-03-17 15:56:50,182\tWARNING util.py:66 -- Install gputil for GPU system monitoring.\n",
            "2023-03-17 15:56:50,490\tINFO trainable.py:790 -- Restored on 172.28.0.12 from checkpoint: /root/ray_results/PPO/PPO_rubiks_cube_env_7ca85_00000_0_2023-03-17_15-50-48/checkpoint_000004\n",
            "2023-03-17 15:56:50,492\tINFO trainable.py:799 -- Current state after restoring: {'_iteration': 4, '_timesteps_total': None, '_time_total': 61.27785301208496, '_episodes_total': 1609}\n"
          ]
        },
        {
          "output_type": "stream",
          "name": "stdout",
          "text": [
            "Generating rollouts for hard env config...\n",
            ":actor_name:RolloutWorker\n"
          ]
        },
        {
          "output_type": "stream",
          "name": "stderr",
          "text": [
            ":actor_name:RolloutWorker\n"
          ]
        },
        {
          "output_type": "stream",
          "name": "stdout",
          "text": [
            "Model: \"encoding_model\"\n",
            "__________________________________________________________________________________________________\n",
            " Layer (type)                   Output Shape         Param #     Connected to                     \n",
            "==================================================================================================\n",
            " cube_input (InputLayer)        [(None, 6, 3, 3)]    0           []                               \n",
            "                                                                                                  \n",
            " step_count_input (InputLayer)  [(None, 1)]          0           []                               \n",
            "                                                                                                  \n",
            " embedding (Embedding)          (None, 6, 3, 3, 4)   24          ['cube_input[0][0]']             \n",
            "                                                                                                  \n",
            " tf_op_layer_default_policy_wk1  [(None, 1)]         0           ['step_count_input[0][0]']       \n",
            " /truediv (TensorFlowOpLayer)                                                                     \n",
            "                                                                                                  \n",
            " flatten (Flatten)              (None, 216)          0           ['embedding[0][0]']              \n",
            "                                                                                                  \n",
            " dense (Dense)                  (None, 4)            8           ['tf_op_layer_default_policy_wk1/\n",
            "                                                                 truediv[0][0]']                  \n",
            "                                                                                                  \n",
            " concatenate (Concatenate)      (None, 220)          0           ['flatten[0][0]',                \n",
            "                                                                  'dense[0][0]']                  \n",
            "                                                                                                  \n",
            " dense_1 (Dense)                (None, 32)           7072        ['concatenate[0][0]']            \n",
            "                                                                                                  \n",
            " dense_2 (Dense)                (None, 64)           2112        ['dense_1[0][0]']                \n",
            "                                                                                                  \n",
            " dense_3 (Dense)                (None, 1)            65          ['dense_2[0][0]']                \n",
            "                                                                                                  \n",
            "==================================================================================================\n",
            "Total params: 9,281\n",
            "Trainable params: 9,281\n",
            "Non-trainable params: 0\n",
            "__________________________________________________________________________________________________\n",
            "Model: \"face_selection_model\"\n",
            "_________________________________________________________________\n",
            " Layer (type)                Output Shape              Param #   \n",
            "=================================================================\n",
            " input_1 (InputLayer)        [(None, 64)]              0         \n",
            "                                                                 \n",
            " dense_4 (Dense)             (None, 6)                 390       \n",
            "                                                                 \n",
            "=================================================================\n",
            "Total params: 390\n",
            "Trainable params: 390\n",
            "Non-trainable params: 0\n",
            "_________________________________________________________________\n",
            "Model: \"cube_movement_amount_selection_model\"\n",
            "__________________________________________________________________________________________________\n",
            " Layer (type)                   Output Shape         Param #     Connected to                     \n",
            "==================================================================================================\n",
            " selected_face_input (InputLaye  [(None,)]           0           []                               \n",
            " r)                                                                                               \n",
            "                                                                                                  \n",
            " input_1 (InputLayer)           [(None, 64)]         0           []                               \n",
            "                                                                                                  \n",
            " tf_op_layer_default_policy_wk1  [(None, 6)]         0           ['selected_face_input[0][0]']    \n",
            " /one_hot (TensorFlowOpLayer)                                                                     \n",
            "                                                                                                  \n",
            " tf_op_layer_default_policy_wk1  [(None, 70)]        0           ['input_1[0][0]',                \n",
            " /concat (TensorFlowOpLayer)                                      'tf_op_layer_default_policy_wk1/\n",
            "                                                                 one_hot[0][0]']                  \n",
            "                                                                                                  \n",
            " dense_5 (Dense)                (None, 3)            213         ['tf_op_layer_default_policy_wk1/\n",
            "                                                                 concat[0][0]']                   \n",
            "                                                                                                  \n",
            "==================================================================================================\n",
            "Total params: 213\n",
            "Trainable params: 213\n",
            "Non-trainable params: 0\n",
            "__________________________________________________________________________________________________\n"
          ]
        },
        {
          "output_type": "stream",
          "name": "stderr",
          "text": [
            "2023-03-17 15:57:11,262\tWARNING catalog.py:563 -- Custom ModelV2 should accept all custom options as **kwargs, instead of expecting them in config['custom_model_config']!\n"
          ]
        },
        {
          "output_type": "stream",
          "name": "stdout",
          "text": [
            "Total parameters in model: 9884\n",
            ":actor_name:RolloutWorker\n"
          ]
        },
        {
          "output_type": "stream",
          "name": "stderr",
          "text": [
            ":actor_name:RolloutWorker\n"
          ]
        },
        {
          "output_type": "stream",
          "name": "stdout",
          "text": [
            "Model: \"encoding_model\"\n",
            "__________________________________________________________________________________________________\n",
            " Layer (type)                   Output Shape         Param #     Connected to                     \n",
            "==================================================================================================\n",
            " cube_input (InputLayer)        [(None, 6, 3, 3)]    0           []                               \n",
            "                                                                                                  \n",
            " step_count_input (InputLayer)  [(None, 1)]          0           []                               \n",
            "                                                                                                  \n",
            " embedding (Embedding)          (None, 6, 3, 3, 4)   24          ['cube_input[0][0]']             \n",
            "                                                                                                  \n",
            " tf_op_layer_default_policy_wk2  [(None, 1)]         0           ['step_count_input[0][0]']       \n",
            " /truediv (TensorFlowOpLayer)                                                                     \n",
            "                                                                                                  \n",
            " flatten (Flatten)              (None, 216)          0           ['embedding[0][0]']              \n",
            "                                                                                                  \n",
            " dense (Dense)                  (None, 4)            8           ['tf_op_layer_default_policy_wk2/\n",
            "                                                                 truediv[0][0]']                  \n",
            "                                                                                                  \n",
            " concatenate (Concatenate)      (None, 220)          0           ['flatten[0][0]',                \n",
            "                                                                  'dense[0][0]']                  \n",
            "                                                                                                  \n",
            " dense_1 (Dense)                (None, 32)           7072        ['concatenate[0][0]']            \n",
            "                                                                                                  \n",
            " dense_2 (Dense)                (None, 64)           2112        ['dense_1[0][0]']                \n",
            "                                                                                                  \n",
            " dense_3 (Dense)                (None, 1)            65          ['dense_2[0][0]']                \n",
            "                                                                                                  \n",
            "==================================================================================================\n",
            "Total params: 9,281\n",
            "Trainable params: 9,281\n",
            "Non-trainable params: 0\n",
            "__________________________________________________________________________________________________\n",
            "Model: \"face_selection_model\"\n",
            "_________________________________________________________________\n",
            " Layer (type)                Output Shape              Param #   \n",
            "=================================================================\n",
            " input_1 (InputLayer)        [(None, 64)]              0         \n",
            "                                                                 \n",
            " dense_4 (Dense)             (None, 6)                 390       \n",
            "                                                                 \n",
            "=================================================================\n",
            "Total params: 390\n",
            "Trainable params: 390\n",
            "Non-trainable params: 0\n",
            "_________________________________________________________________\n",
            "Model: \"cube_movement_amount_selection_model\"\n",
            "__________________________________________________________________________________________________\n",
            " Layer (type)                   Output Shape         Param #     Connected to                     \n",
            "==================================================================================================\n",
            " selected_face_input (InputLaye  [(None,)]           0           []                               \n",
            " r)                                                                                               \n",
            "                                                                                                  \n",
            " input_1 (InputLayer)           [(None, 64)]         0           []                               \n",
            "                                                                                                  \n",
            " tf_op_layer_default_policy_wk2  [(None, 6)]         0           ['selected_face_input[0][0]']    \n",
            " /one_hot (TensorFlowOpLayer)                                                                     \n",
            "                                                                                                  \n",
            " tf_op_layer_default_policy_wk2  [(None, 70)]        0           ['input_1[0][0]',                \n",
            " /concat (TensorFlowOpLayer)                                      'tf_op_layer_default_policy_wk2/\n",
            "                                                                 one_hot[0][0]']                  \n",
            "                                                                                                  \n",
            " dense_5 (Dense)                (None, 3)            213         ['tf_op_layer_default_policy_wk2/\n",
            "                                                                 concat[0][0]']                   \n",
            "                                                                                                  \n",
            "==================================================================================================\n",
            "Total params: 213\n",
            "Trainable params: 213\n",
            "Non-trainable params: 0\n",
            "__________________________________________________________________________________________________\n"
          ]
        },
        {
          "output_type": "stream",
          "name": "stderr",
          "text": [
            "2023-03-17 15:57:13,724\tWARNING catalog.py:563 -- Custom ModelV2 should accept all custom options as **kwargs, instead of expecting them in config['custom_model_config']!\n"
          ]
        },
        {
          "output_type": "stream",
          "name": "stdout",
          "text": [
            "Total parameters in model: 9884\n",
            "Model: \"encoding_model\"\n",
            "__________________________________________________________________________________________________\n",
            " Layer (type)                   Output Shape         Param #     Connected to                     \n",
            "==================================================================================================\n",
            " cube_input (InputLayer)        [(None, 6, 3, 3)]    0           []                               \n",
            "                                                                                                  \n",
            " step_count_input (InputLayer)  [(None, 1)]          0           []                               \n",
            "                                                                                                  \n",
            " embedding (Embedding)          (None, 6, 3, 3, 4)   24          ['cube_input[0][0]']             \n",
            "                                                                                                  \n",
            " tf_op_layer_default_policy/tru  [(None, 1)]         0           ['step_count_input[0][0]']       \n",
            " ediv (TensorFlowOpLayer)                                                                         \n",
            "                                                                                                  \n",
            " flatten (Flatten)              (None, 216)          0           ['embedding[0][0]']              \n",
            "                                                                                                  \n",
            " dense (Dense)                  (None, 4)            8           ['tf_op_layer_default_policy/true\n",
            "                                                                 div[0][0]']                      \n",
            "                                                                                                  \n",
            " concatenate (Concatenate)      (None, 220)          0           ['flatten[0][0]',                \n",
            "                                                                  'dense[0][0]']                  \n",
            "                                                                                                  \n",
            " dense_1 (Dense)                (None, 32)           7072        ['concatenate[0][0]']            \n",
            "                                                                                                  \n",
            " dense_2 (Dense)                (None, 64)           2112        ['dense_1[0][0]']                \n",
            "                                                                                                  \n",
            " dense_3 (Dense)                (None, 1)            65          ['dense_2[0][0]']                \n",
            "                                                                                                  \n",
            "==================================================================================================\n",
            "Total params: 9,281\n",
            "Trainable params: 9,281\n",
            "Non-trainable params: 0\n",
            "__________________________________________________________________________________________________\n",
            "Model: \"face_selection_model\"\n",
            "_________________________________________________________________\n",
            " Layer (type)                Output Shape              Param #   \n",
            "=================================================================\n",
            " input_1 (InputLayer)        [(None, 64)]              0         \n",
            "                                                                 \n",
            " dense_4 (Dense)             (None, 6)                 390       \n",
            "                                                                 \n",
            "=================================================================\n",
            "Total params: 390\n",
            "Trainable params: 390\n",
            "Non-trainable params: 0\n",
            "_________________________________________________________________\n",
            "Model: \"cube_movement_amount_selection_model\"\n",
            "__________________________________________________________________________________________________\n",
            " Layer (type)                   Output Shape         Param #     Connected to                     \n",
            "==================================================================================================\n",
            " selected_face_input (InputLaye  [(None,)]           0           []                               \n",
            " r)                                                                                               \n",
            "                                                                                                  \n",
            " input_1 (InputLayer)           [(None, 64)]         0           []                               \n",
            "                                                                                                  \n",
            " tf_op_layer_default_policy/one  [(None, 6)]         0           ['selected_face_input[0][0]']    \n",
            " _hot (TensorFlowOpLayer)                                                                         \n",
            "                                                                                                  \n",
            " tf_op_layer_default_policy/con  [(None, 70)]        0           ['input_1[0][0]',                \n",
            " cat (TensorFlowOpLayer)                                          'tf_op_layer_default_policy/one_\n",
            "                                                                 hot[0][0]']                      \n",
            "                                                                                                  \n",
            " dense_5 (Dense)                (None, 3)            213         ['tf_op_layer_default_policy/conc\n",
            "                                                                 at[0][0]']                       \n",
            "                                                                                                  \n",
            "==================================================================================================\n",
            "Total params: 213\n",
            "Trainable params: 213\n",
            "Non-trainable params: 0\n",
            "__________________________________________________________________________________________________\n"
          ]
        },
        {
          "output_type": "stream",
          "name": "stderr",
          "text": [
            "2023-03-17 15:57:16,456\tWARNING catalog.py:563 -- Custom ModelV2 should accept all custom options as **kwargs, instead of expecting them in config['custom_model_config']!\n"
          ]
        },
        {
          "output_type": "stream",
          "name": "stdout",
          "text": [
            "Total parameters in model: 9884\n"
          ]
        },
        {
          "output_type": "stream",
          "name": "stderr",
          "text": [
            "2023-03-17 15:57:19,504\tWARNING util.py:66 -- Install gputil for GPU system monitoring.\n",
            "2023-03-17 15:57:19,993\tINFO trainable.py:790 -- Restored on 172.28.0.12 from checkpoint: /root/ray_results/PPO/PPO_rubiks_cube_env_7ca85_00000_0_2023-03-17_15-50-48/checkpoint_000004\n",
            "2023-03-17 15:57:19,999\tINFO trainable.py:799 -- Current state after restoring: {'_iteration': 4, '_timesteps_total': None, '_time_total': 61.27785301208496, '_episodes_total': 1609}\n"
          ]
        }
      ],
      "source": [
        "# Example on a smaller set of seeds\n",
        "\n",
        "main_rollout(seeds=PUBLIC_SEEDS,\n",
        "             checkpoint_path=\"/root/ray_results/PPO/PPO_rubiks_cube_env_7ca85_00000_0_2023-03-17_15-50-48/checkpoint_000004/\", \n",
        "             results_path=\"sample_results.txt\")"
      ]
    },
    {
      "cell_type": "markdown",
      "id": "ca6a18a4",
      "metadata": {
        "id": "ca6a18a4"
      },
      "source": [
        "Finally, you can run the script python evaluation/validate_rollout.py to make sure that the results are given in a format the platform can understand. For more information on how to use this script, run python evaluation/validate_rollout.py --help"
      ]
    },
    {
      "cell_type": "code",
      "execution_count": 22,
      "id": "7969cd91",
      "metadata": {
        "id": "7969cd91",
        "outputId": "001aa181-620f-492b-9b91-824b8ea67768",
        "colab": {
          "base_uri": "https://localhost:8080/"
        }
      },
      "outputs": [
        {
          "output_type": "stream",
          "name": "stdout",
          "text": [
            "Validating rollouts on easy difficulty...\n"
          ]
        },
        {
          "output_type": "stream",
          "name": "stderr",
          "text": [
            "100%|██████████| 85004/85004 [00:27<00:00, 3054.32it/s]\n"
          ]
        },
        {
          "output_type": "stream",
          "name": "stdout",
          "text": [
            "Validating rollouts on medium difficulty...\n"
          ]
        },
        {
          "output_type": "stream",
          "name": "stderr",
          "text": [
            "100%|██████████| 85004/85004 [00:56<00:00, 1510.82it/s]\n"
          ]
        },
        {
          "output_type": "stream",
          "name": "stdout",
          "text": [
            "Validating rollouts on hard difficulty...\n"
          ]
        },
        {
          "output_type": "stream",
          "name": "stderr",
          "text": [
            "100%|██████████| 85004/85004 [01:13<00:00, 1162.00it/s]"
          ]
        },
        {
          "output_type": "stream",
          "name": "stdout",
          "text": [
            "You scored 0.04016666666666666!\n"
          ]
        },
        {
          "output_type": "stream",
          "name": "stderr",
          "text": [
            "\n"
          ]
        }
      ],
      "source": [
        "score = main_validation(results_path=\"sample_results.txt\", public_seeds=PUBLIC_SEEDS)\n",
        "print(f\"You scored {score}!\")"
      ]
    },
    {
      "cell_type": "code",
      "execution_count": null,
      "id": "f440e965",
      "metadata": {
        "id": "f440e965"
      },
      "outputs": [],
      "source": []
    }
  ],
  "metadata": {
    "kernelspec": {
      "display_name": "tf-m1",
      "language": "python",
      "name": "python3"
    },
    "language_info": {
      "codemirror_mode": {
        "name": "ipython",
        "version": 3
      },
      "file_extension": ".py",
      "mimetype": "text/x-python",
      "name": "python",
      "nbconvert_exporter": "python",
      "pygments_lexer": "ipython3",
      "version": "3.10.9"
    },
    "vscode": {
      "interpreter": {
        "hash": "1cde28afd93c7143bc72c225d04bd2b8ae8bdabbf912bf311051d0c68a36d23f"
      }
    },
    "colab": {
      "provenance": []
    }
  },
  "nbformat": 4,
  "nbformat_minor": 5
}